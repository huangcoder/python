{
  "nbformat": 4,
  "nbformat_minor": 0,
  "metadata": {
    "accelerator": "GPU",
    "colab": {
      "name": "Credit card fraud detection.ipynb",
      "provenance": [],
      "collapsed_sections": [
        "wtx6fARRo2Yg",
        "Y7pmnPJ0E33n"
      ],
      "toc_visible": true,
      "machine_shape": "hm",
      "include_colab_link": true
    },
    "kernelspec": {
      "display_name": "Python 3",
      "name": "python3"
    },
    "language_info": {
      "name": "python"
    }
  },
  "cells": [
    {
      "cell_type": "markdown",
      "metadata": {
        "id": "view-in-github",
        "colab_type": "text"
      },
      "source": [
        "<a href=\"https://colab.research.google.com/github/huangcoder/python-learning/blob/main/Credit_card_fraud_detection.ipynb\" target=\"_parent\"><img src=\"https://colab.research.google.com/assets/colab-badge.svg\" alt=\"Open In Colab\"/></a>"
      ]
    },
    {
      "cell_type": "markdown",
      "metadata": {
        "id": "FPpg3hC9FPxf"
      },
      "source": [
        "# Load datasets from Kaggle"
      ]
    },
    {
      "cell_type": "code",
      "metadata": {
        "colab": {
          "base_uri": "https://localhost:8080/"
        },
        "id": "VMYmOOOB2Mtb",
        "outputId": "5ed5ec52-82d8-4fd7-b503-3e0105813b04"
      },
      "source": [
        "!pip install kaggle"
      ],
      "execution_count": null,
      "outputs": [
        {
          "output_type": "stream",
          "text": [
            "Requirement already satisfied: kaggle in /usr/local/lib/python3.7/dist-packages (1.5.12)\n",
            "Requirement already satisfied: tqdm in /usr/local/lib/python3.7/dist-packages (from kaggle) (4.41.1)\n",
            "Requirement already satisfied: six>=1.10 in /usr/local/lib/python3.7/dist-packages (from kaggle) (1.15.0)\n",
            "Requirement already satisfied: python-slugify in /usr/local/lib/python3.7/dist-packages (from kaggle) (4.0.1)\n",
            "Requirement already satisfied: urllib3 in /usr/local/lib/python3.7/dist-packages (from kaggle) (1.24.3)\n",
            "Requirement already satisfied: python-dateutil in /usr/local/lib/python3.7/dist-packages (from kaggle) (2.8.1)\n",
            "Requirement already satisfied: requests in /usr/local/lib/python3.7/dist-packages (from kaggle) (2.23.0)\n",
            "Requirement already satisfied: certifi in /usr/local/lib/python3.7/dist-packages (from kaggle) (2020.12.5)\n",
            "Requirement already satisfied: text-unidecode>=1.3 in /usr/local/lib/python3.7/dist-packages (from python-slugify->kaggle) (1.3)\n",
            "Requirement already satisfied: chardet<4,>=3.0.2 in /usr/local/lib/python3.7/dist-packages (from requests->kaggle) (3.0.4)\n",
            "Requirement already satisfied: idna<3,>=2.5 in /usr/local/lib/python3.7/dist-packages (from requests->kaggle) (2.10)\n"
          ],
          "name": "stdout"
        }
      ]
    },
    {
      "cell_type": "code",
      "metadata": {
        "id": "PJWMU6VF5-0y"
      },
      "source": [
        "!mkdir .kaggle"
      ],
      "execution_count": null,
      "outputs": []
    },
    {
      "cell_type": "code",
      "metadata": {
        "id": "HYG5CWkGDYCj"
      },
      "source": [
        "import json\n",
        "token = {\"username\":\"huangcoder\",\"key\":\"a8700ce8a034c7046ceb379c516799bb\"}\n",
        "with open('/content/.kaggle/kaggle.json', 'w') as file:\n",
        "    json.dump(token, file)"
      ],
      "execution_count": null,
      "outputs": []
    },
    {
      "cell_type": "code",
      "metadata": {
        "id": "OlWk1-NcDYKB",
        "colab": {
          "base_uri": "https://localhost:8080/"
        },
        "outputId": "579d426d-81b6-4022-f130-f04155181b44"
      },
      "source": [
        "!cp /content/.kaggle/kaggle.json ~/.kaggle/kaggle.json"
      ],
      "execution_count": null,
      "outputs": [
        {
          "output_type": "stream",
          "text": [
            "cp: cannot create regular file '/root/.kaggle/kaggle.json': No such file or directory\n"
          ],
          "name": "stdout"
        }
      ]
    },
    {
      "cell_type": "code",
      "metadata": {
        "colab": {
          "base_uri": "https://localhost:8080/"
        },
        "id": "x0GiOSyHDYM9",
        "outputId": "d544c274-9a6f-448f-ab65-b1ec056fd63e"
      },
      "source": [
        "!kaggle config set -n path -v{/content}"
      ],
      "execution_count": null,
      "outputs": [
        {
          "output_type": "stream",
          "text": [
            "Traceback (most recent call last):\n",
            "  File \"/usr/local/bin/kaggle\", line 5, in <module>\n",
            "    from kaggle.cli import main\n",
            "  File \"/usr/local/lib/python2.7/dist-packages/kaggle/__init__.py\", line 23, in <module>\n",
            "    api.authenticate()\n",
            "  File \"/usr/local/lib/python2.7/dist-packages/kaggle/api/kaggle_api_extended.py\", line 146, in authenticate\n",
            "    self.config_file, self.config_dir))\n",
            "IOError: Could not find kaggle.json. Make sure it's located in /root/.kaggle. Or use the environment method.\n"
          ],
          "name": "stdout"
        }
      ]
    },
    {
      "cell_type": "code",
      "metadata": {
        "id": "aBaQVvX_DYPk",
        "colab": {
          "base_uri": "https://localhost:8080/"
        },
        "outputId": "1031c58e-0818-4e68-89b0-7fb52329c6cc"
      },
      "source": [
        "!chmod 600 /root/.kaggle/kaggle.json"
      ],
      "execution_count": null,
      "outputs": [
        {
          "output_type": "stream",
          "text": [
            "chmod: cannot access '/root/.kaggle/kaggle.json': No such file or directory\n"
          ],
          "name": "stdout"
        }
      ]
    },
    {
      "cell_type": "code",
      "metadata": {
        "colab": {
          "base_uri": "https://localhost:8080/"
        },
        "id": "uCYbde1bEtE9",
        "outputId": "e00c2414-01a1-4a6d-fea5-da73223f9311"
      },
      "source": [
        "!kaggle datasets list"
      ],
      "execution_count": null,
      "outputs": [
        {
          "output_type": "stream",
          "text": [
            "Traceback (most recent call last):\n",
            "  File \"/usr/local/bin/kaggle\", line 5, in <module>\n",
            "    from kaggle.cli import main\n",
            "  File \"/usr/local/lib/python2.7/dist-packages/kaggle/__init__.py\", line 23, in <module>\n",
            "    api.authenticate()\n",
            "  File \"/usr/local/lib/python2.7/dist-packages/kaggle/api/kaggle_api_extended.py\", line 146, in authenticate\n",
            "    self.config_file, self.config_dir))\n",
            "IOError: Could not find kaggle.json. Make sure it's located in /root/.kaggle. Or use the environment method.\n"
          ],
          "name": "stdout"
        }
      ]
    },
    {
      "cell_type": "code",
      "metadata": {
        "colab": {
          "base_uri": "https://localhost:8080/"
        },
        "id": "ngYLtaUPEtHg",
        "outputId": "8655ba29-e261-48aa-d648-c963a9935e8e"
      },
      "source": [
        "!kaggle datasets download -d mlg-ulb/creditcardfraud -p /content"
      ],
      "execution_count": null,
      "outputs": [
        {
          "output_type": "stream",
          "text": [
            "Traceback (most recent call last):\n",
            "  File \"/usr/local/bin/kaggle\", line 5, in <module>\n",
            "    from kaggle.cli import main\n",
            "  File \"/usr/local/lib/python2.7/dist-packages/kaggle/__init__.py\", line 23, in <module>\n",
            "    api.authenticate()\n",
            "  File \"/usr/local/lib/python2.7/dist-packages/kaggle/api/kaggle_api_extended.py\", line 146, in authenticate\n",
            "    self.config_file, self.config_dir))\n",
            "IOError: Could not find kaggle.json. Make sure it's located in /root/.kaggle. Or use the environment method.\n"
          ],
          "name": "stdout"
        }
      ]
    },
    {
      "cell_type": "code",
      "metadata": {
        "colab": {
          "base_uri": "https://localhost:8080/"
        },
        "id": "7MdqXIFxEtKL",
        "outputId": "5076e773-bfeb-4fde-86d2-0eea1474a7e9"
      },
      "source": [
        "!unzip \\*.zip"
      ],
      "execution_count": null,
      "outputs": [
        {
          "output_type": "stream",
          "text": [
            "unzip:  cannot find or open *.zip, *.zip.zip or *.zip.ZIP.\n",
            "\n",
            "No zipfiles found.\n"
          ],
          "name": "stdout"
        }
      ]
    },
    {
      "cell_type": "code",
      "metadata": {
        "colab": {
          "base_uri": "https://localhost:8080/"
        },
        "id": "o0LiS4Xl0rw9",
        "outputId": "fe52f102-fd53-4d5b-e8d7-a2d05ebee857"
      },
      "source": [
        "pip install deep-forest"
      ],
      "execution_count": null,
      "outputs": [
        {
          "output_type": "stream",
          "text": [
            "Collecting deep-forest\n",
            "\u001b[?25l  Downloading https://files.pythonhosted.org/packages/ab/38/f9f9278817c4b226aeeb854abdd8467d410436a831349377a9bb1d030095/deep_forest-0.1.4-cp37-cp37m-manylinux2010_x86_64.whl (2.4MB)\n",
            "\u001b[K     |████████████████████████████████| 2.4MB 7.3MB/s \n",
            "\u001b[?25hRequirement already satisfied: scikit-learn>=0.22 in /usr/local/lib/python3.7/dist-packages (from deep-forest) (0.22.2.post1)\n",
            "Requirement already satisfied: joblib>=0.11 in /usr/local/lib/python3.7/dist-packages (from deep-forest) (1.0.1)\n",
            "Requirement already satisfied: numpy<1.20.0,>=1.16.0 in /usr/local/lib/python3.7/dist-packages (from deep-forest) (1.19.5)\n",
            "Requirement already satisfied: scipy>=0.19.1 in /usr/local/lib/python3.7/dist-packages (from deep-forest) (1.4.1)\n",
            "Installing collected packages: deep-forest\n",
            "Successfully installed deep-forest-0.1.4\n"
          ],
          "name": "stdout"
        }
      ]
    },
    {
      "cell_type": "markdown",
      "metadata": {
        "id": "dKxU-rf19BHI"
      },
      "source": [
        "# Load datasets from Google Drive"
      ]
    },
    {
      "cell_type": "code",
      "metadata": {
        "colab": {
          "base_uri": "https://localhost:8080/"
        },
        "id": "Gx2Qr3H69KT9",
        "outputId": "c7a5db33-2bf8-4b5a-c9d2-89c17b4a715b"
      },
      "source": [
        "from google.colab import drive\n",
        "drive.mount('/content/drive')"
      ],
      "execution_count": 1,
      "outputs": [
        {
          "output_type": "stream",
          "text": [
            "Mounted at /content/drive\n"
          ],
          "name": "stdout"
        }
      ]
    },
    {
      "cell_type": "markdown",
      "metadata": {
        "id": "l-hSIqnE9z4x"
      },
      "source": [
        "filepath: /content/drive/MyDrive/Colab Notebooks/creditcard.csv"
      ]
    },
    {
      "cell_type": "code",
      "metadata": {
        "colab": {
          "base_uri": "https://localhost:8080/"
        },
        "id": "7M2THMD-9LPs",
        "outputId": "0545170f-f6db-46db-f311-2e40eb1d29fe"
      },
      "source": [
        "pip install deep-forest"
      ],
      "execution_count": 2,
      "outputs": [
        {
          "output_type": "stream",
          "text": [
            "Collecting deep-forest\n",
            "\u001b[?25l  Downloading https://files.pythonhosted.org/packages/af/ce/ba656f54c61fa6a349bb633d92d8434772e68a8d74891d59f2492305eb40/deep_forest-0.1.5-cp37-cp37m-manylinux2010_x86_64.whl (2.4MB)\n",
            "\u001b[K     |████████████████████████████████| 2.4MB 8.0MB/s \n",
            "\u001b[?25hRequirement already satisfied: numpy<1.20.0,>=1.16.0 in /usr/local/lib/python3.7/dist-packages (from deep-forest) (1.19.5)\n",
            "Requirement already satisfied: scikit-learn>=0.22 in /usr/local/lib/python3.7/dist-packages (from deep-forest) (0.22.2.post1)\n",
            "Requirement already satisfied: joblib>=0.11 in /usr/local/lib/python3.7/dist-packages (from deep-forest) (1.0.1)\n",
            "Requirement already satisfied: scipy>=0.19.1 in /usr/local/lib/python3.7/dist-packages (from deep-forest) (1.4.1)\n",
            "Installing collected packages: deep-forest\n",
            "Successfully installed deep-forest-0.1.5\n"
          ],
          "name": "stdout"
        }
      ]
    },
    {
      "cell_type": "markdown",
      "metadata": {
        "id": "w76F978b9los"
      },
      "source": [
        "# 0 Data Describe\n"
      ]
    },
    {
      "cell_type": "code",
      "metadata": {
        "id": "BOqrVa3F9vYQ",
        "colab": {
          "base_uri": "https://localhost:8080/"
        },
        "outputId": "78995e05-8d4a-497e-d7a5-f16681b326eb"
      },
      "source": [
        "import pandas as pd\n",
        "import matplotlib.pyplot as plt\n",
        "import numpy as np\n",
        "import seaborn as sns\n",
        "import sklearn as sklearn\n",
        "\n",
        "## import model\n",
        "from sklearn.tree import DecisionTreeClassifier  ## CART\n",
        "from sklearn.ensemble import RandomForestClassifier, VotingClassifier  ##RF\n",
        "import xgboost as xgb ##XGB\n",
        "import lightgbm as lgb  ##LGB\n",
        "from deepforest import CascadeForestClassifier  ##DF\n",
        "\n",
        "from xgboost import XGBClassifier \n",
        "from lightgbm import LGBMClassifier\n",
        "\n",
        "\n",
        "from keras.models import Sequential\n",
        "from keras.layers import Dense\n",
        "from keras.layers import Dropout\n",
        "from keras.layers.recurrent import LSTM\n",
        "\n",
        "\n",
        "from scipy.stats import norm\n",
        "from sklearn.utils import resample\n",
        "from collections import Counter\n",
        "from sklearn.preprocessing import StandardScaler\n",
        "from sklearn.model_selection import train_test_split, GridSearchCV, StratifiedKFold\n",
        "\n",
        "\n",
        "\n",
        "from sklearn.metrics import confusion_matrix, classification_report, recall_score, roc_auc_score, precision_recall_curve, roc_curve, auc, average_precision_score, f1_score, accuracy_score, precision_score\n",
        "from imblearn.over_sampling import SMOTE, BorderlineSMOTE, SVMSMOTE, ADASYN\n",
        "\n",
        "%matplotlib inline \n",
        "import warnings\n",
        "warnings.filterwarnings('ignore')\n"
      ],
      "execution_count": 3,
      "outputs": [
        {
          "output_type": "stream",
          "text": [
            "/usr/local/lib/python3.7/dist-packages/sklearn/externals/six.py:31: FutureWarning: The module is deprecated in version 0.21 and will be removed in version 0.23 since we've dropped support for Python 2.7. Please rely on the official version of six (https://pypi.org/project/six/).\n",
            "  \"(https://pypi.org/project/six/).\", FutureWarning)\n",
            "/usr/local/lib/python3.7/dist-packages/sklearn/utils/deprecation.py:144: FutureWarning: The sklearn.neighbors.base module is  deprecated in version 0.22 and will be removed in version 0.24. The corresponding classes / functions should instead be imported from sklearn.neighbors. Anything that cannot be imported from sklearn.neighbors is now part of the private API.\n",
            "  warnings.warn(message, FutureWarning)\n"
          ],
          "name": "stderr"
        }
      ]
    },
    {
      "cell_type": "code",
      "metadata": {
        "colab": {
          "base_uri": "https://localhost:8080/",
          "height": 224
        },
        "id": "4pZ1-RfNGPNm",
        "outputId": "8967b7bc-d877-471d-f899-f40db8ad23dd"
      },
      "source": [
        "df=pd.read_csv(\"/content/drive/MyDrive/creditcard.csv\")\n",
        "df.head()  ##Return the first 5 rows"
      ],
      "execution_count": 4,
      "outputs": [
        {
          "output_type": "execute_result",
          "data": {
            "text/html": [
              "<div>\n",
              "<style scoped>\n",
              "    .dataframe tbody tr th:only-of-type {\n",
              "        vertical-align: middle;\n",
              "    }\n",
              "\n",
              "    .dataframe tbody tr th {\n",
              "        vertical-align: top;\n",
              "    }\n",
              "\n",
              "    .dataframe thead th {\n",
              "        text-align: right;\n",
              "    }\n",
              "</style>\n",
              "<table border=\"1\" class=\"dataframe\">\n",
              "  <thead>\n",
              "    <tr style=\"text-align: right;\">\n",
              "      <th></th>\n",
              "      <th>Time</th>\n",
              "      <th>V1</th>\n",
              "      <th>V2</th>\n",
              "      <th>V3</th>\n",
              "      <th>V4</th>\n",
              "      <th>V5</th>\n",
              "      <th>V6</th>\n",
              "      <th>V7</th>\n",
              "      <th>V8</th>\n",
              "      <th>V9</th>\n",
              "      <th>V10</th>\n",
              "      <th>V11</th>\n",
              "      <th>V12</th>\n",
              "      <th>V13</th>\n",
              "      <th>V14</th>\n",
              "      <th>V15</th>\n",
              "      <th>V16</th>\n",
              "      <th>V17</th>\n",
              "      <th>V18</th>\n",
              "      <th>V19</th>\n",
              "      <th>V20</th>\n",
              "      <th>V21</th>\n",
              "      <th>V22</th>\n",
              "      <th>V23</th>\n",
              "      <th>V24</th>\n",
              "      <th>V25</th>\n",
              "      <th>V26</th>\n",
              "      <th>V27</th>\n",
              "      <th>V28</th>\n",
              "      <th>Amount</th>\n",
              "      <th>Class</th>\n",
              "    </tr>\n",
              "  </thead>\n",
              "  <tbody>\n",
              "    <tr>\n",
              "      <th>0</th>\n",
              "      <td>0.0</td>\n",
              "      <td>-1.359807</td>\n",
              "      <td>-0.072781</td>\n",
              "      <td>2.536347</td>\n",
              "      <td>1.378155</td>\n",
              "      <td>-0.338321</td>\n",
              "      <td>0.462388</td>\n",
              "      <td>0.239599</td>\n",
              "      <td>0.098698</td>\n",
              "      <td>0.363787</td>\n",
              "      <td>0.090794</td>\n",
              "      <td>-0.551600</td>\n",
              "      <td>-0.617801</td>\n",
              "      <td>-0.991390</td>\n",
              "      <td>-0.311169</td>\n",
              "      <td>1.468177</td>\n",
              "      <td>-0.470401</td>\n",
              "      <td>0.207971</td>\n",
              "      <td>0.025791</td>\n",
              "      <td>0.403993</td>\n",
              "      <td>0.251412</td>\n",
              "      <td>-0.018307</td>\n",
              "      <td>0.277838</td>\n",
              "      <td>-0.110474</td>\n",
              "      <td>0.066928</td>\n",
              "      <td>0.128539</td>\n",
              "      <td>-0.189115</td>\n",
              "      <td>0.133558</td>\n",
              "      <td>-0.021053</td>\n",
              "      <td>149.62</td>\n",
              "      <td>0</td>\n",
              "    </tr>\n",
              "    <tr>\n",
              "      <th>1</th>\n",
              "      <td>0.0</td>\n",
              "      <td>1.191857</td>\n",
              "      <td>0.266151</td>\n",
              "      <td>0.166480</td>\n",
              "      <td>0.448154</td>\n",
              "      <td>0.060018</td>\n",
              "      <td>-0.082361</td>\n",
              "      <td>-0.078803</td>\n",
              "      <td>0.085102</td>\n",
              "      <td>-0.255425</td>\n",
              "      <td>-0.166974</td>\n",
              "      <td>1.612727</td>\n",
              "      <td>1.065235</td>\n",
              "      <td>0.489095</td>\n",
              "      <td>-0.143772</td>\n",
              "      <td>0.635558</td>\n",
              "      <td>0.463917</td>\n",
              "      <td>-0.114805</td>\n",
              "      <td>-0.183361</td>\n",
              "      <td>-0.145783</td>\n",
              "      <td>-0.069083</td>\n",
              "      <td>-0.225775</td>\n",
              "      <td>-0.638672</td>\n",
              "      <td>0.101288</td>\n",
              "      <td>-0.339846</td>\n",
              "      <td>0.167170</td>\n",
              "      <td>0.125895</td>\n",
              "      <td>-0.008983</td>\n",
              "      <td>0.014724</td>\n",
              "      <td>2.69</td>\n",
              "      <td>0</td>\n",
              "    </tr>\n",
              "    <tr>\n",
              "      <th>2</th>\n",
              "      <td>1.0</td>\n",
              "      <td>-1.358354</td>\n",
              "      <td>-1.340163</td>\n",
              "      <td>1.773209</td>\n",
              "      <td>0.379780</td>\n",
              "      <td>-0.503198</td>\n",
              "      <td>1.800499</td>\n",
              "      <td>0.791461</td>\n",
              "      <td>0.247676</td>\n",
              "      <td>-1.514654</td>\n",
              "      <td>0.207643</td>\n",
              "      <td>0.624501</td>\n",
              "      <td>0.066084</td>\n",
              "      <td>0.717293</td>\n",
              "      <td>-0.165946</td>\n",
              "      <td>2.345865</td>\n",
              "      <td>-2.890083</td>\n",
              "      <td>1.109969</td>\n",
              "      <td>-0.121359</td>\n",
              "      <td>-2.261857</td>\n",
              "      <td>0.524980</td>\n",
              "      <td>0.247998</td>\n",
              "      <td>0.771679</td>\n",
              "      <td>0.909412</td>\n",
              "      <td>-0.689281</td>\n",
              "      <td>-0.327642</td>\n",
              "      <td>-0.139097</td>\n",
              "      <td>-0.055353</td>\n",
              "      <td>-0.059752</td>\n",
              "      <td>378.66</td>\n",
              "      <td>0</td>\n",
              "    </tr>\n",
              "    <tr>\n",
              "      <th>3</th>\n",
              "      <td>1.0</td>\n",
              "      <td>-0.966272</td>\n",
              "      <td>-0.185226</td>\n",
              "      <td>1.792993</td>\n",
              "      <td>-0.863291</td>\n",
              "      <td>-0.010309</td>\n",
              "      <td>1.247203</td>\n",
              "      <td>0.237609</td>\n",
              "      <td>0.377436</td>\n",
              "      <td>-1.387024</td>\n",
              "      <td>-0.054952</td>\n",
              "      <td>-0.226487</td>\n",
              "      <td>0.178228</td>\n",
              "      <td>0.507757</td>\n",
              "      <td>-0.287924</td>\n",
              "      <td>-0.631418</td>\n",
              "      <td>-1.059647</td>\n",
              "      <td>-0.684093</td>\n",
              "      <td>1.965775</td>\n",
              "      <td>-1.232622</td>\n",
              "      <td>-0.208038</td>\n",
              "      <td>-0.108300</td>\n",
              "      <td>0.005274</td>\n",
              "      <td>-0.190321</td>\n",
              "      <td>-1.175575</td>\n",
              "      <td>0.647376</td>\n",
              "      <td>-0.221929</td>\n",
              "      <td>0.062723</td>\n",
              "      <td>0.061458</td>\n",
              "      <td>123.50</td>\n",
              "      <td>0</td>\n",
              "    </tr>\n",
              "    <tr>\n",
              "      <th>4</th>\n",
              "      <td>2.0</td>\n",
              "      <td>-1.158233</td>\n",
              "      <td>0.877737</td>\n",
              "      <td>1.548718</td>\n",
              "      <td>0.403034</td>\n",
              "      <td>-0.407193</td>\n",
              "      <td>0.095921</td>\n",
              "      <td>0.592941</td>\n",
              "      <td>-0.270533</td>\n",
              "      <td>0.817739</td>\n",
              "      <td>0.753074</td>\n",
              "      <td>-0.822843</td>\n",
              "      <td>0.538196</td>\n",
              "      <td>1.345852</td>\n",
              "      <td>-1.119670</td>\n",
              "      <td>0.175121</td>\n",
              "      <td>-0.451449</td>\n",
              "      <td>-0.237033</td>\n",
              "      <td>-0.038195</td>\n",
              "      <td>0.803487</td>\n",
              "      <td>0.408542</td>\n",
              "      <td>-0.009431</td>\n",
              "      <td>0.798278</td>\n",
              "      <td>-0.137458</td>\n",
              "      <td>0.141267</td>\n",
              "      <td>-0.206010</td>\n",
              "      <td>0.502292</td>\n",
              "      <td>0.219422</td>\n",
              "      <td>0.215153</td>\n",
              "      <td>69.99</td>\n",
              "      <td>0</td>\n",
              "    </tr>\n",
              "  </tbody>\n",
              "</table>\n",
              "</div>"
            ],
            "text/plain": [
              "   Time        V1        V2        V3  ...       V27       V28  Amount  Class\n",
              "0   0.0 -1.359807 -0.072781  2.536347  ...  0.133558 -0.021053  149.62      0\n",
              "1   0.0  1.191857  0.266151  0.166480  ... -0.008983  0.014724    2.69      0\n",
              "2   1.0 -1.358354 -1.340163  1.773209  ... -0.055353 -0.059752  378.66      0\n",
              "3   1.0 -0.966272 -0.185226  1.792993  ...  0.062723  0.061458  123.50      0\n",
              "4   2.0 -1.158233  0.877737  1.548718  ...  0.219422  0.215153   69.99      0\n",
              "\n",
              "[5 rows x 31 columns]"
            ]
          },
          "metadata": {
            "tags": []
          },
          "execution_count": 4
        }
      ]
    },
    {
      "cell_type": "code",
      "metadata": {
        "colab": {
          "base_uri": "https://localhost:8080/",
          "height": 317
        },
        "id": "AEsXJjymGTZa",
        "outputId": "16fc4a32-b9ae-4b7e-bfca-74fe4362e0cf"
      },
      "source": [
        "df.describe()   ## Generate descriptive statistics."
      ],
      "execution_count": null,
      "outputs": [
        {
          "output_type": "execute_result",
          "data": {
            "text/html": [
              "<div>\n",
              "<style scoped>\n",
              "    .dataframe tbody tr th:only-of-type {\n",
              "        vertical-align: middle;\n",
              "    }\n",
              "\n",
              "    .dataframe tbody tr th {\n",
              "        vertical-align: top;\n",
              "    }\n",
              "\n",
              "    .dataframe thead th {\n",
              "        text-align: right;\n",
              "    }\n",
              "</style>\n",
              "<table border=\"1\" class=\"dataframe\">\n",
              "  <thead>\n",
              "    <tr style=\"text-align: right;\">\n",
              "      <th></th>\n",
              "      <th>Time</th>\n",
              "      <th>V1</th>\n",
              "      <th>V2</th>\n",
              "      <th>V3</th>\n",
              "      <th>V4</th>\n",
              "      <th>V5</th>\n",
              "      <th>V6</th>\n",
              "      <th>V7</th>\n",
              "      <th>V8</th>\n",
              "      <th>V9</th>\n",
              "      <th>V10</th>\n",
              "      <th>V11</th>\n",
              "      <th>V12</th>\n",
              "      <th>V13</th>\n",
              "      <th>V14</th>\n",
              "      <th>V15</th>\n",
              "      <th>V16</th>\n",
              "      <th>V17</th>\n",
              "      <th>V18</th>\n",
              "      <th>V19</th>\n",
              "      <th>V20</th>\n",
              "      <th>V21</th>\n",
              "      <th>V22</th>\n",
              "      <th>V23</th>\n",
              "      <th>V24</th>\n",
              "      <th>V25</th>\n",
              "      <th>V26</th>\n",
              "      <th>V27</th>\n",
              "      <th>V28</th>\n",
              "      <th>Amount</th>\n",
              "      <th>Class</th>\n",
              "    </tr>\n",
              "  </thead>\n",
              "  <tbody>\n",
              "    <tr>\n",
              "      <th>count</th>\n",
              "      <td>284807.000000</td>\n",
              "      <td>2.848070e+05</td>\n",
              "      <td>2.848070e+05</td>\n",
              "      <td>2.848070e+05</td>\n",
              "      <td>2.848070e+05</td>\n",
              "      <td>2.848070e+05</td>\n",
              "      <td>2.848070e+05</td>\n",
              "      <td>2.848070e+05</td>\n",
              "      <td>2.848070e+05</td>\n",
              "      <td>2.848070e+05</td>\n",
              "      <td>2.848070e+05</td>\n",
              "      <td>2.848070e+05</td>\n",
              "      <td>2.848070e+05</td>\n",
              "      <td>2.848070e+05</td>\n",
              "      <td>2.848070e+05</td>\n",
              "      <td>2.848070e+05</td>\n",
              "      <td>2.848070e+05</td>\n",
              "      <td>2.848070e+05</td>\n",
              "      <td>2.848070e+05</td>\n",
              "      <td>2.848070e+05</td>\n",
              "      <td>2.848070e+05</td>\n",
              "      <td>2.848070e+05</td>\n",
              "      <td>2.848070e+05</td>\n",
              "      <td>2.848070e+05</td>\n",
              "      <td>2.848070e+05</td>\n",
              "      <td>2.848070e+05</td>\n",
              "      <td>2.848070e+05</td>\n",
              "      <td>2.848070e+05</td>\n",
              "      <td>2.848070e+05</td>\n",
              "      <td>284807.000000</td>\n",
              "      <td>284807.000000</td>\n",
              "    </tr>\n",
              "    <tr>\n",
              "      <th>mean</th>\n",
              "      <td>94813.859575</td>\n",
              "      <td>3.919560e-15</td>\n",
              "      <td>5.688174e-16</td>\n",
              "      <td>-8.769071e-15</td>\n",
              "      <td>2.782312e-15</td>\n",
              "      <td>-1.552563e-15</td>\n",
              "      <td>2.010663e-15</td>\n",
              "      <td>-1.694249e-15</td>\n",
              "      <td>-1.927028e-16</td>\n",
              "      <td>-3.137024e-15</td>\n",
              "      <td>1.768627e-15</td>\n",
              "      <td>9.170318e-16</td>\n",
              "      <td>-1.810658e-15</td>\n",
              "      <td>1.693438e-15</td>\n",
              "      <td>1.479045e-15</td>\n",
              "      <td>3.482336e-15</td>\n",
              "      <td>1.392007e-15</td>\n",
              "      <td>-7.528491e-16</td>\n",
              "      <td>4.328772e-16</td>\n",
              "      <td>9.049732e-16</td>\n",
              "      <td>5.085503e-16</td>\n",
              "      <td>1.537294e-16</td>\n",
              "      <td>7.959909e-16</td>\n",
              "      <td>5.367590e-16</td>\n",
              "      <td>4.458112e-15</td>\n",
              "      <td>1.453003e-15</td>\n",
              "      <td>1.699104e-15</td>\n",
              "      <td>-3.660161e-16</td>\n",
              "      <td>-1.206049e-16</td>\n",
              "      <td>88.349619</td>\n",
              "      <td>0.001727</td>\n",
              "    </tr>\n",
              "    <tr>\n",
              "      <th>std</th>\n",
              "      <td>47488.145955</td>\n",
              "      <td>1.958696e+00</td>\n",
              "      <td>1.651309e+00</td>\n",
              "      <td>1.516255e+00</td>\n",
              "      <td>1.415869e+00</td>\n",
              "      <td>1.380247e+00</td>\n",
              "      <td>1.332271e+00</td>\n",
              "      <td>1.237094e+00</td>\n",
              "      <td>1.194353e+00</td>\n",
              "      <td>1.098632e+00</td>\n",
              "      <td>1.088850e+00</td>\n",
              "      <td>1.020713e+00</td>\n",
              "      <td>9.992014e-01</td>\n",
              "      <td>9.952742e-01</td>\n",
              "      <td>9.585956e-01</td>\n",
              "      <td>9.153160e-01</td>\n",
              "      <td>8.762529e-01</td>\n",
              "      <td>8.493371e-01</td>\n",
              "      <td>8.381762e-01</td>\n",
              "      <td>8.140405e-01</td>\n",
              "      <td>7.709250e-01</td>\n",
              "      <td>7.345240e-01</td>\n",
              "      <td>7.257016e-01</td>\n",
              "      <td>6.244603e-01</td>\n",
              "      <td>6.056471e-01</td>\n",
              "      <td>5.212781e-01</td>\n",
              "      <td>4.822270e-01</td>\n",
              "      <td>4.036325e-01</td>\n",
              "      <td>3.300833e-01</td>\n",
              "      <td>250.120109</td>\n",
              "      <td>0.041527</td>\n",
              "    </tr>\n",
              "    <tr>\n",
              "      <th>min</th>\n",
              "      <td>0.000000</td>\n",
              "      <td>-5.640751e+01</td>\n",
              "      <td>-7.271573e+01</td>\n",
              "      <td>-4.832559e+01</td>\n",
              "      <td>-5.683171e+00</td>\n",
              "      <td>-1.137433e+02</td>\n",
              "      <td>-2.616051e+01</td>\n",
              "      <td>-4.355724e+01</td>\n",
              "      <td>-7.321672e+01</td>\n",
              "      <td>-1.343407e+01</td>\n",
              "      <td>-2.458826e+01</td>\n",
              "      <td>-4.797473e+00</td>\n",
              "      <td>-1.868371e+01</td>\n",
              "      <td>-5.791881e+00</td>\n",
              "      <td>-1.921433e+01</td>\n",
              "      <td>-4.498945e+00</td>\n",
              "      <td>-1.412985e+01</td>\n",
              "      <td>-2.516280e+01</td>\n",
              "      <td>-9.498746e+00</td>\n",
              "      <td>-7.213527e+00</td>\n",
              "      <td>-5.449772e+01</td>\n",
              "      <td>-3.483038e+01</td>\n",
              "      <td>-1.093314e+01</td>\n",
              "      <td>-4.480774e+01</td>\n",
              "      <td>-2.836627e+00</td>\n",
              "      <td>-1.029540e+01</td>\n",
              "      <td>-2.604551e+00</td>\n",
              "      <td>-2.256568e+01</td>\n",
              "      <td>-1.543008e+01</td>\n",
              "      <td>0.000000</td>\n",
              "      <td>0.000000</td>\n",
              "    </tr>\n",
              "    <tr>\n",
              "      <th>25%</th>\n",
              "      <td>54201.500000</td>\n",
              "      <td>-9.203734e-01</td>\n",
              "      <td>-5.985499e-01</td>\n",
              "      <td>-8.903648e-01</td>\n",
              "      <td>-8.486401e-01</td>\n",
              "      <td>-6.915971e-01</td>\n",
              "      <td>-7.682956e-01</td>\n",
              "      <td>-5.540759e-01</td>\n",
              "      <td>-2.086297e-01</td>\n",
              "      <td>-6.430976e-01</td>\n",
              "      <td>-5.354257e-01</td>\n",
              "      <td>-7.624942e-01</td>\n",
              "      <td>-4.055715e-01</td>\n",
              "      <td>-6.485393e-01</td>\n",
              "      <td>-4.255740e-01</td>\n",
              "      <td>-5.828843e-01</td>\n",
              "      <td>-4.680368e-01</td>\n",
              "      <td>-4.837483e-01</td>\n",
              "      <td>-4.988498e-01</td>\n",
              "      <td>-4.562989e-01</td>\n",
              "      <td>-2.117214e-01</td>\n",
              "      <td>-2.283949e-01</td>\n",
              "      <td>-5.423504e-01</td>\n",
              "      <td>-1.618463e-01</td>\n",
              "      <td>-3.545861e-01</td>\n",
              "      <td>-3.171451e-01</td>\n",
              "      <td>-3.269839e-01</td>\n",
              "      <td>-7.083953e-02</td>\n",
              "      <td>-5.295979e-02</td>\n",
              "      <td>5.600000</td>\n",
              "      <td>0.000000</td>\n",
              "    </tr>\n",
              "    <tr>\n",
              "      <th>50%</th>\n",
              "      <td>84692.000000</td>\n",
              "      <td>1.810880e-02</td>\n",
              "      <td>6.548556e-02</td>\n",
              "      <td>1.798463e-01</td>\n",
              "      <td>-1.984653e-02</td>\n",
              "      <td>-5.433583e-02</td>\n",
              "      <td>-2.741871e-01</td>\n",
              "      <td>4.010308e-02</td>\n",
              "      <td>2.235804e-02</td>\n",
              "      <td>-5.142873e-02</td>\n",
              "      <td>-9.291738e-02</td>\n",
              "      <td>-3.275735e-02</td>\n",
              "      <td>1.400326e-01</td>\n",
              "      <td>-1.356806e-02</td>\n",
              "      <td>5.060132e-02</td>\n",
              "      <td>4.807155e-02</td>\n",
              "      <td>6.641332e-02</td>\n",
              "      <td>-6.567575e-02</td>\n",
              "      <td>-3.636312e-03</td>\n",
              "      <td>3.734823e-03</td>\n",
              "      <td>-6.248109e-02</td>\n",
              "      <td>-2.945017e-02</td>\n",
              "      <td>6.781943e-03</td>\n",
              "      <td>-1.119293e-02</td>\n",
              "      <td>4.097606e-02</td>\n",
              "      <td>1.659350e-02</td>\n",
              "      <td>-5.213911e-02</td>\n",
              "      <td>1.342146e-03</td>\n",
              "      <td>1.124383e-02</td>\n",
              "      <td>22.000000</td>\n",
              "      <td>0.000000</td>\n",
              "    </tr>\n",
              "    <tr>\n",
              "      <th>75%</th>\n",
              "      <td>139320.500000</td>\n",
              "      <td>1.315642e+00</td>\n",
              "      <td>8.037239e-01</td>\n",
              "      <td>1.027196e+00</td>\n",
              "      <td>7.433413e-01</td>\n",
              "      <td>6.119264e-01</td>\n",
              "      <td>3.985649e-01</td>\n",
              "      <td>5.704361e-01</td>\n",
              "      <td>3.273459e-01</td>\n",
              "      <td>5.971390e-01</td>\n",
              "      <td>4.539234e-01</td>\n",
              "      <td>7.395934e-01</td>\n",
              "      <td>6.182380e-01</td>\n",
              "      <td>6.625050e-01</td>\n",
              "      <td>4.931498e-01</td>\n",
              "      <td>6.488208e-01</td>\n",
              "      <td>5.232963e-01</td>\n",
              "      <td>3.996750e-01</td>\n",
              "      <td>5.008067e-01</td>\n",
              "      <td>4.589494e-01</td>\n",
              "      <td>1.330408e-01</td>\n",
              "      <td>1.863772e-01</td>\n",
              "      <td>5.285536e-01</td>\n",
              "      <td>1.476421e-01</td>\n",
              "      <td>4.395266e-01</td>\n",
              "      <td>3.507156e-01</td>\n",
              "      <td>2.409522e-01</td>\n",
              "      <td>9.104512e-02</td>\n",
              "      <td>7.827995e-02</td>\n",
              "      <td>77.165000</td>\n",
              "      <td>0.000000</td>\n",
              "    </tr>\n",
              "    <tr>\n",
              "      <th>max</th>\n",
              "      <td>172792.000000</td>\n",
              "      <td>2.454930e+00</td>\n",
              "      <td>2.205773e+01</td>\n",
              "      <td>9.382558e+00</td>\n",
              "      <td>1.687534e+01</td>\n",
              "      <td>3.480167e+01</td>\n",
              "      <td>7.330163e+01</td>\n",
              "      <td>1.205895e+02</td>\n",
              "      <td>2.000721e+01</td>\n",
              "      <td>1.559499e+01</td>\n",
              "      <td>2.374514e+01</td>\n",
              "      <td>1.201891e+01</td>\n",
              "      <td>7.848392e+00</td>\n",
              "      <td>7.126883e+00</td>\n",
              "      <td>1.052677e+01</td>\n",
              "      <td>8.877742e+00</td>\n",
              "      <td>1.731511e+01</td>\n",
              "      <td>9.253526e+00</td>\n",
              "      <td>5.041069e+00</td>\n",
              "      <td>5.591971e+00</td>\n",
              "      <td>3.942090e+01</td>\n",
              "      <td>2.720284e+01</td>\n",
              "      <td>1.050309e+01</td>\n",
              "      <td>2.252841e+01</td>\n",
              "      <td>4.584549e+00</td>\n",
              "      <td>7.519589e+00</td>\n",
              "      <td>3.517346e+00</td>\n",
              "      <td>3.161220e+01</td>\n",
              "      <td>3.384781e+01</td>\n",
              "      <td>25691.160000</td>\n",
              "      <td>1.000000</td>\n",
              "    </tr>\n",
              "  </tbody>\n",
              "</table>\n",
              "</div>"
            ],
            "text/plain": [
              "                Time            V1  ...         Amount          Class\n",
              "count  284807.000000  2.848070e+05  ...  284807.000000  284807.000000\n",
              "mean    94813.859575  3.919560e-15  ...      88.349619       0.001727\n",
              "std     47488.145955  1.958696e+00  ...     250.120109       0.041527\n",
              "min         0.000000 -5.640751e+01  ...       0.000000       0.000000\n",
              "25%     54201.500000 -9.203734e-01  ...       5.600000       0.000000\n",
              "50%     84692.000000  1.810880e-02  ...      22.000000       0.000000\n",
              "75%    139320.500000  1.315642e+00  ...      77.165000       0.000000\n",
              "max    172792.000000  2.454930e+00  ...   25691.160000       1.000000\n",
              "\n",
              "[8 rows x 31 columns]"
            ]
          },
          "metadata": {
            "tags": []
          },
          "execution_count": 5
        }
      ]
    },
    {
      "cell_type": "markdown",
      "metadata": {
        "id": "9Ouoix3_HsRv"
      },
      "source": [
        "# 1 Data Analysis - by  Jiajie Xiong"
      ]
    },
    {
      "cell_type": "code",
      "metadata": {
        "colab": {
          "base_uri": "https://localhost:8080/"
        },
        "id": "4YIMkITiHwhf",
        "outputId": "1d8ef6e9-3bd6-4ed2-8023-0331a8979b09"
      },
      "source": [
        "# Good No Null Values!\n",
        "df.isnull().sum().max()"
      ],
      "execution_count": null,
      "outputs": [
        {
          "output_type": "execute_result",
          "data": {
            "text/plain": [
              "0"
            ]
          },
          "metadata": {
            "tags": []
          },
          "execution_count": 19
        }
      ]
    },
    {
      "cell_type": "code",
      "metadata": {
        "colab": {
          "base_uri": "https://localhost:8080/"
        },
        "id": "bvElT42wHy68",
        "outputId": "36cbae1a-2040-4e61-c5c7-b50e0b99bf61"
      },
      "source": [
        "df.columns"
      ],
      "execution_count": null,
      "outputs": [
        {
          "output_type": "execute_result",
          "data": {
            "text/plain": [
              "Index(['Time', 'V1', 'V2', 'V3', 'V4', 'V5', 'V6', 'V7', 'V8', 'V9', 'V10',\n",
              "       'V11', 'V12', 'V13', 'V14', 'V15', 'V16', 'V17', 'V18', 'V19', 'V20',\n",
              "       'V21', 'V22', 'V23', 'V24', 'V25', 'V26', 'V27', 'V28', 'Amount',\n",
              "       'Class'],\n",
              "      dtype='object')"
            ]
          },
          "metadata": {
            "tags": []
          },
          "execution_count": 20
        }
      ]
    },
    {
      "cell_type": "code",
      "metadata": {
        "colab": {
          "base_uri": "https://localhost:8080/"
        },
        "id": "8auS8soLHy9e",
        "outputId": "d6577319-2bbf-4a3a-9fde-5e20c0e16bb2"
      },
      "source": [
        "# The classes are heavily skewed we need to solve this issue later.\n",
        "print('No Frauds', round(df['Class'].value_counts()[0]/len(df) * 100,2), '% of the dataset')\n",
        "print('Frauds', round(df['Class'].value_counts()[1]/len(df) * 100,2), '% of the dataset')"
      ],
      "execution_count": null,
      "outputs": [
        {
          "output_type": "stream",
          "text": [
            "No Frauds 99.83 % of the dataset\n",
            "Frauds 0.17 % of the dataset\n"
          ],
          "name": "stdout"
        }
      ]
    },
    {
      "cell_type": "code",
      "metadata": {
        "colab": {
          "base_uri": "https://localhost:8080/",
          "height": 330
        },
        "id": "LILOWqPuHy_w",
        "outputId": "dc09a83d-b43e-457f-934e-722bdbd554f9"
      },
      "source": [
        "colors = [\"#0101DF\", \"#DF0101\"]\n",
        "\n",
        "sns.countplot('Class', data=df, palette=colors)\n",
        "plt.title('Class Distributions \\n (0: No Fraud || 1: Fraud)', fontsize=14)"
      ],
      "execution_count": null,
      "outputs": [
        {
          "output_type": "execute_result",
          "data": {
            "text/plain": [
              "Text(0.5, 1.0, 'Class Distributions \\n (0: No Fraud || 1: Fraud)')"
            ]
          },
          "metadata": {
            "tags": []
          },
          "execution_count": 22
        },
        {
          "output_type": "display_data",
          "data": {
            "image/png": "[encoded data removed]",
            "text/plain": [
              "<Figure size 432x288 with 1 Axes>"
            ]
          },
          "metadata": {
            "tags": []
          }
        }
      ]
    },
    {
      "cell_type": "code",
      "metadata": {
        "colab": {
          "base_uri": "https://localhost:8080/",
          "height": 282
        },
        "id": "u43iXzaDHzCE",
        "outputId": "d6c68699-49ed-4f7c-9c95-6577dceb1caf"
      },
      "source": [
        "fig, ax = plt.subplots(1, 2, figsize=(18,4))\n",
        "\n",
        "n_estimators= 14,\n",
        "           max_depth= 32,\n",
        "           min_samples_split=2,\n",
        "           min_samples_leaf=1,\n",
        "           max_leaf_nodes=294, \n",
        "           min_weight_fraction_leaf = 0\n",
        "\n",
        "amount_val = df['Amount'].values\n",
        "time_val = df['Time'].values\n",
        "\n",
        "sns.distplot(amount_val, ax=ax[0], color='r')\n",
        "ax[0].set_title('Distribution of Transaction Amount', fontsize=14)\n",
        "ax[0].set_xlim([min(amount_val), max(amount_val)])\n",
        "\n",
        "sns.distplot(time_val, ax=ax[1], color='b')\n",
        "ax[1].set_title('Distribution of Transaction Time', fontsize=14)\n",
        "ax[1].set_xlim([min(time_val), max(time_val)])\n",
        "\n",
        "\n",
        "\n",
        "plt.show()"
      ],
      "execution_count": null,
      "outputs": [
        {
          "output_type": "display_data",
          "data": {
            "image/png": "[encoded data removed]",
            "text/plain": [
              "<Figure size 1296x288 with 2 Axes>"
            ]
          },
          "metadata": {
            "tags": []
          }
        }
      ]
    },
    {
      "cell_type": "code",
      "metadata": {
        "id": "wZgJmIctHzFd"
      },
      "source": [
        ""
      ],
      "execution_count": null,
      "outputs": []
    },
    {
      "cell_type": "markdown",
      "metadata": {
        "id": "3s9XxmYXHzwN"
      },
      "source": [
        "# 2 Use Smote to split datasets - by Yu lin"
      ]
    },
    {
      "cell_type": "markdown",
      "metadata": {
        "id": "bCiV_qTa-Zir"
      },
      "source": [
        "## Conclusion\n",
        "无需检验说明，直接采用Smote方法，原因是Smote方法针对非平衡数据，具有提升精确度、召回率的作用"
      ]
    },
    {
      "cell_type": "code",
      "metadata": {
        "id": "SOYJlbBlH8Qt"
      },
      "source": [
        "# ## Default Method\n",
        "# df=df.drop(['Amount','Time'],axis=1)\n",
        "# X = df.drop(columns = 'Class')\n",
        "# y = df['Class']\n",
        "# #Split data into train and test\n",
        "# X_train, X_test, y_train, y_test = train_test_split(X.values, y.values, test_size = 0.3, random_state = 1)"
      ],
      "execution_count": null,
      "outputs": []
    },
    {
      "cell_type": "code",
      "metadata": {
        "id": "rMxDPli-H8OR"
      },
      "source": [
        "def results(balancing_technique):\n",
        "    print(balancing_technique)\n",
        "   \n",
        "    model_name = [\"CART\"]\n",
        "\n",
        "    CARTC = DecisionTreeClassifier(random_state = 1)\n",
        "\n",
        "    for clf,i in zip([CARTC], model_name):\n",
        "        model = clf.fit(X_train, y_train)\n",
        "        y_pred = model.predict(X_test)\n",
        "        y_pred_prob = model.predict_proba(X_test)[:,1]\n",
        "        print(\"#\"*25,i,\"#\"*25)\n",
        "        print(\"Training Accuracy = {:.3f}\".format(model.score(X_train, y_train)))\n",
        "        print(\"Test Accuracy = {:.3f}\".format(model.score(X_test, y_test)))\n",
        "        print(\"ROC_AUC_score : %.6f\" % (roc_auc_score(y_test, y_pred)))\n",
        "        # ADD recall todo\n",
        "        print(\"Recall_score : %.6f\" % (recall_score(y_test, y_pred)))\n",
        "        "
      ],
      "execution_count": null,
      "outputs": []
    },
    {
      "cell_type": "code",
      "metadata": {
        "colab": {
          "base_uri": "https://localhost:8080/"
        },
        "id": "I3WC4jXGH8TS",
        "outputId": "ec995bf6-0715-418e-9b2b-84194601b1d9"
      },
      "source": [
        "results(\"Default Split Without Balancing\")"
      ],
      "execution_count": null,
      "outputs": [
        {
          "output_type": "stream",
          "text": [
            "Default Split Without Balancing\n",
            "######################### CART #########################\n",
            "Training Accuracy = 1.000\n",
            "Test Accuracy = 0.999\n",
            "ROC_AUC_score : 0.862734\n",
            "Recall_score : 0.725926\n"
          ],
          "name": "stdout"
        }
      ]
    },
    {
      "cell_type": "code",
      "metadata": {
        "id": "uOf5QqwbH8VT"
      },
      "source": [
        "# ## Smote method\n",
        "# sm = SMOTE(random_state = 1)\n",
        "# X_train_sm, y_train_sm = sm.fit_sample(X_train, y_train)\n",
        "# X_test_sm = np.array(X_test)\n",
        "# y_test_sm = np.array(y_test)"
      ],
      "execution_count": null,
      "outputs": []
    },
    {
      "cell_type": "code",
      "metadata": {
        "id": "8M7OHyDT4y23"
      },
      "source": [
        "def results_smote(balancing_technique):\n",
        "    print(balancing_technique)\n",
        "   \n",
        "    model_name = [\"CART\"]\n",
        "\n",
        "    CARTC = DecisionTreeClassifier(random_state = 1)\n",
        "\n",
        "    for clf,i in zip([CARTC], model_name):\n",
        "        model = clf.fit(X_train_sm, y_train_sm)\n",
        "        y_pred = model.predict(X_test_sm)\n",
        "        y_pred_prob = model.predict_proba(X_test)[:,1]\n",
        "        print(\"#\"*25,i,\"#\"*25)\n",
        "        print(\"Training Accuracy = {:.3f}\".format(model.score(X_train_sm, y_train_sm)))\n",
        "        print(\"Test Accuracy = {:.3f}\".format(model.score(X_test_sm, y_test_sm)))\n",
        "        print(\"ROC_AUC_score : %.6f\" % (roc_auc_score(y_test_sm, y_pred)))\n",
        "        # ADD recall todo\n",
        "        print(\"Recall_score : %.6f\" % (recall_score(y_test_sm, y_pred)))\n",
        "        "
      ],
      "execution_count": null,
      "outputs": []
    },
    {
      "cell_type": "code",
      "metadata": {
        "colab": {
          "base_uri": "https://localhost:8080/"
        },
        "id": "2E762PtOH8X7",
        "outputId": "38f91541-e158-4447-b88a-8612093ae519"
      },
      "source": [
        "results_smote(\"Balanced With SMOTE\")"
      ],
      "execution_count": null,
      "outputs": [
        {
          "output_type": "stream",
          "text": [
            "Balanced With SMOTE\n",
            "######################### CART #########################\n",
            "Training Accuracy = 1.000\n",
            "Test Accuracy = 0.997\n",
            "ROC_AUC_score : 0.850691\n",
            "Recall_score : 0.703704\n"
          ],
          "name": "stdout"
        }
      ]
    },
    {
      "cell_type": "markdown",
      "metadata": {
        "id": "kaX3J-C_IH5c"
      },
      "source": [
        "# 3 Model Training\n",
        "\n"
      ]
    },
    {
      "cell_type": "markdown",
      "metadata": {
        "id": "NJAb-P1powTB"
      },
      "source": [
        "## 5种模型"
      ]
    },
    {
      "cell_type": "code",
      "metadata": {
        "id": "APGoXxTeo6bu"
      },
      "source": [
        "X = df.drop(columns = 'Class')\n",
        "y = df['Class']\n",
        "#Split data into train and test\n",
        "X_train, X_test, y_train, y_test = train_test_split(X.values, y.values, stratify=y, test_size = 0.25, random_state = 1)\n",
        "sm = SMOTE(random_state = 1)\n",
        "X_train_sm, y_train_sm = sm.fit_sample(X_train, y_train)\n",
        "X_test_sm = np.array(X_test)\n",
        "y_test_sm = np.array(y_test)"
      ],
      "execution_count": 5,
      "outputs": []
    },
    {
      "cell_type": "code",
      "metadata": {
        "id": "xSt75SRBo6l-"
      },
      "source": [
        "# Model definition\n",
        "CARTC = DecisionTreeClassifier(criterion=\"entropy\"\n",
        "                                  ,random_state=3\n",
        "                                  ,splitter=\"random\"\n",
        "                                  ,max_depth=7)\n",
        "RFC = RandomForestClassifier(random_state=3)\n",
        "XGBC = XGBClassifier(\n",
        "        n_estimators=2977,\n",
        "        max_depth=13,\n",
        "        min_child_weight=1,\n",
        "        learning_rate=0.057,\n",
        "        subsample=0.82,\n",
        "        colsample_bytree=0.66,\n",
        "        gamma=1,\n",
        "        n_jobs=-1,\n",
        "        n_thread=-1,\n",
        "        tree_method='gpu_hist',  #gpu_hist is really fast\n",
        "        objective='binary:logistic')\n",
        "LGBC = LGBMClassifier(boosting_type='gbdt',\n",
        "                          class_weight=None,\n",
        "                          colsample_bytree=0.5112837457460335,\n",
        "                          importance_type='split',\n",
        "                          learning_rate=0.02,\n",
        "                          max_depth=7,\n",
        "                          metric='None',\n",
        "                          min_child_samples=195,\n",
        "                          min_child_weight=0.01,\n",
        "                          min_split_gain=0.0,\n",
        "                          n_estimators=3000,\n",
        "                          n_jobs=4,\n",
        "                          num_leaves=44,\n",
        "                          objective=None,\n",
        "                          random_state=42,\n",
        "                          reg_alpha=2,\n",
        "                          reg_lambda=10,\n",
        "                          silent=True,\n",
        "                          subsample=0.8137506311449016,\n",
        "                          subsample_for_bin=200000,\n",
        "                          subsample_freq=0)\n",
        "DEEPF = CascadeForestClassifier(use_predictor='True',\n",
        "                                    predictor=\"forest\",\n",
        "                                    n_bins=173,n_estimators=6,\n",
        "                                    n_trees=1000,\n",
        "                                    min_samples_leaf=1,\n",
        "                                    partial_mode='True',\n",
        "                                    delta=1.4142915557953846e-05,\n",
        "                                    verbose=1,\n",
        "                                    random_state=33)\n",
        "\n"
      ],
      "execution_count": 6,
      "outputs": []
    },
    {
      "cell_type": "code",
      "metadata": {
        "id": "UUTt2S7Ho7CN"
      },
      "source": [
        "#用来跑SMOTE处理后的全模型对比图\n",
        "def results_sm_graph(balancing_technique):\n",
        "    print(balancing_technique)\n",
        "    fig, (ax1, ax2) = plt.subplots(1,2,figsize = (12,6))\n",
        "    model_name = [\"CART\",\"RF\", \"XGB\", \"LGB\",\"DF\"]\n",
        "    \n",
        "\n",
        "    \n",
        "    for clf,i in zip([CARTC,RFC,XGBC,LGBC,DEEPF], model_name):\n",
        "      if i != \"DF\" :\n",
        "        model=clf.fit(X_train_sm, y_train_sm)\n",
        "      else  :\n",
        "        model=clf\n",
        "        clf.fit(X_train_sm, y_train_sm)\n",
        "\n",
        "      y_pred = model.predict(X_test_sm)\n",
        "      y_pred_prob = model.predict_proba(X_test_sm)[:,1]\n",
        "          \n",
        "      print(\"#\"*25,i,\"#\"*25)\n",
        "      print(\"Training Accuracy = {:.3f}\".format(model.score(X_train_sm, y_train_sm)))\n",
        "      print(\"Test Accuracy = {:.3f}\".format(model.score(X_test_sm, y_test_sm)))\n",
        "      print(\"ROC_AUC_score : %.6f\" % (roc_auc_score(y_test_sm, y_pred)))\n",
        "      #Confusion Matrix\n",
        "      print(confusion_matrix(y_test_sm, y_pred))\n",
        "      print(\"-\"*15,\"CLASSIFICATION REPORT\",\"-\"*15)\n",
        "      print(classification_report(y_test_sm, y_pred))\n",
        "          \n",
        "          \n",
        "      #precision-recall curve\n",
        "      precision, recall, thresholds_pr = precision_recall_curve(y_test_sm, y_pred_prob)\n",
        "      avg_pre = average_precision_score(y_test_sm, y_pred_prob)\n",
        "      ax1.plot(precision, recall, label = i+ \" average precision = {:0.3f}\".format(avg_pre), lw = 3, alpha = 0.7)\n",
        "          \n",
        "          \n",
        "      ax1.set_xlabel('Precision', fontsize = 14)\n",
        "      ax1.set_ylabel('Recall', fontsize = 14)\n",
        "      ax1.set_title('Precision-Recall Curve', fontsize = 18)\n",
        "      ax1.legend(loc = 'best')\n",
        "      #find default threshold\n",
        "      close_default = np.argmin(np.abs(thresholds_pr - 0.5))\n",
        "      ax1.plot(precision[close_default], recall[close_default], 'o', markersize = 8)\n",
        "\n",
        "      #roc-curve\n",
        "      fpr, tpr, thresholds_roc = roc_curve(y_test, y_pred_prob)\n",
        "      roc_auc = auc(fpr,tpr)\n",
        "      ax2.plot(fpr,tpr, label = i+ \" area = {:0.4f}\".format(roc_auc), lw = 3, alpha = 0.7)\n",
        "      ax2.plot([0,1], [0,1], 'r', linestyle = \"--\", lw = 2)\n",
        "      ax2.set_xlabel(\"False Positive Rate\", fontsize = 14)\n",
        "      ax2.set_ylabel(\"True Positive Rate\", fontsize = 14)\n",
        "      ax2.set_title(\"ROC Curve\", fontsize = 18)\n",
        "      ax2.legend(loc = 'best')\n",
        "      #find default threshold\n",
        "      close_default = np.argmin(np.abs(thresholds_roc - 0.5))\n",
        "      ax2.plot(fpr[close_default], tpr[close_default], 'o', markersize = 8)\n",
        "      plt.tight_layout()"
      ],
      "execution_count": 7,
      "outputs": []
    },
    {
      "cell_type": "code",
      "metadata": {
        "colab": {
          "base_uri": "https://localhost:8080/",
          "height": 164
        },
        "id": "Y6Fq4geUo7K_",
        "outputId": "8f6cbd0e-7247-4801-b129-adc70ce59d49"
      },
      "source": [
        "results_sm_graph(\"Model Collection - SMOTE\")"
      ],
      "execution_count": 1,
      "outputs": [
        {
          "output_type": "error",
          "ename": "NameError",
          "evalue": "ignored",
          "traceback": [
            "\u001b[0;31m---------------------------------------------------------------------------\u001b[0m",
            "\u001b[0;31mNameError\u001b[0m                                 Traceback (most recent call last)",
            "\u001b[0;32m<ipython-input-1-4bb0fceb203d>\u001b[0m in \u001b[0;36m<module>\u001b[0;34m()\u001b[0m\n\u001b[0;32m----> 1\u001b[0;31m \u001b[0mresults_sm_graph\u001b[0m\u001b[0;34m(\u001b[0m\u001b[0;34m\"Model Collection - SMOTE\"\u001b[0m\u001b[0;34m)\u001b[0m\u001b[0;34m\u001b[0m\u001b[0;34m\u001b[0m\u001b[0m\n\u001b[0m",
            "\u001b[0;31mNameError\u001b[0m: name 'results_sm_graph' is not defined"
          ]
        }
      ]
    },
    {
      "cell_type": "markdown",
      "metadata": {
        "id": "wtx6fARRo2Yg"
      },
      "source": [
        "## 7种模型"
      ]
    },
    {
      "cell_type": "markdown",
      "metadata": {
        "id": "6YohmECS2Zs6"
      },
      "source": [
        "SMOTE方法"
      ]
    },
    {
      "cell_type": "code",
      "metadata": {
        "id": "HKrIpZvjAP_q"
      },
      "source": [
        "X = df.drop(columns = 'Class')\n",
        "y = df['Class']\n",
        "#Split data into train and test\n",
        "X_train, X_test, y_train, y_test = train_test_split(X.values, y.values, stratify=y, test_size = 0.25, random_state = 1)\n",
        "sm = SMOTE(random_state = 1)\n",
        "X_train_sm, y_train_sm = sm.fit_sample(X_train, y_train)\n",
        "X_test_sm = np.array(X_test)\n",
        "y_test_sm = np.array(y_test)"
      ],
      "execution_count": null,
      "outputs": []
    },
    {
      "cell_type": "code",
      "metadata": {
        "id": "6IHXp-Kslt0R"
      },
      "source": [
        "# Model definition\n",
        "CARTC = DecisionTreeClassifier(criterion=\"entropy\"\n",
        "                                  ,random_state=3\n",
        "                                  ,splitter=\"random\"\n",
        "                                  ,max_depth=7)\n",
        "RFC = RandomForestClassifier(random_state=3)\n",
        "XGBC = XGBClassifier(\n",
        "        n_estimators=2977,\n",
        "        max_depth=13,\n",
        "        min_child_weight=1,\n",
        "        learning_rate=0.057,\n",
        "        subsample=0.82,\n",
        "        colsample_bytree=0.66,\n",
        "        gamma=1,\n",
        "        n_jobs=-1,\n",
        "        n_thread=-1,\n",
        "        tree_method='gpu_hist',  #gpu_hist is really fast\n",
        "        objective='binary:logistic')\n",
        "LGBC = LGBMClassifier(boosting_type='gbdt',\n",
        "                          class_weight=None,\n",
        "                          colsample_bytree=0.5112837457460335,\n",
        "                          importance_type='split',\n",
        "                          learning_rate=0.02,\n",
        "                          max_depth=7,\n",
        "                          metric='None',\n",
        "                          min_child_samples=195,\n",
        "                          min_child_weight=0.01,\n",
        "                          min_split_gain=0.0,\n",
        "                          n_estimators=3000,\n",
        "                          n_jobs=4,\n",
        "                          num_leaves=44,\n",
        "                          objective=None,\n",
        "                          random_state=42,\n",
        "                          reg_alpha=2,\n",
        "                          reg_lambda=10,\n",
        "                          silent=True,\n",
        "                          subsample=0.8137506311449016,\n",
        "                          subsample_for_bin=200000,\n",
        "                          subsample_freq=0)\n",
        "DEEPF = CascadeForestClassifier(use_predictor='True',\n",
        "                                    predictor=\"forest\",\n",
        "                                    n_bins=173,n_estimators=6,\n",
        "                                    n_trees=1000,\n",
        "                                    min_samples_leaf=1,\n",
        "                                    partial_mode='True',\n",
        "                                    delta=1.4142915557953846e-05,\n",
        "                                    verbose=1,\n",
        "                                    random_state=33)\n",
        "DFXGBC = CascadeForestClassifier(use_predictor='True',\n",
        "                                    predictor=\"forest\",\n",
        "                                    n_bins=173,n_estimators=6,\n",
        "                                    n_trees=1000,\n",
        "                                    min_samples_leaf=1,\n",
        "                                    partial_mode='True',\n",
        "                                    delta=1.4142915557953846e-05,\n",
        "                                    verbose=1,\n",
        "                                    random_state=33)\n",
        "DFLGBC = CascadeForestClassifier(use_predictor='True',\n",
        "                                    predictor=\"forest\",\n",
        "                                    n_bins=173,n_estimators=6,\n",
        "                                    n_trees=1000,\n",
        "                                    min_samples_leaf=1,\n",
        "                                    partial_mode='True',\n",
        "                                    delta=1.4142915557953846e-05,\n",
        "                                    verbose=1,\n",
        "                                    random_state=33)\n",
        "\n"
      ],
      "execution_count": null,
      "outputs": []
    },
    {
      "cell_type": "code",
      "metadata": {
        "id": "S861PuKlAXU_"
      },
      "source": [
        "VOTING = VotingClassifier (\n",
        "        estimators = [('xgb', XGBC), ('lgb', LGBC),('rf',RFC)],\n",
        "                     voting='soft', weights = [1, 1, 1])"
      ],
      "execution_count": null,
      "outputs": []
    },
    {
      "cell_type": "code",
      "metadata": {
        "colab": {
          "base_uri": "https://localhost:8080/"
        },
        "id": "buuZOowo5SlG",
        "outputId": "49f3fe14-5900-4698-eab3-721d44134099"
      },
      "source": [
        "xgb_test = XGBC\n",
        "xgb_test.fit(X_train_sm, y_train_sm)\n"
      ],
      "execution_count": null,
      "outputs": [
        {
          "output_type": "execute_result",
          "data": {
            "text/plain": [
              "XGBClassifier(base_score=0.5, booster='gbtree', colsample_bylevel=1,\n",
              "              colsample_bynode=1, colsample_bytree=0.66, gamma=1,\n",
              "              learning_rate=0.057, max_delta_step=0, max_depth=13,\n",
              "              min_child_weight=1, missing=None, n_estimators=2977, n_jobs=-1,\n",
              "              n_thread=-1, nthread=None, objective='binary:logistic',\n",
              "              random_state=0, reg_alpha=0, reg_lambda=1, scale_pos_weight=1,\n",
              "              seed=None, silent=None, subsample=0.82, tree_method='gpu_hist',\n",
              "              verbosity=1)"
            ]
          },
          "metadata": {
            "tags": []
          },
          "execution_count": 9
        }
      ]
    },
    {
      "cell_type": "code",
      "metadata": {
        "colab": {
          "base_uri": "https://localhost:8080/",
          "height": 312
        },
        "id": "JcNlreSN8x4a",
        "outputId": "8bc1034d-8f0a-4f64-f6ae-9fbe2e055808"
      },
      "source": [
        "xgb.plot_importance(xgb_test,max_num_features=30,importance_type='total_gain')"
      ],
      "execution_count": null,
      "outputs": [
        {
          "output_type": "execute_result",
          "data": {
            "text/plain": [
              "<matplotlib.axes._subplots.AxesSubplot at 0x7feeb8507610>"
            ]
          },
          "metadata": {
            "tags": []
          },
          "execution_count": 11
        },
        {
          "output_type": "display_data",
          "data": {
            "image/png": "[encoded data removed]",
            "text/plain": [
              "<Figure size 432x288 with 1 Axes>"
            ]
          },
          "metadata": {
            "tags": []
          }
        }
      ]
    },
    {
      "cell_type": "code",
      "metadata": {
        "id": "uwVgwKGo8y0W"
      },
      "source": [
        "X_train_xgbDF = np.delete(X_train_sm, [22,27,5,20,21,26], axis=1) \n",
        "X_test_xgbDF = np.delete(X_train_sm, [22,27,5,20,21,26], axis=1) "
      ],
      "execution_count": null,
      "outputs": []
    },
    {
      "cell_type": "code",
      "metadata": {
        "colab": {
          "base_uri": "https://localhost:8080/"
        },
        "id": "lA4orpPr-l-4",
        "outputId": "5e29322a-f7c8-43f9-d4f7-14f817a344d4"
      },
      "source": [
        "lgb_test = LGBC\n",
        "lgb_test.fit(X_train_sm, y_train_sm)"
      ],
      "execution_count": null,
      "outputs": [
        {
          "output_type": "execute_result",
          "data": {
            "text/plain": [
              "LGBMClassifier(boosting_type='gbdt', class_weight=None,\n",
              "               colsample_bytree=0.5112837457460335, importance_type='split',\n",
              "               learning_rate=0.02, max_depth=7, metric='None',\n",
              "               min_child_samples=195, min_child_weight=0.01, min_split_gain=0.0,\n",
              "               n_estimators=3000, n_jobs=4, num_leaves=44, objective=None,\n",
              "               random_state=42, reg_alpha=2, reg_lambda=10, silent=True,\n",
              "               subsample=0.8137506311449016, subsample_for_bin=200000,\n",
              "               subsample_freq=0)"
            ]
          },
          "metadata": {
            "tags": []
          },
          "execution_count": 11
        }
      ]
    },
    {
      "cell_type": "code",
      "metadata": {
        "colab": {
          "base_uri": "https://localhost:8080/",
          "height": 312
        },
        "id": "u38yNKDL-vBg",
        "outputId": "9a72ab27-9e76-471c-f054-3dc52115fed2"
      },
      "source": [
        "lgb.plot_importance(lgb_test,max_num_features=30,importance_type='gain')"
      ],
      "execution_count": null,
      "outputs": [
        {
          "output_type": "execute_result",
          "data": {
            "text/plain": [
              "<matplotlib.axes._subplots.AxesSubplot at 0x7fee92392c90>"
            ]
          },
          "metadata": {
            "tags": []
          },
          "execution_count": 14
        },
        {
          "output_type": "display_data",
          "data": {
            "image/png": "[encoded data removed]",
            "text/plain": [
              "<Figure size 432x288 with 1 Axes>"
            ]
          },
          "metadata": {
            "tags": []
          }
        }
      ]
    },
    {
      "cell_type": "code",
      "metadata": {
        "id": "bcc3WlfY_xIt"
      },
      "source": [
        "X_train_lgbDF = np.delete(X_train_sm, [22,27,5,20,24,21], axis=1) \n",
        "X_test_lgbDF = np.delete(X_train_sm, [22,27,5,20,24,21], axis=1) "
      ],
      "execution_count": null,
      "outputs": []
    },
    {
      "cell_type": "code",
      "metadata": {
        "id": "6JT6Ho1bZLWZ"
      },
      "source": [
        "def prediction(model,train_data_x,train_data_y,test_data_x,test_data_y,model_name):\n",
        "  model.fit(train_data_x,train_data_y)\n",
        "  global y_pred,y_pred_prob\n",
        "  y_pred = model.predict(test_data_x)\n",
        "  y_pred_prob = model.predict_proba(test_data_x)[:, 1]\n",
        "  print(\"#\" * 25, model_name, \"#\" * 25)\n",
        "  print(\"Training Accuracy = {:.3f}\".format(\n",
        "            model.score(train_data_x, train_data_y)))\n",
        "  print(\"Test Accuracy = {:.3f}\".format(model.score(\n",
        "      test_data_x, test_data_y)))\n",
        "  print(\"ROC_AUC_score : %.6f\" % (roc_auc_score(test_data_y, y_pred)))\n",
        "  #Confusion Matrix\n",
        "  print(confusion_matrix(test_data_y, y_pred))\n",
        "  print(\"-\" * 15, \"CLASSIFICATION REPORT\", \"-\" * 15)\n",
        "  print(classification_report(test_data_y, y_pred))"
      ],
      "execution_count": null,
      "outputs": []
    },
    {
      "cell_type": "code",
      "metadata": {
        "id": "HRt3rinQnVQa"
      },
      "source": [
        "def curve(valid,pred,prob,model_name):\n",
        "  #precision-recall curve\n",
        "  precision, recall, thresholds_pr = precision_recall_curve(\n",
        "      valid, prob)\n",
        "  avg_pre = average_precision_score(valid, prob)\n",
        "  ax1.plot(precision,\n",
        "            recall,\n",
        "            label=model_name + \" average precision = {:0.2f}\".format(avg_pre),\n",
        "            lw=3,\n",
        "            alpha=0.7)\n",
        "\n",
        "  ax1.set_xlabel('Precision', fontsize=14)\n",
        "  ax1.set_ylabel('Recall', fontsize=14)\n",
        "  ax1.set_title('Precision-Recall Curve', fontsize=18)\n",
        "  ax1.legend(loc='best')\n",
        "  #find default threshold\n",
        "  close_default = np.argmin(np.abs(thresholds_pr - 0.5))\n",
        "  ax1.plot(precision[close_default],\n",
        "            recall[close_default],\n",
        "            'o',\n",
        "            markersize=8)\n",
        "\n",
        "  #roc-curve\n",
        "  fpr, tpr, thresholds_roc = roc_curve(valid, prob)\n",
        "  roc_auc = auc(fpr, tpr)\n",
        "  ax2.plot(fpr,\n",
        "            tpr,\n",
        "            label=model_name + \" area = {:0.2f}\".format(roc_auc),\n",
        "            lw=3,\n",
        "            alpha=0.7)\n",
        "  ax2.plot([0, 1], [0, 1], 'r', linestyle=\"--\", lw=2)\n",
        "  ax2.set_xlabel(\"False Positive Rate\", fontsize=14)\n",
        "  ax2.set_ylabel(\"True Positive Rate\", fontsize=14)\n",
        "  ax2.set_title(\"ROC Curve\", fontsize=18)\n",
        "  ax2.legend(loc='best')\n",
        "  #find default threshold\n",
        "  close_default = np.argmin(np.abs(thresholds_roc - 0.5))\n",
        "  ax2.plot(fpr[close_default], tpr[close_default], 'o', markersize=8)\n",
        "  plt.tight_layout()"
      ],
      "execution_count": null,
      "outputs": []
    },
    {
      "cell_type": "code",
      "metadata": {
        "colab": {
          "base_uri": "https://localhost:8080/"
        },
        "id": "saDJvkI_YxIv",
        "outputId": "1cd0c1aa-365e-41fc-97f3-07c58b9546f7"
      },
      "source": [
        "CART_PRE = prediction(CARTC,X_train_sm,y_train_sm,X_test_sm,y_test_sm,\"CART\")\n",
        "CART_pred = y_pred\n",
        "CART_pred_prob = y_pred_prob"
      ],
      "execution_count": null,
      "outputs": [
        {
          "output_type": "stream",
          "text": [
            "######################### CART #########################\n",
            "Training Accuracy = 0.942\n",
            "Test Accuracy = 0.945\n",
            "ROC_AUC_score : 0.935720\n",
            "[[67142  3937]\n",
            " [    9   114]]\n",
            "--------------- CLASSIFICATION REPORT ---------------\n",
            "              precision    recall  f1-score   support\n",
            "\n",
            "           0       1.00      0.94      0.97     71079\n",
            "           1       0.03      0.93      0.05       123\n",
            "\n",
            "    accuracy                           0.94     71202\n",
            "   macro avg       0.51      0.94      0.51     71202\n",
            "weighted avg       1.00      0.94      0.97     71202\n",
            "\n"
          ],
          "name": "stdout"
        }
      ]
    },
    {
      "cell_type": "code",
      "metadata": {
        "colab": {
          "base_uri": "https://localhost:8080/"
        },
        "id": "mP5MJ_2Jf7xy",
        "outputId": "9dc56bf5-ce9c-419b-f648-4fa95b51d4b2"
      },
      "source": [
        "RF_PRE = prediction(RFC,X_train_sm,y_train_sm,X_test_sm,y_test_sm,\"RF\")\n",
        "RF_pred = y_pred\n",
        "RF_pred_prob = y_pred_prob"
      ],
      "execution_count": null,
      "outputs": [
        {
          "output_type": "stream",
          "text": [
            "######################### RF #########################\n",
            "Training Accuracy = 1.000\n",
            "Test Accuracy = 1.000\n",
            "ROC_AUC_score : 0.942991\n",
            "[[71065    14]\n",
            " [   14   109]]\n",
            "--------------- CLASSIFICATION REPORT ---------------\n",
            "              precision    recall  f1-score   support\n",
            "\n",
            "           0       1.00      1.00      1.00     71079\n",
            "           1       0.89      0.89      0.89       123\n",
            "\n",
            "    accuracy                           1.00     71202\n",
            "   macro avg       0.94      0.94      0.94     71202\n",
            "weighted avg       1.00      1.00      1.00     71202\n",
            "\n"
          ],
          "name": "stdout"
        }
      ]
    },
    {
      "cell_type": "code",
      "metadata": {
        "colab": {
          "base_uri": "https://localhost:8080/"
        },
        "id": "kjPy6DT4gKj5",
        "outputId": "4dccc6cc-0a1c-48a0-a04f-53b7e701c025"
      },
      "source": [
        "XGB_PRE = prediction(XGBC,X_train_sm,y_train_sm,X_test_sm,y_test_sm,\"XGB\")\n",
        "XGB_pred = y_pred\n",
        "XGB_pred_prob = y_pred_prob"
      ],
      "execution_count": null,
      "outputs": [
        {
          "output_type": "stream",
          "text": [
            "######################### XGB #########################\n",
            "Training Accuracy = 1.000\n",
            "Test Accuracy = 1.000\n",
            "ROC_AUC_score : 0.938947\n",
            "[[71068    11]\n",
            " [   15   108]]\n",
            "--------------- CLASSIFICATION REPORT ---------------\n",
            "              precision    recall  f1-score   support\n",
            "\n",
            "           0       1.00      1.00      1.00     71079\n",
            "           1       0.91      0.88      0.89       123\n",
            "\n",
            "    accuracy                           1.00     71202\n",
            "   macro avg       0.95      0.94      0.95     71202\n",
            "weighted avg       1.00      1.00      1.00     71202\n",
            "\n"
          ],
          "name": "stdout"
        }
      ]
    },
    {
      "cell_type": "code",
      "metadata": {
        "colab": {
          "base_uri": "https://localhost:8080/"
        },
        "id": "bopvPp7XgY_c",
        "outputId": "c8ee220b-089d-4579-c91c-fb32006b09f0"
      },
      "source": [
        "LGB_PRE = prediction(LGBC,X_train_sm,y_train_sm,X_test_sm,y_test_sm,\"LGB\")\n",
        "LGB_pred = y_pred\n",
        "LGB_pred_prob = y_pred_prob"
      ],
      "execution_count": null,
      "outputs": [
        {
          "output_type": "stream",
          "text": [
            "######################### LGB #########################\n",
            "Training Accuracy = 1.000\n",
            "Test Accuracy = 1.000\n",
            "ROC_AUC_score : 0.947042\n",
            "[[71063    16]\n",
            " [   13   110]]\n",
            "--------------- CLASSIFICATION REPORT ---------------\n",
            "              precision    recall  f1-score   support\n",
            "\n",
            "           0       1.00      1.00      1.00     71079\n",
            "           1       0.87      0.89      0.88       123\n",
            "\n",
            "    accuracy                           1.00     71202\n",
            "   macro avg       0.94      0.95      0.94     71202\n",
            "weighted avg       1.00      1.00      1.00     71202\n",
            "\n"
          ],
          "name": "stdout"
        }
      ]
    },
    {
      "cell_type": "code",
      "metadata": {
        "colab": {
          "base_uri": "https://localhost:8080/"
        },
        "id": "oA4fUn1IiHkY",
        "outputId": "1f45072d-8443-422a-dd48-3856534d95ef"
      },
      "source": [
        "VOTING_PRE = prediction(VOTING,X_train_sm,y_train_sm,X_test_sm,y_test_sm,\"VOTING\")\n",
        "VOTING_pred = y_pred\n",
        "VOTING_pred_prob = y_pred_prob"
      ],
      "execution_count": null,
      "outputs": [
        {
          "output_type": "stream",
          "text": [
            "######################### VOTING #########################\n",
            "Training Accuracy = 1.000\n",
            "Test Accuracy = 1.000\n",
            "ROC_AUC_score : 0.942998\n",
            "[[71066    13]\n",
            " [   14   109]]\n",
            "--------------- CLASSIFICATION REPORT ---------------\n",
            "              precision    recall  f1-score   support\n",
            "\n",
            "           0       1.00      1.00      1.00     71079\n",
            "           1       0.89      0.89      0.89       123\n",
            "\n",
            "    accuracy                           1.00     71202\n",
            "   macro avg       0.95      0.94      0.94     71202\n",
            "weighted avg       1.00      1.00      1.00     71202\n",
            "\n"
          ],
          "name": "stdout"
        }
      ]
    },
    {
      "cell_type": "code",
      "metadata": {
        "colab": {
          "base_uri": "https://localhost:8080/",
          "height": 198
        },
        "id": "A3bmRXtqyMka",
        "outputId": "30e623c1-6293-4d72-c4ec-bc182bc82343"
      },
      "source": [
        "DF_PRE = prediction(DEEPF,X_train_sm,y_train_sm,X_test_sm,y_test_sm,\"DF\")\n",
        "DF_pred = y_pred\n",
        "DF_pred_prob = y_pred_prob"
      ],
      "execution_count": null,
      "outputs": [
        {
          "output_type": "error",
          "ename": "NameError",
          "evalue": "ignored",
          "traceback": [
            "\u001b[0;31m---------------------------------------------------------------------------\u001b[0m",
            "\u001b[0;31mNameError\u001b[0m                                 Traceback (most recent call last)",
            "\u001b[0;32m<ipython-input-1-e8d4271ecf7c>\u001b[0m in \u001b[0;36m<module>\u001b[0;34m()\u001b[0m\n\u001b[0;32m----> 1\u001b[0;31m \u001b[0mDF_PRE\u001b[0m \u001b[0;34m=\u001b[0m \u001b[0mprediction\u001b[0m\u001b[0;34m(\u001b[0m\u001b[0mDEEPF\u001b[0m\u001b[0;34m,\u001b[0m\u001b[0mX_train_sm\u001b[0m\u001b[0;34m,\u001b[0m\u001b[0my_train_sm\u001b[0m\u001b[0;34m,\u001b[0m\u001b[0mX_test_sm\u001b[0m\u001b[0;34m,\u001b[0m\u001b[0my_test_sm\u001b[0m\u001b[0;34m,\u001b[0m\u001b[0;34m\"DF\"\u001b[0m\u001b[0;34m)\u001b[0m\u001b[0;34m\u001b[0m\u001b[0;34m\u001b[0m\u001b[0m\n\u001b[0m\u001b[1;32m      2\u001b[0m \u001b[0mDF_pred\u001b[0m \u001b[0;34m=\u001b[0m \u001b[0my_pred\u001b[0m\u001b[0;34m\u001b[0m\u001b[0;34m\u001b[0m\u001b[0m\n\u001b[1;32m      3\u001b[0m \u001b[0mDF_pred_prob\u001b[0m \u001b[0;34m=\u001b[0m \u001b[0my_pred_prob\u001b[0m\u001b[0;34m\u001b[0m\u001b[0;34m\u001b[0m\u001b[0m\n",
            "\u001b[0;31mNameError\u001b[0m: name 'prediction' is not defined"
          ]
        }
      ]
    },
    {
      "cell_type": "code",
      "metadata": {
        "id": "xb2OZI45yVF0"
      },
      "source": [
        "DFXGB_PRE = prediction(DFXGB,X_train_xgbDF,y_train_sm,X_test_xgbDF,y_test_sm,\"DFXGB\")\n",
        "DFXGB_pred = y_pred\n",
        "DFXGB_pred_prob = y_pred_prob"
      ],
      "execution_count": null,
      "outputs": []
    },
    {
      "cell_type": "code",
      "metadata": {
        "id": "rD73O_A7yVjM"
      },
      "source": [
        "DFLGB_PRE = prediction(DFLGB,X_train_lgbDF,y_train_sm,X_test_lgbDF,y_test_sm,\"DFLGB\")\n",
        "DFLGB_pred = y_pred\n",
        "DFLGB_pred_prob = y_pred_prob"
      ],
      "execution_count": null,
      "outputs": []
    },
    {
      "cell_type": "code",
      "metadata": {
        "id": "iQrLnfSvsTeV"
      },
      "source": [
        "fig, (ax1, ax2) = plt.subplots(1, 2, figsize=(12, 6))\n",
        "curve(y_test_sm,CART_pred,CART_pred_prob,\"CART\")\n",
        "curve(y_test_sm,RF_pred,RF_pred_prob,\"RF\")\n",
        "curve(y_test_sm,XGB_pred,XGB_pred_prob,\"XGB\")\n",
        "curve(y_test_sm,LGB_pred,LGB_pred_prob,\"LGB\")\n",
        "curve(y_test_sm,DF_pred,DF_pred_prob,\"DF\")\n",
        "curve(y_test_sm,DFXGB_pred,DFXGB_pred_prob,\"DFXGB\")\n",
        "curve(y_test_sm,DFLGB_pred,DFLGB_pred_prob,\"DFLGB\")\n",
        "curve(y_test_sm,VOTING_pred,VOTING_pred_prob,\"VOTING\")"
      ],
      "execution_count": null,
      "outputs": []
    },
    {
      "cell_type": "code",
      "metadata": {
        "id": "x3VXNK_rILpY"
      },
      "source": [
        "#用来跑SMOTE处理后的全模型对比图\n",
        "def results_sm_graph(balancing_technique):\n",
        "    print(balancing_technique)\n",
        "    fig, (ax1, ax2) = plt.subplots(1, 2, figsize=(12, 6))\n",
        "    model_name = [\"CART\", \"RF\", \"XGB\", \"LGB\", \"DF\",\"DF_XGB\",\"DF_LGB\",\"VOTING\"]\n",
        "    \n",
        "\n",
        "    for clf, i in zip([CARTC, RFC, XGBC, LGBC, DEEPF,DFXGBC,DFLGBC,VOTING], model_name):\n",
        "        if i == \"DF\":\n",
        "            model = clf\n",
        "            clf.fit(X_train_sm, y_train_sm)\n",
        "        \n",
        "        elif i == \"DF_XGB\":\n",
        "            model = clf\n",
        "            clf.fit(X_train_xgbDF,y_train_sm)\n",
        "        elif i == \"DF_LGB\":\n",
        "            model = clf\n",
        "            clf.fit(X_train_lgbDF,y_train_sm)\n",
        "            \n",
        "        else:\n",
        "            \n",
        "            model = clf.fit(X_train_sm, y_train_sm)\n",
        "\n",
        "        if i == \"DF_XGB\":\n",
        "          y_pred = model.predict(X_test_xgbDF)\n",
        "          y_pred_prob = model.predict_proba(X_test_xgbDF)[:, 1]\n",
        "        elif i == \"DF_LGB\":\n",
        "          y_pred = model.predict(X_test_lgbDF)\n",
        "          y_pred_prob = model.predict_proba(X_test_lgbDF)[:, 1]\n",
        "        else:\n",
        "          y_pred = model.predict(X_test_sm)\n",
        "          y_pred_prob = model.predict_proba(X_test_sm)[:, 1]\n",
        "\n",
        "        print(\"#\" * 25, i, \"#\" * 25)\n",
        "        print(\"Training Accuracy = {:.3f}\".format(\n",
        "            model.score(X_train_sm, y_train_sm)))\n",
        "        print(\"Test Accuracy = {:.3f}\".format(model.score(\n",
        "            X_test_sm, y_test_sm)))\n",
        "        print(\"ROC_AUC_score : %.6f\" % (roc_auc_score(y_test_sm, y_pred)))\n",
        "        #Confusion Matrix\n",
        "        print(confusion_matrix(y_test_sm, y_pred))\n",
        "        print(\"-\" * 15, \"CLASSIFICATION REPORT\", \"-\" * 15)\n",
        "        print(classification_report(y_test_sm, y_pred))\n",
        "\n",
        "        #precision-recall curve\n",
        "        precision, recall, thresholds_pr = precision_recall_curve(\n",
        "            y_test_sm, y_pred_prob)\n",
        "        avg_pre = average_precision_score(y_test_sm, y_pred_prob)\n",
        "        ax1.plot(precision,\n",
        "                 recall,\n",
        "                 label=i + \" average precision = {:0.2f}\".format(avg_pre),\n",
        "                 lw=3,\n",
        "                 alpha=0.7)\n",
        "\n",
        "        ax1.set_xlabel('Precision', fontsize=14)\n",
        "        ax1.set_ylabel('Recall', fontsize=14)\n",
        "        ax1.set_title('Precision-Recall Curve', fontsize=18)\n",
        "        ax1.legend(loc='best')\n",
        "        #find default threshold\n",
        "        close_default = np.argmin(np.abs(thresholds_pr - 0.5))\n",
        "        ax1.plot(precision[close_default],\n",
        "                 recall[close_default],\n",
        "                 'o',\n",
        "                 markersize=8)\n",
        "\n",
        "        #roc-curve\n",
        "        fpr, tpr, thresholds_roc = roc_curve(y_test, y_pred_prob)\n",
        "        roc_auc = auc(fpr, tpr)\n",
        "        ax2.plot(fpr,\n",
        "                 tpr,\n",
        "                 label=i + \" area = {:0.2f}\".format(roc_auc),\n",
        "                 lw=3,\n",
        "                 alpha=0.7)\n",
        "        ax2.plot([0, 1], [0, 1], 'r', linestyle=\"--\", lw=2)\n",
        "        ax2.set_xlabel(\"False Positive Rate\", fontsize=14)\n",
        "        ax2.set_ylabel(\"True Positive Rate\", fontsize=14)\n",
        "        ax2.set_title(\"ROC Curve\", fontsize=18)\n",
        "        ax2.legend(loc='best')\n",
        "        #find default threshold\n",
        "        close_default = np.argmin(np.abs(thresholds_roc - 0.5))\n",
        "        ax2.plot(fpr[close_default], tpr[close_default], 'o', markersize=8)\n",
        "        plt.tight_layout()\n"
      ],
      "execution_count": null,
      "outputs": []
    },
    {
      "cell_type": "code",
      "metadata": {
        "colab": {
          "base_uri": "https://localhost:8080/",
          "height": 1000
        },
        "id": "E-6EOy3SIMWw",
        "outputId": "6fd203c1-bd39-4e76-a7dc-71903532cf33"
      },
      "source": [
        "results_sm_graph(\"Model Collection - SMOTE\")"
      ],
      "execution_count": null,
      "outputs": [
        {
          "output_type": "stream",
          "text": [
            "Model Collection - SMOTE\n",
            "######################### CART #########################\n",
            "Training Accuracy = 0.942\n",
            "Test Accuracy = 0.945\n",
            "ROC_AUC_score : 0.935720\n",
            "[[67142  3937]\n",
            " [    9   114]]\n",
            "--------------- CLASSIFICATION REPORT ---------------\n",
            "              precision    recall  f1-score   support\n",
            "\n",
            "           0       1.00      0.94      0.97     71079\n",
            "           1       0.03      0.93      0.05       123\n",
            "\n",
            "    accuracy                           0.94     71202\n",
            "   macro avg       0.51      0.94      0.51     71202\n",
            "weighted avg       1.00      0.94      0.97     71202\n",
            "\n",
            "######################### RF #########################\n",
            "Training Accuracy = 1.000\n",
            "Test Accuracy = 1.000\n",
            "ROC_AUC_score : 0.942991\n",
            "[[71065    14]\n",
            " [   14   109]]\n",
            "--------------- CLASSIFICATION REPORT ---------------\n",
            "              precision    recall  f1-score   support\n",
            "\n",
            "           0       1.00      1.00      1.00     71079\n",
            "           1       0.89      0.89      0.89       123\n",
            "\n",
            "    accuracy                           1.00     71202\n",
            "   macro avg       0.94      0.94      0.94     71202\n",
            "weighted avg       1.00      1.00      1.00     71202\n",
            "\n",
            "######################### XGB #########################\n",
            "Training Accuracy = 1.000\n",
            "Test Accuracy = 1.000\n",
            "ROC_AUC_score : 0.938947\n",
            "[[71068    11]\n",
            " [   15   108]]\n",
            "--------------- CLASSIFICATION REPORT ---------------\n",
            "              precision    recall  f1-score   support\n",
            "\n",
            "           0       1.00      1.00      1.00     71079\n",
            "           1       0.91      0.88      0.89       123\n",
            "\n",
            "    accuracy                           1.00     71202\n",
            "   macro avg       0.95      0.94      0.95     71202\n",
            "weighted avg       1.00      1.00      1.00     71202\n",
            "\n",
            "######################### LGB #########################\n",
            "Training Accuracy = 1.000\n",
            "Test Accuracy = 1.000\n",
            "ROC_AUC_score : 0.947042\n",
            "[[71063    16]\n",
            " [   13   110]]\n",
            "--------------- CLASSIFICATION REPORT ---------------\n",
            "              precision    recall  f1-score   support\n",
            "\n",
            "           0       1.00      1.00      1.00     71079\n",
            "           1       0.87      0.89      0.88       123\n",
            "\n",
            "    accuracy                           1.00     71202\n",
            "   macro avg       0.94      0.95      0.94     71202\n",
            "weighted avg       1.00      1.00      1.00     71202\n",
            "\n",
            "[2021-04-08 15:55:33.298] Start to fit the model:\n",
            "[2021-04-08 15:55:33.299] Fitting cascade layer = 0 \n"
          ],
          "name": "stdout"
        },
        {
          "output_type": "error",
          "ename": "KeyboardInterrupt",
          "evalue": "ignored",
          "traceback": [
            "\u001b[0;31m---------------------------------------------------------------------------\u001b[0m",
            "\u001b[0;31mKeyboardInterrupt\u001b[0m                         Traceback (most recent call last)",
            "\u001b[0;32m<ipython-input-40-4bb0fceb203d>\u001b[0m in \u001b[0;36m<module>\u001b[0;34m()\u001b[0m\n\u001b[0;32m----> 1\u001b[0;31m \u001b[0mresults_sm_graph\u001b[0m\u001b[0;34m(\u001b[0m\u001b[0;34m\"Model Collection - SMOTE\"\u001b[0m\u001b[0;34m)\u001b[0m\u001b[0;34m\u001b[0m\u001b[0;34m\u001b[0m\u001b[0m\n\u001b[0m",
            "\u001b[0;32m<ipython-input-39-1b05f3112b8e>\u001b[0m in \u001b[0;36mresults_sm_graph\u001b[0;34m(balancing_technique)\u001b[0m\n\u001b[1;32m      9\u001b[0m         \u001b[0;32mif\u001b[0m \u001b[0mi\u001b[0m \u001b[0;34m==\u001b[0m \u001b[0;34m\"DF\"\u001b[0m\u001b[0;34m:\u001b[0m\u001b[0;34m\u001b[0m\u001b[0;34m\u001b[0m\u001b[0m\n\u001b[1;32m     10\u001b[0m             \u001b[0mmodel\u001b[0m \u001b[0;34m=\u001b[0m \u001b[0mclf\u001b[0m\u001b[0;34m\u001b[0m\u001b[0;34m\u001b[0m\u001b[0m\n\u001b[0;32m---> 11\u001b[0;31m             \u001b[0mclf\u001b[0m\u001b[0;34m.\u001b[0m\u001b[0mfit\u001b[0m\u001b[0;34m(\u001b[0m\u001b[0mX_train_sm\u001b[0m\u001b[0;34m,\u001b[0m \u001b[0my_train_sm\u001b[0m\u001b[0;34m)\u001b[0m\u001b[0;34m\u001b[0m\u001b[0;34m\u001b[0m\u001b[0m\n\u001b[0m\u001b[1;32m     12\u001b[0m \u001b[0;34m\u001b[0m\u001b[0m\n\u001b[1;32m     13\u001b[0m         \u001b[0;32melif\u001b[0m \u001b[0mi\u001b[0m \u001b[0;34m==\u001b[0m \u001b[0;34m\"DF_XGB\"\u001b[0m\u001b[0;34m:\u001b[0m\u001b[0;34m\u001b[0m\u001b[0;34m\u001b[0m\u001b[0m\n",
            "\u001b[0;32m/usr/local/lib/python3.7/dist-packages/deepforest/cascade.py\u001b[0m in \u001b[0;36mfit\u001b[0;34m(self, X, y, sample_weight)\u001b[0m\n\u001b[1;32m   1395\u001b[0m         \u001b[0my\u001b[0m \u001b[0;34m=\u001b[0m \u001b[0mself\u001b[0m\u001b[0;34m.\u001b[0m\u001b[0m_encode_class_labels\u001b[0m\u001b[0;34m(\u001b[0m\u001b[0my\u001b[0m\u001b[0;34m)\u001b[0m\u001b[0;34m\u001b[0m\u001b[0;34m\u001b[0m\u001b[0m\n\u001b[1;32m   1396\u001b[0m \u001b[0;34m\u001b[0m\u001b[0m\n\u001b[0;32m-> 1397\u001b[0;31m         \u001b[0msuper\u001b[0m\u001b[0;34m(\u001b[0m\u001b[0;34m)\u001b[0m\u001b[0;34m.\u001b[0m\u001b[0mfit\u001b[0m\u001b[0;34m(\u001b[0m\u001b[0mX\u001b[0m\u001b[0;34m,\u001b[0m \u001b[0my\u001b[0m\u001b[0;34m,\u001b[0m \u001b[0msample_weight\u001b[0m\u001b[0;34m)\u001b[0m\u001b[0;34m\u001b[0m\u001b[0;34m\u001b[0m\u001b[0m\n\u001b[0m\u001b[1;32m   1398\u001b[0m \u001b[0;34m\u001b[0m\u001b[0m\n\u001b[1;32m   1399\u001b[0m     \u001b[0;32mdef\u001b[0m \u001b[0mpredict_proba\u001b[0m\u001b[0;34m(\u001b[0m\u001b[0mself\u001b[0m\u001b[0;34m,\u001b[0m \u001b[0mX\u001b[0m\u001b[0;34m)\u001b[0m\u001b[0;34m:\u001b[0m\u001b[0;34m\u001b[0m\u001b[0;34m\u001b[0m\u001b[0m\n",
            "\u001b[0;32m/usr/local/lib/python3.7/dist-packages/deepforest/cascade.py\u001b[0m in \u001b[0;36mfit\u001b[0;34m(self, X, y, sample_weight)\u001b[0m\n\u001b[1;32m    786\u001b[0m         \u001b[0mtic\u001b[0m \u001b[0;34m=\u001b[0m \u001b[0mtime\u001b[0m\u001b[0;34m.\u001b[0m\u001b[0mtime\u001b[0m\u001b[0;34m(\u001b[0m\u001b[0;34m)\u001b[0m\u001b[0;34m\u001b[0m\u001b[0;34m\u001b[0m\u001b[0m\n\u001b[1;32m    787\u001b[0m         X_aug_train_ = layer_.fit_transform(\n\u001b[0;32m--> 788\u001b[0;31m             \u001b[0mX_train_\u001b[0m\u001b[0;34m,\u001b[0m \u001b[0my\u001b[0m\u001b[0;34m,\u001b[0m \u001b[0msample_weight\u001b[0m\u001b[0;34m=\u001b[0m\u001b[0msample_weight\u001b[0m\u001b[0;34m\u001b[0m\u001b[0;34m\u001b[0m\u001b[0m\n\u001b[0m\u001b[1;32m    789\u001b[0m         )\n\u001b[1;32m    790\u001b[0m         \u001b[0mtoc\u001b[0m \u001b[0;34m=\u001b[0m \u001b[0mtime\u001b[0m\u001b[0;34m.\u001b[0m\u001b[0mtime\u001b[0m\u001b[0;34m(\u001b[0m\u001b[0;34m)\u001b[0m\u001b[0;34m\u001b[0m\u001b[0;34m\u001b[0m\u001b[0m\n",
            "\u001b[0;32m/usr/local/lib/python3.7/dist-packages/deepforest/_layer.py\u001b[0m in \u001b[0;36mfit_transform\u001b[0;34m(self, X, y, sample_weight)\u001b[0m\n\u001b[1;32m    215\u001b[0m                 \u001b[0mself\u001b[0m\u001b[0;34m.\u001b[0m\u001b[0mbuffer\u001b[0m\u001b[0;34m,\u001b[0m\u001b[0;34m\u001b[0m\u001b[0;34m\u001b[0m\u001b[0m\n\u001b[1;32m    216\u001b[0m                 \u001b[0mself\u001b[0m\u001b[0;34m.\u001b[0m\u001b[0mverbose\u001b[0m\u001b[0;34m,\u001b[0m\u001b[0;34m\u001b[0m\u001b[0;34m\u001b[0m\u001b[0m\n\u001b[0;32m--> 217\u001b[0;31m                 \u001b[0msample_weight\u001b[0m\u001b[0;34m,\u001b[0m\u001b[0;34m\u001b[0m\u001b[0;34m\u001b[0m\u001b[0m\n\u001b[0m\u001b[1;32m    218\u001b[0m             )\n\u001b[1;32m    219\u001b[0m             \u001b[0mX_aug\u001b[0m\u001b[0;34m.\u001b[0m\u001b[0mappend\u001b[0m\u001b[0;34m(\u001b[0m\u001b[0mX_aug_\u001b[0m\u001b[0;34m)\u001b[0m\u001b[0;34m\u001b[0m\u001b[0;34m\u001b[0m\u001b[0m\n",
            "\u001b[0;32m/usr/local/lib/python3.7/dist-packages/deepforest/_layer.py\u001b[0m in \u001b[0;36m_build_estimator\u001b[0;34m(X, y, layer_idx, estimator_idx, estimator_name, estimator, oob_decision_function, partial_mode, buffer, verbose, sample_weight)\u001b[0m\n\u001b[1;32m     38\u001b[0m         \u001b[0mprint\u001b[0m\u001b[0;34m(\u001b[0m\u001b[0mmsg\u001b[0m\u001b[0;34m.\u001b[0m\u001b[0mformat\u001b[0m\u001b[0;34m(\u001b[0m\u001b[0m_utils\u001b[0m\u001b[0;34m.\u001b[0m\u001b[0mctime\u001b[0m\u001b[0;34m(\u001b[0m\u001b[0;34m)\u001b[0m\u001b[0;34m,\u001b[0m \u001b[0mkey\u001b[0m\u001b[0;34m,\u001b[0m \u001b[0mlayer_idx\u001b[0m\u001b[0;34m)\u001b[0m\u001b[0;34m)\u001b[0m\u001b[0;34m\u001b[0m\u001b[0;34m\u001b[0m\u001b[0m\n\u001b[1;32m     39\u001b[0m \u001b[0;34m\u001b[0m\u001b[0m\n\u001b[0;32m---> 40\u001b[0;31m     \u001b[0mX_aug_train\u001b[0m \u001b[0;34m=\u001b[0m \u001b[0mestimator\u001b[0m\u001b[0;34m.\u001b[0m\u001b[0mfit_transform\u001b[0m\u001b[0;34m(\u001b[0m\u001b[0mX\u001b[0m\u001b[0;34m,\u001b[0m \u001b[0my\u001b[0m\u001b[0;34m,\u001b[0m \u001b[0msample_weight\u001b[0m\u001b[0;34m)\u001b[0m\u001b[0;34m\u001b[0m\u001b[0;34m\u001b[0m\u001b[0m\n\u001b[0m\u001b[1;32m     41\u001b[0m     \u001b[0moob_decision_function\u001b[0m \u001b[0;34m+=\u001b[0m \u001b[0mestimator\u001b[0m\u001b[0;34m.\u001b[0m\u001b[0moob_decision_function_\u001b[0m\u001b[0;34m\u001b[0m\u001b[0;34m\u001b[0m\u001b[0m\n\u001b[1;32m     42\u001b[0m \u001b[0;34m\u001b[0m\u001b[0m\n",
            "\u001b[0;32m/usr/local/lib/python3.7/dist-packages/deepforest/_estimator.py\u001b[0m in \u001b[0;36mfit_transform\u001b[0;34m(self, X, y, sample_weight)\u001b[0m\n\u001b[1;32m    197\u001b[0m \u001b[0;34m\u001b[0m\u001b[0m\n\u001b[1;32m    198\u001b[0m     \u001b[0;32mdef\u001b[0m \u001b[0mfit_transform\u001b[0m\u001b[0;34m(\u001b[0m\u001b[0mself\u001b[0m\u001b[0;34m,\u001b[0m \u001b[0mX\u001b[0m\u001b[0;34m,\u001b[0m \u001b[0my\u001b[0m\u001b[0;34m,\u001b[0m \u001b[0msample_weight\u001b[0m\u001b[0;34m=\u001b[0m\u001b[0;32mNone\u001b[0m\u001b[0;34m)\u001b[0m\u001b[0;34m:\u001b[0m\u001b[0;34m\u001b[0m\u001b[0;34m\u001b[0m\u001b[0m\n\u001b[0;32m--> 199\u001b[0;31m         \u001b[0mself\u001b[0m\u001b[0;34m.\u001b[0m\u001b[0mestimator_\u001b[0m\u001b[0;34m.\u001b[0m\u001b[0mfit\u001b[0m\u001b[0;34m(\u001b[0m\u001b[0mX\u001b[0m\u001b[0;34m,\u001b[0m \u001b[0my\u001b[0m\u001b[0;34m,\u001b[0m \u001b[0msample_weight\u001b[0m\u001b[0;34m)\u001b[0m\u001b[0;34m\u001b[0m\u001b[0;34m\u001b[0m\u001b[0m\n\u001b[0m\u001b[1;32m    200\u001b[0m         \u001b[0;32mreturn\u001b[0m \u001b[0mself\u001b[0m\u001b[0;34m.\u001b[0m\u001b[0moob_decision_function_\u001b[0m\u001b[0;34m\u001b[0m\u001b[0;34m\u001b[0m\u001b[0m\n\u001b[1;32m    201\u001b[0m \u001b[0;34m\u001b[0m\u001b[0m\n",
            "\u001b[0;32m/usr/local/lib/python3.7/dist-packages/deepforest/forest.py\u001b[0m in \u001b[0;36mfit\u001b[0;34m(self, X, y, sample_weight)\u001b[0m\n\u001b[1;32m    477\u001b[0m                 \u001b[0mlock\u001b[0m\u001b[0;34m,\u001b[0m\u001b[0;34m\u001b[0m\u001b[0;34m\u001b[0m\u001b[0m\n\u001b[1;32m    478\u001b[0m             )\n\u001b[0;32m--> 479\u001b[0;31m             \u001b[0;32mfor\u001b[0m \u001b[0mi\u001b[0m\u001b[0;34m,\u001b[0m \u001b[0mt\u001b[0m \u001b[0;32min\u001b[0m \u001b[0menumerate\u001b[0m\u001b[0;34m(\u001b[0m\u001b[0mtrees\u001b[0m\u001b[0;34m)\u001b[0m\u001b[0;34m\u001b[0m\u001b[0;34m\u001b[0m\u001b[0m\n\u001b[0m\u001b[1;32m    480\u001b[0m         )\n\u001b[1;32m    481\u001b[0m         \u001b[0;31m# Collect newly grown trees\u001b[0m\u001b[0;34m\u001b[0m\u001b[0;34m\u001b[0m\u001b[0;34m\u001b[0m\u001b[0m\n",
            "\u001b[0;32m/usr/local/lib/python3.7/dist-packages/joblib/parallel.py\u001b[0m in \u001b[0;36m__call__\u001b[0;34m(self, iterable)\u001b[0m\n\u001b[1;32m   1042\u001b[0m                 \u001b[0mself\u001b[0m\u001b[0;34m.\u001b[0m\u001b[0m_iterating\u001b[0m \u001b[0;34m=\u001b[0m \u001b[0mself\u001b[0m\u001b[0;34m.\u001b[0m\u001b[0m_original_iterator\u001b[0m \u001b[0;32mis\u001b[0m \u001b[0;32mnot\u001b[0m \u001b[0;32mNone\u001b[0m\u001b[0;34m\u001b[0m\u001b[0;34m\u001b[0m\u001b[0m\n\u001b[1;32m   1043\u001b[0m \u001b[0;34m\u001b[0m\u001b[0m\n\u001b[0;32m-> 1044\u001b[0;31m             \u001b[0;32mwhile\u001b[0m \u001b[0mself\u001b[0m\u001b[0;34m.\u001b[0m\u001b[0mdispatch_one_batch\u001b[0m\u001b[0;34m(\u001b[0m\u001b[0miterator\u001b[0m\u001b[0;34m)\u001b[0m\u001b[0;34m:\u001b[0m\u001b[0;34m\u001b[0m\u001b[0;34m\u001b[0m\u001b[0m\n\u001b[0m\u001b[1;32m   1045\u001b[0m                 \u001b[0;32mpass\u001b[0m\u001b[0;34m\u001b[0m\u001b[0;34m\u001b[0m\u001b[0m\n\u001b[1;32m   1046\u001b[0m \u001b[0;34m\u001b[0m\u001b[0m\n",
            "\u001b[0;32m/usr/local/lib/python3.7/dist-packages/joblib/parallel.py\u001b[0m in \u001b[0;36mdispatch_one_batch\u001b[0;34m(self, iterator)\u001b[0m\n\u001b[1;32m    857\u001b[0m                 \u001b[0;32mreturn\u001b[0m \u001b[0;32mFalse\u001b[0m\u001b[0;34m\u001b[0m\u001b[0;34m\u001b[0m\u001b[0m\n\u001b[1;32m    858\u001b[0m             \u001b[0;32melse\u001b[0m\u001b[0;34m:\u001b[0m\u001b[0;34m\u001b[0m\u001b[0;34m\u001b[0m\u001b[0m\n\u001b[0;32m--> 859\u001b[0;31m                 \u001b[0mself\u001b[0m\u001b[0;34m.\u001b[0m\u001b[0m_dispatch\u001b[0m\u001b[0;34m(\u001b[0m\u001b[0mtasks\u001b[0m\u001b[0;34m)\u001b[0m\u001b[0;34m\u001b[0m\u001b[0;34m\u001b[0m\u001b[0m\n\u001b[0m\u001b[1;32m    860\u001b[0m                 \u001b[0;32mreturn\u001b[0m \u001b[0;32mTrue\u001b[0m\u001b[0;34m\u001b[0m\u001b[0;34m\u001b[0m\u001b[0m\n\u001b[1;32m    861\u001b[0m \u001b[0;34m\u001b[0m\u001b[0m\n",
            "\u001b[0;32m/usr/local/lib/python3.7/dist-packages/joblib/parallel.py\u001b[0m in \u001b[0;36m_dispatch\u001b[0;34m(self, batch)\u001b[0m\n\u001b[1;32m    775\u001b[0m         \u001b[0;32mwith\u001b[0m \u001b[0mself\u001b[0m\u001b[0;34m.\u001b[0m\u001b[0m_lock\u001b[0m\u001b[0;34m:\u001b[0m\u001b[0;34m\u001b[0m\u001b[0;34m\u001b[0m\u001b[0m\n\u001b[1;32m    776\u001b[0m             \u001b[0mjob_idx\u001b[0m \u001b[0;34m=\u001b[0m \u001b[0mlen\u001b[0m\u001b[0;34m(\u001b[0m\u001b[0mself\u001b[0m\u001b[0;34m.\u001b[0m\u001b[0m_jobs\u001b[0m\u001b[0;34m)\u001b[0m\u001b[0;34m\u001b[0m\u001b[0;34m\u001b[0m\u001b[0m\n\u001b[0;32m--> 777\u001b[0;31m             \u001b[0mjob\u001b[0m \u001b[0;34m=\u001b[0m \u001b[0mself\u001b[0m\u001b[0;34m.\u001b[0m\u001b[0m_backend\u001b[0m\u001b[0;34m.\u001b[0m\u001b[0mapply_async\u001b[0m\u001b[0;34m(\u001b[0m\u001b[0mbatch\u001b[0m\u001b[0;34m,\u001b[0m \u001b[0mcallback\u001b[0m\u001b[0;34m=\u001b[0m\u001b[0mcb\u001b[0m\u001b[0;34m)\u001b[0m\u001b[0;34m\u001b[0m\u001b[0;34m\u001b[0m\u001b[0m\n\u001b[0m\u001b[1;32m    778\u001b[0m             \u001b[0;31m# A job can complete so quickly than its callback is\u001b[0m\u001b[0;34m\u001b[0m\u001b[0;34m\u001b[0m\u001b[0;34m\u001b[0m\u001b[0m\n\u001b[1;32m    779\u001b[0m             \u001b[0;31m# called before we get here, causing self._jobs to\u001b[0m\u001b[0;34m\u001b[0m\u001b[0;34m\u001b[0m\u001b[0;34m\u001b[0m\u001b[0m\n",
            "\u001b[0;32m/usr/local/lib/python3.7/dist-packages/joblib/_parallel_backends.py\u001b[0m in \u001b[0;36mapply_async\u001b[0;34m(self, func, callback)\u001b[0m\n\u001b[1;32m    206\u001b[0m     \u001b[0;32mdef\u001b[0m \u001b[0mapply_async\u001b[0m\u001b[0;34m(\u001b[0m\u001b[0mself\u001b[0m\u001b[0;34m,\u001b[0m \u001b[0mfunc\u001b[0m\u001b[0;34m,\u001b[0m \u001b[0mcallback\u001b[0m\u001b[0;34m=\u001b[0m\u001b[0;32mNone\u001b[0m\u001b[0;34m)\u001b[0m\u001b[0;34m:\u001b[0m\u001b[0;34m\u001b[0m\u001b[0;34m\u001b[0m\u001b[0m\n\u001b[1;32m    207\u001b[0m         \u001b[0;34m\"\"\"Schedule a func to be run\"\"\"\u001b[0m\u001b[0;34m\u001b[0m\u001b[0;34m\u001b[0m\u001b[0m\n\u001b[0;32m--> 208\u001b[0;31m         \u001b[0mresult\u001b[0m \u001b[0;34m=\u001b[0m \u001b[0mImmediateResult\u001b[0m\u001b[0;34m(\u001b[0m\u001b[0mfunc\u001b[0m\u001b[0;34m)\u001b[0m\u001b[0;34m\u001b[0m\u001b[0;34m\u001b[0m\u001b[0m\n\u001b[0m\u001b[1;32m    209\u001b[0m         \u001b[0;32mif\u001b[0m \u001b[0mcallback\u001b[0m\u001b[0;34m:\u001b[0m\u001b[0;34m\u001b[0m\u001b[0;34m\u001b[0m\u001b[0m\n\u001b[1;32m    210\u001b[0m             \u001b[0mcallback\u001b[0m\u001b[0;34m(\u001b[0m\u001b[0mresult\u001b[0m\u001b[0;34m)\u001b[0m\u001b[0;34m\u001b[0m\u001b[0;34m\u001b[0m\u001b[0m\n",
            "\u001b[0;32m/usr/local/lib/python3.7/dist-packages/joblib/_parallel_backends.py\u001b[0m in \u001b[0;36m__init__\u001b[0;34m(self, batch)\u001b[0m\n\u001b[1;32m    570\u001b[0m         \u001b[0;31m# Don't delay the application, to avoid keeping the input\u001b[0m\u001b[0;34m\u001b[0m\u001b[0;34m\u001b[0m\u001b[0;34m\u001b[0m\u001b[0m\n\u001b[1;32m    571\u001b[0m         \u001b[0;31m# arguments in memory\u001b[0m\u001b[0;34m\u001b[0m\u001b[0;34m\u001b[0m\u001b[0;34m\u001b[0m\u001b[0m\n\u001b[0;32m--> 572\u001b[0;31m         \u001b[0mself\u001b[0m\u001b[0;34m.\u001b[0m\u001b[0mresults\u001b[0m \u001b[0;34m=\u001b[0m \u001b[0mbatch\u001b[0m\u001b[0;34m(\u001b[0m\u001b[0;34m)\u001b[0m\u001b[0;34m\u001b[0m\u001b[0;34m\u001b[0m\u001b[0m\n\u001b[0m\u001b[1;32m    573\u001b[0m \u001b[0;34m\u001b[0m\u001b[0m\n\u001b[1;32m    574\u001b[0m     \u001b[0;32mdef\u001b[0m \u001b[0mget\u001b[0m\u001b[0;34m(\u001b[0m\u001b[0mself\u001b[0m\u001b[0;34m)\u001b[0m\u001b[0;34m:\u001b[0m\u001b[0;34m\u001b[0m\u001b[0;34m\u001b[0m\u001b[0m\n",
            "\u001b[0;32m/usr/local/lib/python3.7/dist-packages/joblib/parallel.py\u001b[0m in \u001b[0;36m__call__\u001b[0;34m(self)\u001b[0m\n\u001b[1;32m    261\u001b[0m         \u001b[0;32mwith\u001b[0m \u001b[0mparallel_backend\u001b[0m\u001b[0;34m(\u001b[0m\u001b[0mself\u001b[0m\u001b[0;34m.\u001b[0m\u001b[0m_backend\u001b[0m\u001b[0;34m,\u001b[0m \u001b[0mn_jobs\u001b[0m\u001b[0;34m=\u001b[0m\u001b[0mself\u001b[0m\u001b[0;34m.\u001b[0m\u001b[0m_n_jobs\u001b[0m\u001b[0;34m)\u001b[0m\u001b[0;34m:\u001b[0m\u001b[0;34m\u001b[0m\u001b[0;34m\u001b[0m\u001b[0m\n\u001b[1;32m    262\u001b[0m             return [func(*args, **kwargs)\n\u001b[0;32m--> 263\u001b[0;31m                     for func, args, kwargs in self.items]\n\u001b[0m\u001b[1;32m    264\u001b[0m \u001b[0;34m\u001b[0m\u001b[0m\n\u001b[1;32m    265\u001b[0m     \u001b[0;32mdef\u001b[0m \u001b[0m__reduce__\u001b[0m\u001b[0;34m(\u001b[0m\u001b[0mself\u001b[0m\u001b[0;34m)\u001b[0m\u001b[0;34m:\u001b[0m\u001b[0;34m\u001b[0m\u001b[0;34m\u001b[0m\u001b[0m\n",
            "\u001b[0;32m/usr/local/lib/python3.7/dist-packages/joblib/parallel.py\u001b[0m in \u001b[0;36m<listcomp>\u001b[0;34m(.0)\u001b[0m\n\u001b[1;32m    261\u001b[0m         \u001b[0;32mwith\u001b[0m \u001b[0mparallel_backend\u001b[0m\u001b[0;34m(\u001b[0m\u001b[0mself\u001b[0m\u001b[0;34m.\u001b[0m\u001b[0m_backend\u001b[0m\u001b[0;34m,\u001b[0m \u001b[0mn_jobs\u001b[0m\u001b[0;34m=\u001b[0m\u001b[0mself\u001b[0m\u001b[0;34m.\u001b[0m\u001b[0m_n_jobs\u001b[0m\u001b[0;34m)\u001b[0m\u001b[0;34m:\u001b[0m\u001b[0;34m\u001b[0m\u001b[0;34m\u001b[0m\u001b[0m\n\u001b[1;32m    262\u001b[0m             return [func(*args, **kwargs)\n\u001b[0;32m--> 263\u001b[0;31m                     for func, args, kwargs in self.items]\n\u001b[0m\u001b[1;32m    264\u001b[0m \u001b[0;34m\u001b[0m\u001b[0m\n\u001b[1;32m    265\u001b[0m     \u001b[0;32mdef\u001b[0m \u001b[0m__reduce__\u001b[0m\u001b[0;34m(\u001b[0m\u001b[0mself\u001b[0m\u001b[0;34m)\u001b[0m\u001b[0;34m:\u001b[0m\u001b[0;34m\u001b[0m\u001b[0;34m\u001b[0m\u001b[0m\n",
            "\u001b[0;32m/usr/local/lib/python3.7/dist-packages/deepforest/forest.py\u001b[0m in \u001b[0;36m_parallel_build_trees\u001b[0;34m(tree, X, y, n_samples_bootstrap, sample_weight, out, mask, is_classifier, lock)\u001b[0m\n\u001b[1;32m    145\u001b[0m     \u001b[0;31m# Set the OOB predictions\u001b[0m\u001b[0;34m\u001b[0m\u001b[0;34m\u001b[0m\u001b[0;34m\u001b[0m\u001b[0m\n\u001b[1;32m    146\u001b[0m     oob_prediction = _C_FOREST.predict(\n\u001b[0;32m--> 147\u001b[0;31m         \u001b[0mX\u001b[0m\u001b[0;34m[\u001b[0m\u001b[0;34m~\u001b[0m\u001b[0msample_mask\u001b[0m\u001b[0;34m,\u001b[0m \u001b[0;34m:\u001b[0m\u001b[0;34m]\u001b[0m\u001b[0;34m,\u001b[0m \u001b[0mfeature\u001b[0m\u001b[0;34m,\u001b[0m \u001b[0mthreshold\u001b[0m\u001b[0;34m,\u001b[0m \u001b[0mchildren\u001b[0m\u001b[0;34m,\u001b[0m \u001b[0mvalue\u001b[0m\u001b[0;34m\u001b[0m\u001b[0;34m\u001b[0m\u001b[0m\n\u001b[0m\u001b[1;32m    148\u001b[0m     )\n\u001b[1;32m    149\u001b[0m     \u001b[0;32mwith\u001b[0m \u001b[0mlock\u001b[0m\u001b[0;34m:\u001b[0m\u001b[0;34m\u001b[0m\u001b[0;34m\u001b[0m\u001b[0m\n",
            "\u001b[0;31mKeyboardInterrupt\u001b[0m: "
          ]
        },
        {
          "output_type": "display_data",
          "data": {
            "image/png": "[encoded data removed]",
            "text/plain": [
              "<Figure size 864x432 with 2 Axes>"
            ]
          },
          "metadata": {
            "tags": []
          }
        }
      ]
    },
    {
      "cell_type": "markdown",
      "metadata": {
        "id": "M2wOSvsZPPMw"
      },
      "source": [
        "以下无需执行"
      ]
    },
    {
      "cell_type": "markdown",
      "metadata": {
        "id": "ri2-Dx8T2i22"
      },
      "source": [
        "数据集删除V22~V26，验证结果（数据已经过PCA，这一步没必要）"
      ]
    },
    {
      "cell_type": "code",
      "metadata": {
        "id": "zagaYxDa2mpi"
      },
      "source": [
        "df=df.drop(['V22','V23','V24','V25','V26'],axis=1)\n",
        "X = df.drop(columns = 'Class')\n",
        "y = df['Class']\n",
        "#Split data into train and test\n",
        "X_train, X_test, y_train, y_test = train_test_split(X.values, y.values, test_size = 0.3, random_state = 1)\n",
        "sm = SMOTE(random_state = 1)\n",
        "X_train_sm, y_train_sm = sm.fit_sample(X_train, y_train)\n",
        "X_test_sm = np.array(X_test)\n",
        "y_test_sm = np.array(y_test)"
      ],
      "execution_count": null,
      "outputs": []
    },
    {
      "cell_type": "code",
      "metadata": {
        "id": "kDT6pAeJ2n7b"
      },
      "source": [
        "#用来跑SMOTE处理后的全模型对比图\n",
        "def results_sm_graph(balancing_technique):\n",
        "    print(balancing_technique)\n",
        "    fig, (ax1, ax2) = plt.subplots(1,2,figsize = (12,6))\n",
        "    model_name2 = [\"CART\",\"RF\", \"XGB\", \"LGB\",\"DF\"]\n",
        "    CARTC = DecisionTreeClassifier(random_state = 3)\n",
        "    RFC = RandomForestClassifier(random_state = 3)\n",
        "    XGBC = XGBClassifier(random_state = 3)\n",
        "    LGBC= LGBMClassifier(boosting_type='gbdt', class_weight=None,\n",
        "        colsample_bytree=0.5112837457460335, importance_type='split',\n",
        "        learning_rate=0.02, max_depth=7, metric='None',\n",
        "        min_child_samples=195, min_child_weight=0.01, min_split_gain=0.0,\n",
        "        n_estimators=3000, n_jobs=4, num_leaves=44, objective=None,\n",
        "        random_state=42, reg_alpha=2, reg_lambda=10, silent=True,\n",
        "        subsample=0.8137506311449016, subsample_for_bin=200000,\n",
        "        subsample_freq=0)\n",
        "    DEEPF = CascadeForestClassifier(random_state=3)\n",
        "\n",
        "    \n",
        "    for clf2,i in zip([CARTC,RFC,XGBC,LGBC,DEEPF], model_name2):\n",
        "      if i != \"DF\" :\n",
        "        model=clf2.fit(X_train_sm, y_train_sm)\n",
        "      else  :\n",
        "        model=clf2\n",
        "        clf2.fit(X_train_sm, y_train_sm)\n",
        "\n",
        "        y_pred = model.predict(X_test_sm)\n",
        "        y_pred_prob = model.predict_proba(X_test_sm)[:,1]\n",
        "        \n",
        "        print(\"#\"*25,i,\"#\"*25)\n",
        "        print(\"Training Accuracy = {:.3f}\".format(model.score(X_train_sm, y_train_sm)))\n",
        "        print(\"Test Accuracy = {:.3f}\".format(model.score(X_test_sm, y_test_sm)))\n",
        "        print(\"ROC_AUC_score : %.6f\" % (roc_auc_score(y_test_sm, y_pred)))\n",
        "        #Confusion Matrix\n",
        "        print(confusion_matrix(y_test_sm, y_pred))\n",
        "        print(\"-\"*15,\"CLASSIFICATION REPORT\",\"-\"*15)\n",
        "        print(classification_report(y_test_sm, y_pred))\n",
        "        \n",
        "        \n",
        "        #precision-recall curve\n",
        "        precision, recall, thresholds_pr = precision_recall_curve(y_test_sm, y_pred_prob)\n",
        "        avg_pre = average_precision_score(y_test_sm, y_pred_prob)\n",
        "        ax1.plot(precision, recall, label = i+ \" average precision = {:0.2f}\".format(avg_pre), lw = 3, alpha = 0.7)\n",
        "        \n",
        "        \n",
        "        ax1.set_xlabel('Precision', fontsize = 14)\n",
        "        ax1.set_ylabel('Recall', fontsize = 14)\n",
        "        ax1.set_title('Precision-Recall Curve', fontsize = 18)\n",
        "        ax1.legend(loc = 'best')\n",
        "        #find default threshold\n",
        "        close_default = np.argmin(np.abs(thresholds_pr - 0.5))\n",
        "        ax1.plot(precision[close_default], recall[close_default], 'o', markersize = 8)\n",
        "\n",
        "        #roc-curve\n",
        "        fpr, tpr, thresholds_roc = roc_curve(y_test, y_pred_prob)\n",
        "        roc_auc = auc(fpr,tpr)\n",
        "        ax2.plot(fpr,tpr, label = i+ \" area = {:0.2f}\".format(roc_auc), lw = 3, alpha = 0.7)\n",
        "        ax2.plot([0,1], [0,1], 'r', linestyle = \"--\", lw = 2)\n",
        "        ax2.set_xlabel(\"False Positive Rate\", fontsize = 14)\n",
        "        ax2.set_ylabel(\"True Positive Rate\", fontsize = 14)\n",
        "        ax2.set_title(\"ROC Curve\", fontsize = 18)\n",
        "        ax2.legend(loc = 'best')\n",
        "        #find default threshold\n",
        "        close_default = np.argmin(np.abs(thresholds_roc - 0.5))\n",
        "        ax2.plot(fpr[close_default], tpr[close_default], 'o', markersize = 8)\n",
        "        plt.tight_layout()"
      ],
      "execution_count": null,
      "outputs": []
    },
    {
      "cell_type": "code",
      "metadata": {
        "colab": {
          "base_uri": "https://localhost:8080/",
          "height": 1000
        },
        "id": "E481XONj2ohE",
        "outputId": "99eca252-45e8-4c22-c47d-e3a9d3c0e164"
      },
      "source": [
        "results_graph(\"Model Collection - Original\")"
      ],
      "execution_count": null,
      "outputs": [
        {
          "output_type": "stream",
          "text": [
            "Model Collection - Original\n",
            "######################### CART #########################\n",
            "Training Accuracy = 1.000\n",
            "Test Accuracy = 0.999\n",
            "ROC_AUC_score : 0.859007\n",
            "[[85265    43]\n",
            " [   38    97]]\n",
            "--------------- CLASSIFICATION REPORT ---------------\n",
            "              precision    recall  f1-score   support\n",
            "\n",
            "           0       1.00      1.00      1.00     85308\n",
            "           1       0.69      0.72      0.71       135\n",
            "\n",
            "    accuracy                           1.00     85443\n",
            "   macro avg       0.85      0.86      0.85     85443\n",
            "weighted avg       1.00      1.00      1.00     85443\n",
            "\n",
            "######################### RF #########################\n",
            "Training Accuracy = 1.000\n",
            "Test Accuracy = 0.999\n",
            "ROC_AUC_score : 0.877702\n",
            "[[85295    13]\n",
            " [   33   102]]\n",
            "--------------- CLASSIFICATION REPORT ---------------\n",
            "              precision    recall  f1-score   support\n",
            "\n",
            "           0       1.00      1.00      1.00     85308\n",
            "           1       0.89      0.76      0.82       135\n",
            "\n",
            "    accuracy                           1.00     85443\n",
            "   macro avg       0.94      0.88      0.91     85443\n",
            "weighted avg       1.00      1.00      1.00     85443\n",
            "\n",
            "######################### XGB #########################\n",
            "Training Accuracy = 1.000\n",
            "Test Accuracy = 0.999\n",
            "ROC_AUC_score : 0.873992\n",
            "[[85294    14]\n",
            " [   34   101]]\n",
            "--------------- CLASSIFICATION REPORT ---------------\n",
            "              precision    recall  f1-score   support\n",
            "\n",
            "           0       1.00      1.00      1.00     85308\n",
            "           1       0.88      0.75      0.81       135\n",
            "\n",
            "    accuracy                           1.00     85443\n",
            "   macro avg       0.94      0.87      0.90     85443\n",
            "weighted avg       1.00      1.00      1.00     85443\n",
            "\n",
            "######################### LGB #########################\n",
            "Training Accuracy = 1.000\n",
            "Test Accuracy = 1.000\n",
            "ROC_AUC_score : 0.877737\n",
            "[[85301     7]\n",
            " [   33   102]]\n",
            "--------------- CLASSIFICATION REPORT ---------------\n",
            "              precision    recall  f1-score   support\n",
            "\n",
            "           0       1.00      1.00      1.00     85308\n",
            "           1       0.94      0.76      0.84       135\n",
            "\n",
            "    accuracy                           1.00     85443\n",
            "   macro avg       0.97      0.88      0.92     85443\n",
            "weighted avg       1.00      1.00      1.00     85443\n",
            "\n",
            "[2021-04-02 10:36:29.765] Start to fit the model:\n",
            "[2021-04-02 10:36:29.766] Fitting cascade layer = 0 \n",
            "[2021-04-02 10:38:13.140] layer = 0  | Val Acc = 99.953 % | Elapsed = 103.374 s\n",
            "[2021-04-02 10:38:13.274] Fitting cascade layer = 1 \n",
            "[2021-04-02 10:39:46.346] layer = 1  | Val Acc = 99.955 % | Elapsed = 93.072 s\n",
            "[2021-04-02 10:39:46.473] Fitting cascade layer = 2 \n",
            "[2021-04-02 10:41:20.127] layer = 2  | Val Acc = 99.955 % | Elapsed = 93.653 s\n",
            "[2021-04-02 10:41:20.128] Early stopping counter: 1 out of 2\n",
            "[2021-04-02 10:41:20.252] Fitting cascade layer = 3 \n",
            "[2021-04-02 10:42:55.057] layer = 3  | Val Acc = 99.955 % | Elapsed = 94.804 s\n",
            "[2021-04-02 10:42:55.057] Early stopping counter: 2 out of 2\n",
            "[2021-04-02 10:42:55.057] Handling early stopping\n",
            "[2021-04-02 10:42:55.061] The optimal number of layers: 2\n",
            "[2021-04-02 10:42:55.065] Start to evalute the model:\n",
            "[2021-04-02 10:42:55.253] Evaluating cascade layer = 0 \n",
            "[2021-04-02 10:42:58.125] Evaluating cascade layer = 1 \n",
            "[2021-04-02 10:43:00.927] Start to evalute the model:\n",
            "[2021-04-02 10:43:01.113] Evaluating cascade layer = 0 \n",
            "[2021-04-02 10:43:03.994] Evaluating cascade layer = 1 \n",
            "######################### DF #########################\n",
            "[2021-04-02 10:43:06.812] Start to evalute the model:\n",
            "[2021-04-02 10:43:07.251] Evaluating cascade layer = 0 \n",
            "[2021-04-02 10:43:13.739] Evaluating cascade layer = 1 \n",
            "Training Accuracy = 1.000\n",
            "[2021-04-02 10:43:20.214] Start to evalute the model:\n",
            "[2021-04-02 10:43:20.400] Evaluating cascade layer = 0 \n",
            "[2021-04-02 10:43:23.282] Evaluating cascade layer = 1 \n",
            "Test Accuracy = 1.000\n",
            "ROC_AUC_score : 0.888824\n",
            "[[85297    11]\n",
            " [   30   105]]\n",
            "--------------- CLASSIFICATION REPORT ---------------\n",
            "              precision    recall  f1-score   support\n",
            "\n",
            "           0       1.00      1.00      1.00     85308\n",
            "           1       0.91      0.78      0.84       135\n",
            "\n",
            "    accuracy                           1.00     85443\n",
            "   macro avg       0.95      0.89      0.92     85443\n",
            "weighted avg       1.00      1.00      1.00     85443\n",
            "\n"
          ],
          "name": "stdout"
        },
        {
          "output_type": "display_data",
          "data": {
            "image/png": "[encoded data removed]",
            "text/plain": [
              "<Figure size 864x432 with 2 Axes>"
            ]
          },
          "metadata": {
            "tags": []
          }
        }
      ]
    },
    {
      "cell_type": "code",
      "metadata": {
        "id": "pKOwXLZwljlD"
      },
      "source": [
        ""
      ],
      "execution_count": null,
      "outputs": []
    },
    {
      "cell_type": "markdown",
      "metadata": {
        "id": "Y7pmnPJ0E33n"
      },
      "source": [
        "# 4 Model Tuning"
      ]
    },
    {
      "cell_type": "markdown",
      "metadata": {
        "id": "4j56vj36JW9Y"
      },
      "source": [
        "## 4.1 Tuning parameters - by Zhaoxing Weng"
      ]
    },
    {
      "cell_type": "code",
      "metadata": {
        "id": "kqqeQILkJiCX"
      },
      "source": [
        "from sklearn.model_selection import GridSearchCV\n",
        "xgb_model = xgb.XGBClassifier(\n",
        "    learning_rate=0.1,\n",
        "    gamma= 0,\n",
        "    subsample=0.8,\n",
        "    colsample_bytree=0.8,\n",
        "    objective='binary:logistic',\n",
        "    ##\"nthread=4,\n",
        "    scale_pos_weight=1,\n",
        "    n_estimators=xgb_cv.shape[0], \n",
        "    seed=0,\n",
        "    nthread=-1\n",
        ")\n",
        "\n",
        "xgb_params = {\n",
        "    \"max_depth\":range(3, 10, 2),\n",
        "    \"min_child_weight\":range(1, 6, 2),\n",
        "}\n",
        "\n",
        "grid = GridSearchCV(xgb_model, param_grid=xgb_params, cv=5, scoring='roc_auc')\n",
        "grid.fit(X_train_sm, y_train_sm)"
      ],
      "execution_count": null,
      "outputs": []
    },
    {
      "cell_type": "code",
      "metadata": {
        "id": "pVNXmokHJiuY"
      },
      "source": [
        "print(grid.best_params_)\n",
        "test_predict1 = grid.predict(X_test_sm)\n",
        "\n",
        "print(\"accuracy_score:\"+str(accuracy_score(y_test_sm, test_predict1)))"
      ],
      "execution_count": null,
      "outputs": []
    },
    {
      "cell_type": "code",
      "metadata": {
        "id": "kCKKtlveJirT"
      },
      "source": [
        "xgb_params2 = {\n",
        "    \"max_depth\":range(2, 4),\n",
        "    \"min_child_weight\":range(4, 6),\n",
        "}\n",
        "\n",
        "grid2 = GridSearchCV(xgb_model, param_grid=xgb_params2, cv=5, scoring='roc_auc')\n",
        "grid2.fit(X_train, y_train)\n",
        "\n",
        "print(grid2.best_params_)\n",
        "test_predict2 = grid2.predict(X_test_sm)\n",
        "\n",
        "print(\"accuracy_score:\"+str(accuracy_score(y_test_sm, test_predict2)))"
      ],
      "execution_count": null,
      "outputs": []
    },
    {
      "cell_type": "code",
      "metadata": {
        "id": "He8f8hVzJiox"
      },
      "source": [
        "dtrain = xgb.DMatrix(X_train_sm, label=y_train_sm)\n",
        "xgb_cv = xgb.cv(params=grid.best_estimator_.get_params(), dtrain=dtrain, num_boost_round=1000, early_stopping_rounds=50, metrics=\"auc\", nfold=5, show_stdv=False)\n",
        "print(xgb_cv.shape[0])"
      ],
      "execution_count": null,
      "outputs": []
    },
    {
      "cell_type": "code",
      "metadata": {
        "id": "2AokU9YlJibd"
      },
      "source": [
        "xgb_model2 = xgb.XGBClassifier(\n",
        "    learning_rate=0.1,\n",
        "    max_depth=3,\n",
        "    min_child_weight=5, \n",
        "    gamma= 0,\n",
        "    objective='binary:logistic',\n",
        "    ##\"nthread=4,\n",
        "    scale_pos_weight=1,\n",
        "    n_estimators=xgb_cv.shape[0], \n",
        "    seed=0,\n",
        "    nthread=-1\n",
        ")\n",
        "\n",
        "xgb_params3 = {\n",
        "    \"subsample\":np.arange(0.3, 1, 0.1),\n",
        "    \"colsample_bytree\":np.arange(0.3, 1, 0.1)\n",
        "}\n",
        "\n",
        "grid3 = GridSearchCV(xgb_model2, param_grid=xgb_params3, cv=5)\n",
        "grid3.fit(X_train_sm, y_train_sm)\n",
        "\n",
        "print(grid3.best_params_)\n",
        "test_predict3 = grid3.predict(X_test_sm)\n",
        "\n",
        "print(\"accuracy_score:\"+str(accuracy_score(y_test_sm, test_predict3)))    "
      ],
      "execution_count": null,
      "outputs": []
    },
    {
      "cell_type": "code",
      "metadata": {
        "id": "oT-8rjELvuIP"
      },
      "source": [
        "xgb_params4 = {\n",
        "    \"subsample\":np.arange(0.8, 1, 0.05),\n",
        "    \"colsample_bytree\":np.arange(0.45, 0.55, 0.05)\n",
        "}\n",
        "\n",
        "grid4 = GridSearchCV(xgb_model2, param_grid=xgb_params4, cv=5)\n",
        "grid4.fit(X_train_sm, y_train_sm)\n",
        "\n",
        "print(grid4.best_params_)\n",
        "test_predict4 = grid4.predict(X_test_sm)\n",
        "\n",
        "print(\"accuracy_score:\"+str(accuracy_score(y_test_sm, test_predict4)))   "
      ],
      "execution_count": null,
      "outputs": []
    },
    {
      "cell_type": "code",
      "metadata": {
        "id": "pvVaYVeAvuV8"
      },
      "source": [
        "xgb_model3 = xgb.XGBClassifier(\n",
        "    learning_rate=0.1,\n",
        "    max_depth=3,\n",
        "    min_child_weight=5, \n",
        "    colsample_bytree=0.5, \n",
        "    subsample=0.85, \n",
        "    gamma= 0,\n",
        "    objective='binary:logistic',\n",
        "    ##\"nthread=4,\n",
        "    scale_pos_weight=1,\n",
        "    n_estimators=xgb_cv.shape[0], \n",
        "    seed=0,\n",
        "    nthread=-1\n",
        ")\n",
        "\n",
        "xgb_params5 = {\n",
        "    \"reg_alpha\":[0.1, 1],\n",
        "    \"reg_lambda\":[0.5, 1, 2]\n",
        "}\n",
        "\n",
        "grid5 = GridSearchCV(xgb_model3, param_grid=xgb_params5, cv=5)\n",
        "grid5.fit(X_train_sm, y_train_sm)\n",
        "\n",
        "print(grid5.best_params_)\n",
        "test_predict5 = grid5.predict(X_test_sm)\n",
        "\n",
        "print(\"accuracy_score:\"+str(accuracy_score(y_test_sm, test_predict5)))"
      ],
      "execution_count": null,
      "outputs": []
    },
    {
      "cell_type": "code",
      "metadata": {
        "id": "VbqR-p6Ovuhh"
      },
      "source": [
        "best_params, tuning_history = dict(), list()\n",
        "booster = lgb.train(params, dtrain, valid_sets=dval,\n",
        "                    verbose_eval=0,\n",
        "                    best_params=best_params,\n",
        "                    tuning_history=tuning_history)\n",
        " \n",
        "print(‘Best Params:’, best_params)\n",
        "print(‘Tuning history:’, tuning_history)"
      ],
      "execution_count": null,
      "outputs": []
    },
    {
      "cell_type": "markdown",
      "metadata": {
        "id": "sjLhCXhN1Rj-"
      },
      "source": [
        "## 4.2 Tuning parameters LightGBM -by Deshan Huang"
      ]
    },
    {
      "cell_type": "code",
      "metadata": {
        "colab": {
          "base_uri": "https://localhost:8080/"
        },
        "id": "NpGCZ_wv4kra",
        "outputId": "9e9536eb-7bf3-427a-d5c5-c197168770b1"
      },
      "source": [
        "!pip install optuna"
      ],
      "execution_count": null,
      "outputs": [
        {
          "output_type": "stream",
          "text": [
            "Collecting optuna\n",
            "\u001b[?25l  Downloading https://files.pythonhosted.org/packages/50/67/ed0af7c66bcfb9a9a56fbafcca7d848452d78433208b59b003741879cc69/optuna-2.6.0-py3-none-any.whl (293kB)\n",
            "\r\u001b[K     |█▏                              | 10kB 14.2MB/s eta 0:00:01\r\u001b[K     |██▎                             | 20kB 14.3MB/s eta 0:00:01\r\u001b[K     |███▍                            | 30kB 10.2MB/s eta 0:00:01\r\u001b[K     |████▌                           | 40kB 8.3MB/s eta 0:00:01\r\u001b[K     |█████▋                          | 51kB 4.9MB/s eta 0:00:01\r\u001b[K     |██████▊                         | 61kB 5.6MB/s eta 0:00:01\r\u001b[K     |███████▉                        | 71kB 5.7MB/s eta 0:00:01\r\u001b[K     |█████████                       | 81kB 6.2MB/s eta 0:00:01\r\u001b[K     |██████████                      | 92kB 5.8MB/s eta 0:00:01\r\u001b[K     |███████████▏                    | 102kB 6.3MB/s eta 0:00:01\r\u001b[K     |████████████▎                   | 112kB 6.3MB/s eta 0:00:01\r\u001b[K     |█████████████▍                  | 122kB 6.3MB/s eta 0:00:01\r\u001b[K     |██████████████▌                 | 133kB 6.3MB/s eta 0:00:01\r\u001b[K     |███████████████▋                | 143kB 6.3MB/s eta 0:00:01\r\u001b[K     |████████████████▊               | 153kB 6.3MB/s eta 0:00:01\r\u001b[K     |█████████████████▉              | 163kB 6.3MB/s eta 0:00:01\r\u001b[K     |███████████████████             | 174kB 6.3MB/s eta 0:00:01\r\u001b[K     |████████████████████▏           | 184kB 6.3MB/s eta 0:00:01\r\u001b[K     |█████████████████████▎          | 194kB 6.3MB/s eta 0:00:01\r\u001b[K     |██████████████████████▍         | 204kB 6.3MB/s eta 0:00:01\r\u001b[K     |███████████████████████▌        | 215kB 6.3MB/s eta 0:00:01\r\u001b[K     |████████████████████████▋       | 225kB 6.3MB/s eta 0:00:01\r\u001b[K     |█████████████████████████▊      | 235kB 6.3MB/s eta 0:00:01\r\u001b[K     |██████████████████████████▉     | 245kB 6.3MB/s eta 0:00:01\r\u001b[K     |████████████████████████████    | 256kB 6.3MB/s eta 0:00:01\r\u001b[K     |█████████████████████████████   | 266kB 6.3MB/s eta 0:00:01\r\u001b[K     |██████████████████████████████▏ | 276kB 6.3MB/s eta 0:00:01\r\u001b[K     |███████████████████████████████▎| 286kB 6.3MB/s eta 0:00:01\r\u001b[K     |████████████████████████████████| 296kB 6.3MB/s \n",
            "\u001b[?25hRequirement already satisfied: numpy<1.20.0 in /usr/local/lib/python3.7/dist-packages (from optuna) (1.19.5)\n",
            "Requirement already satisfied: packaging>=20.0 in /usr/local/lib/python3.7/dist-packages (from optuna) (20.9)\n",
            "Collecting cmaes>=0.8.2\n",
            "  Downloading https://files.pythonhosted.org/packages/01/1f/43b01223a0366171f474320c6e966c39a11587287f098a5f09809b45e05f/cmaes-0.8.2-py3-none-any.whl\n",
            "Requirement already satisfied: tqdm in /usr/local/lib/python3.7/dist-packages (from optuna) (4.41.1)\n",
            "Collecting colorlog\n",
            "  Downloading https://files.pythonhosted.org/packages/51/62/61449c6bb74c2a3953c415b2cdb488e4f0518ac67b35e2b03a6d543035ca/colorlog-4.8.0-py2.py3-none-any.whl\n",
            "Requirement already satisfied: sqlalchemy>=1.1.0 in /usr/local/lib/python3.7/dist-packages (from optuna) (1.4.3)\n",
            "Collecting cliff\n",
            "\u001b[?25l  Downloading https://files.pythonhosted.org/packages/a2/d6/7d9acb68a77acd140be7fececb7f2701b2a29d2da9c54184cb8f93509590/cliff-3.7.0-py3-none-any.whl (80kB)\n",
            "\u001b[K     |████████████████████████████████| 81kB 5.6MB/s \n",
            "\u001b[?25hCollecting alembic\n",
            "\u001b[?25l  Downloading https://files.pythonhosted.org/packages/72/a4/97eb6273839655cac14947986fa7a5935350fcfd4fff872e9654264c82d8/alembic-1.5.8-py2.py3-none-any.whl (159kB)\n",
            "\u001b[K     |████████████████████████████████| 163kB 16.2MB/s \n",
            "\u001b[?25hRequirement already satisfied: scipy!=1.4.0 in /usr/local/lib/python3.7/dist-packages (from optuna) (1.4.1)\n",
            "Requirement already satisfied: pyparsing>=2.0.2 in /usr/local/lib/python3.7/dist-packages (from packaging>=20.0->optuna) (2.4.7)\n",
            "Requirement already satisfied: importlib-metadata; python_version < \"3.8\" in /usr/local/lib/python3.7/dist-packages (from sqlalchemy>=1.1.0->optuna) (3.8.1)\n",
            "Requirement already satisfied: greenlet!=0.4.17; python_version >= \"3\" in /usr/local/lib/python3.7/dist-packages (from sqlalchemy>=1.1.0->optuna) (1.0.0)\n",
            "Collecting pbr!=2.1.0,>=2.0.0\n",
            "\u001b[?25l  Downloading https://files.pythonhosted.org/packages/fb/48/69046506f6ac61c1eaa9a0d42d22d54673b69e176d30ca98e3f61513e980/pbr-5.5.1-py2.py3-none-any.whl (106kB)\n",
            "\u001b[K     |████████████████████████████████| 112kB 19.6MB/s \n",
            "\u001b[?25hRequirement already satisfied: PrettyTable>=0.7.2 in /usr/local/lib/python3.7/dist-packages (from cliff->optuna) (2.1.0)\n",
            "Requirement already satisfied: PyYAML>=3.12 in /usr/local/lib/python3.7/dist-packages (from cliff->optuna) (3.13)\n",
            "Collecting stevedore>=2.0.1\n",
            "\u001b[?25l  Downloading https://files.pythonhosted.org/packages/d4/49/b602307aeac3df3384ff1fcd05da9c0376c622a6c48bb5325f28ab165b57/stevedore-3.3.0-py3-none-any.whl (49kB)\n",
            "\u001b[K     |████████████████████████████████| 51kB 5.2MB/s \n",
            "\u001b[?25hCollecting cmd2>=1.0.0\n",
            "\u001b[?25l  Downloading https://files.pythonhosted.org/packages/15/8b/15061b32332bb35ea2a2f6263d0f616779d576e82739ec8e7fcf3c94abf5/cmd2-1.5.0-py3-none-any.whl (133kB)\n",
            "\u001b[K     |████████████████████████████████| 143kB 18.2MB/s \n",
            "\u001b[?25hCollecting Mako\n",
            "\u001b[?25l  Downloading https://files.pythonhosted.org/packages/f3/54/dbc07fbb20865d3b78fdb7cf7fa713e2cba4f87f71100074ef2dc9f9d1f7/Mako-1.1.4-py2.py3-none-any.whl (75kB)\n",
            "\u001b[K     |████████████████████████████████| 81kB 6.5MB/s \n",
            "\u001b[?25hCollecting python-editor>=0.3\n",
            "  Downloading https://files.pythonhosted.org/packages/c6/d3/201fc3abe391bbae6606e6f1d598c15d367033332bd54352b12f35513717/python_editor-1.0.4-py3-none-any.whl\n",
            "Requirement already satisfied: python-dateutil in /usr/local/lib/python3.7/dist-packages (from alembic->optuna) (2.8.1)\n",
            "Requirement already satisfied: typing-extensions>=3.6.4; python_version < \"3.8\" in /usr/local/lib/python3.7/dist-packages (from importlib-metadata; python_version < \"3.8\"->sqlalchemy>=1.1.0->optuna) (3.7.4.3)\n",
            "Requirement already satisfied: zipp>=0.5 in /usr/local/lib/python3.7/dist-packages (from importlib-metadata; python_version < \"3.8\"->sqlalchemy>=1.1.0->optuna) (3.4.1)\n",
            "Requirement already satisfied: wcwidth in /usr/local/lib/python3.7/dist-packages (from PrettyTable>=0.7.2->cliff->optuna) (0.2.5)\n",
            "Collecting colorama>=0.3.7\n",
            "  Downloading https://files.pythonhosted.org/packages/44/98/5b86278fbbf250d239ae0ecb724f8572af1c91f4a11edf4d36a206189440/colorama-0.4.4-py2.py3-none-any.whl\n",
            "Requirement already satisfied: attrs>=16.3.0 in /usr/local/lib/python3.7/dist-packages (from cmd2>=1.0.0->cliff->optuna) (20.3.0)\n",
            "Collecting pyperclip>=1.6\n",
            "  Downloading https://files.pythonhosted.org/packages/a7/2c/4c64579f847bd5d539803c8b909e54ba087a79d01bb3aba433a95879a6c5/pyperclip-1.8.2.tar.gz\n",
            "Requirement already satisfied: MarkupSafe>=0.9.2 in /usr/local/lib/python3.7/dist-packages (from Mako->alembic->optuna) (1.1.1)\n",
            "Requirement already satisfied: six>=1.5 in /usr/local/lib/python3.7/dist-packages (from python-dateutil->alembic->optuna) (1.15.0)\n",
            "Building wheels for collected packages: pyperclip\n",
            "  Building wheel for pyperclip (setup.py) ... \u001b[?25l\u001b[?25hdone\n",
            "  Created wheel for pyperclip: filename=pyperclip-1.8.2-cp37-none-any.whl size=11107 sha256=9f4c05ea6c147414cc9fd34c419cd230a35e7a2f1363589667178851cd21b01b\n",
            "  Stored in directory: /root/.cache/pip/wheels/25/af/b8/3407109267803f4015e1ee2ff23be0c8c19ce4008665931ee1\n",
            "Successfully built pyperclip\n",
            "Installing collected packages: cmaes, colorlog, pbr, stevedore, colorama, pyperclip, cmd2, cliff, Mako, python-editor, alembic, optuna\n",
            "Successfully installed Mako-1.1.4 alembic-1.5.8 cliff-3.7.0 cmaes-0.8.2 cmd2-1.5.0 colorama-0.4.4 colorlog-4.8.0 optuna-2.6.0 pbr-5.5.1 pyperclip-1.8.2 python-editor-1.0.4 stevedore-3.3.0\n"
          ],
          "name": "stdout"
        }
      ]
    },
    {
      "cell_type": "code",
      "metadata": {
        "id": "6YmfDU5r2axW"
      },
      "source": [
        "import optuna \n",
        "\n",
        "# LightGBM Tuner: New Optuna Integration for Hyperparameter Optimization \n",
        "# https://medium.com/optuna/lightgbm-tuner-new-optuna-integration-for-hyperparameter-optimization-8b7095e99258\n",
        "import optuna.integration.lightgbm as lgb"
      ],
      "execution_count": null,
      "outputs": []
    },
    {
      "cell_type": "code",
      "metadata": {
        "id": "xLkxjeXPSbWt"
      },
      "source": [
        "## train_x, test_x, train_y, test_y = train_test_split(X.values, y.values, test_size = 0.25, random_state = 1)"
      ],
      "execution_count": null,
      "outputs": []
    },
    {
      "cell_type": "code",
      "metadata": {
        "id": "t0KzP0GB1Zk9"
      },
      "source": [
        "def objective(trial):\n",
        "    # data, target = sklearn.datasets.load_breast_cancer(return_X_y=True)\n",
        "    \n",
        "    train_x, test_x, train_y, test_y = train_test_split(X.values, y.values, test_size = 0.25, random_state = 1)\n",
        "    sm = SMOTE(random_state = 1)\n",
        "    X_train_sm, y_train_sm = sm.fit_sample(train_x, train_y)\n",
        "    X_test_sm = np.array(test_x)\n",
        "    y_test_sm = np.array(test_y)\n",
        "    dtrain = lgb.Dataset(X_train_sm, label=y_train_sm)\n",
        "\n",
        "    param = {\n",
        "        'objective': 'binary',\n",
        "        'is_unbalance': True,   #set this to true if training data are unbalanced\n",
        "        'num_leaves' : trial.suggest_int('num_leaves', 1, 1000),  #control the complexity of the tree model.\n",
        "        'min_data_in_leaf':trial.suggest_int('min_data_in_leaf',1, 1000),   #prevent over-fitting in a leaf-wise tree. \n",
        "        'max_depth': trial.suggest_int('max_depth', 5, 15),  #limit the tree depth explicitly.\n",
        "        'metric': 'binary_logloss',   #set evaluation metric\n",
        "        'bagging_freq': trial.suggest_int('bagging_freq', 1, 7),  #k means perform bagging at every k iteration\n",
        "        'learning_rate': trial.suggest_loguniform(\"learning_rate\", 1e-4, 1), #affects on normalization weights of dropped trees\n",
        "        'bagging_fraction': trial.suggest_float('bagging_fraction', 0.4, 1.0),  #to enable bagging, bagging_fraction should be set to value smaller than 1.0 as well\n",
        "\n",
        "        'verbosity': -1,  #controls the level of LightGBM’s verbosity\n",
        "        'num_iterations': trial.suggest_int('num_iterations', 400, 3000),  #number of boosting iterations\n",
        "        #'early_stopping_rounds': 5,    # reduce training time\n",
        "\n",
        "        'min_child_weight':trial.suggest_int('min_child_weight', 0.1, 6),  #Deal with Over-fitting\n",
        "        'feature_fraction': trial.suggest_float('feature_fraction', 0.1, 1.0),  #Deal with Over-fitting\n",
        "        'lambda_l1': trial.suggest_float('lambda_l1', 1e-8, 10.0, log=True),   #Deal with Over-fitting\n",
        "        'lambda_l2': trial.suggest_float('lambda_l2', 1e-8, 10.0, log=True),   #Deal with Over-fitting\n",
        "        \n",
        "    }\n",
        " \n",
        "    \n",
        "    \n",
        "    gbm = lgb.train(param, dtrain)\n",
        "    preds = gbm.predict(test_x)\n",
        "    pred_labels = np.rint(preds)\n",
        "    avg_pre = average_precision_score(test_y, pred_labels)\n",
        "    return avg_pre\n",
        " \n",
        "    \n",
        "\n",
        "   "
      ],
      "execution_count": null,
      "outputs": []
    },
    {
      "cell_type": "code",
      "metadata": {
        "colab": {
          "base_uri": "https://localhost:8080/",
          "height": 616
        },
        "id": "JxDeZJAK5P3Y",
        "outputId": "cc655822-b2bd-4202-afb0-57ae22e229f5"
      },
      "source": [
        "study = optuna.create_study(direction='maximize')\n",
        "study.optimize(objective, n_trials=20)"
      ],
      "execution_count": null,
      "outputs": [
        {
          "output_type": "stream",
          "text": [
            "\u001b[32m[I 2021-04-02 16:14:16,038]\u001b[0m A new study created in memory with name: no-name-6d5b142a-3298-480a-a8a0-3c1416715a4d\u001b[0m\n",
            "\u001b[32m[I 2021-04-02 16:14:16,047]\u001b[0m A new study created in memory with name: no-name-9644281c-48cd-4456-b08d-b83fbcc0e428\u001b[0m\n",
            "\u001b[33m[W 2021-04-02 16:14:16,052]\u001b[0m Trial 0 failed because of the following error: ValueError('`valid_sets` is required.')\n",
            "Traceback (most recent call last):\n",
            "  File \"/usr/local/lib/python3.7/dist-packages/optuna/_optimize.py\", line 217, in _run_trial\n",
            "    value_or_values = func(trial)\n",
            "  File \"<ipython-input-86-42627ada1fd5>\", line 29, in objective\n",
            "    gbm = lgb.train(param, dtrain)\n",
            "  File \"/usr/local/lib/python3.7/dist-packages/optuna/integration/_lightgbm_tuner/__init__.py\", line 34, in train\n",
            "    auto_booster = LightGBMTuner(*args, **kwargs)\n",
            "  File \"/usr/local/lib/python3.7/dist-packages/optuna/integration/_lightgbm_tuner/optimize.py\", line 838, in __init__\n",
            "    raise ValueError(\"`valid_sets` is required.\")\n",
            "ValueError: `valid_sets` is required.\u001b[0m\n"
          ],
          "name": "stderr"
        },
        {
          "output_type": "error",
          "ename": "ValueError",
          "evalue": "ignored",
          "traceback": [
            "\u001b[0;31m---------------------------------------------------------------------------\u001b[0m",
            "\u001b[0;31mValueError\u001b[0m                                Traceback (most recent call last)",
            "\u001b[0;32m<ipython-input-88-a70817c38a2f>\u001b[0m in \u001b[0;36m<module>\u001b[0;34m()\u001b[0m\n\u001b[1;32m      1\u001b[0m \u001b[0mstudy\u001b[0m \u001b[0;34m=\u001b[0m \u001b[0moptuna\u001b[0m\u001b[0;34m.\u001b[0m\u001b[0mcreate_study\u001b[0m\u001b[0;34m(\u001b[0m\u001b[0mdirection\u001b[0m\u001b[0;34m=\u001b[0m\u001b[0;34m'maximize'\u001b[0m\u001b[0;34m)\u001b[0m\u001b[0;34m\u001b[0m\u001b[0;34m\u001b[0m\u001b[0m\n\u001b[0;32m----> 2\u001b[0;31m \u001b[0mstudy\u001b[0m\u001b[0;34m.\u001b[0m\u001b[0moptimize\u001b[0m\u001b[0;34m(\u001b[0m\u001b[0mobjective\u001b[0m\u001b[0;34m,\u001b[0m \u001b[0mn_trials\u001b[0m\u001b[0;34m=\u001b[0m\u001b[0;36m20\u001b[0m\u001b[0;34m)\u001b[0m\u001b[0;34m\u001b[0m\u001b[0;34m\u001b[0m\u001b[0m\n\u001b[0m",
            "\u001b[0;32m/usr/local/lib/python3.7/dist-packages/optuna/study.py\u001b[0m in \u001b[0;36moptimize\u001b[0;34m(self, func, n_trials, timeout, n_jobs, catch, callbacks, gc_after_trial, show_progress_bar)\u001b[0m\n\u001b[1;32m    392\u001b[0m             \u001b[0mcallbacks\u001b[0m\u001b[0;34m=\u001b[0m\u001b[0mcallbacks\u001b[0m\u001b[0;34m,\u001b[0m\u001b[0;34m\u001b[0m\u001b[0;34m\u001b[0m\u001b[0m\n\u001b[1;32m    393\u001b[0m             \u001b[0mgc_after_trial\u001b[0m\u001b[0;34m=\u001b[0m\u001b[0mgc_after_trial\u001b[0m\u001b[0;34m,\u001b[0m\u001b[0;34m\u001b[0m\u001b[0;34m\u001b[0m\u001b[0m\n\u001b[0;32m--> 394\u001b[0;31m             \u001b[0mshow_progress_bar\u001b[0m\u001b[0;34m=\u001b[0m\u001b[0mshow_progress_bar\u001b[0m\u001b[0;34m,\u001b[0m\u001b[0;34m\u001b[0m\u001b[0;34m\u001b[0m\u001b[0m\n\u001b[0m\u001b[1;32m    395\u001b[0m         )\n\u001b[1;32m    396\u001b[0m \u001b[0;34m\u001b[0m\u001b[0m\n",
            "\u001b[0;32m/usr/local/lib/python3.7/dist-packages/optuna/_optimize.py\u001b[0m in \u001b[0;36m_optimize\u001b[0;34m(study, func, n_trials, timeout, n_jobs, catch, callbacks, gc_after_trial, show_progress_bar)\u001b[0m\n\u001b[1;32m     74\u001b[0m                 \u001b[0mreseed_sampler_rng\u001b[0m\u001b[0;34m=\u001b[0m\u001b[0;32mFalse\u001b[0m\u001b[0;34m,\u001b[0m\u001b[0;34m\u001b[0m\u001b[0;34m\u001b[0m\u001b[0m\n\u001b[1;32m     75\u001b[0m                 \u001b[0mtime_start\u001b[0m\u001b[0;34m=\u001b[0m\u001b[0;32mNone\u001b[0m\u001b[0;34m,\u001b[0m\u001b[0;34m\u001b[0m\u001b[0;34m\u001b[0m\u001b[0m\n\u001b[0;32m---> 76\u001b[0;31m                 \u001b[0mprogress_bar\u001b[0m\u001b[0;34m=\u001b[0m\u001b[0mprogress_bar\u001b[0m\u001b[0;34m,\u001b[0m\u001b[0;34m\u001b[0m\u001b[0;34m\u001b[0m\u001b[0m\n\u001b[0m\u001b[1;32m     77\u001b[0m             )\n\u001b[1;32m     78\u001b[0m         \u001b[0;32melse\u001b[0m\u001b[0;34m:\u001b[0m\u001b[0;34m\u001b[0m\u001b[0;34m\u001b[0m\u001b[0m\n",
            "\u001b[0;32m/usr/local/lib/python3.7/dist-packages/optuna/_optimize.py\u001b[0m in \u001b[0;36m_optimize_sequential\u001b[0;34m(study, func, n_trials, timeout, catch, callbacks, gc_after_trial, reseed_sampler_rng, time_start, progress_bar)\u001b[0m\n\u001b[1;32m    161\u001b[0m \u001b[0;34m\u001b[0m\u001b[0m\n\u001b[1;32m    162\u001b[0m         \u001b[0;32mtry\u001b[0m\u001b[0;34m:\u001b[0m\u001b[0;34m\u001b[0m\u001b[0;34m\u001b[0m\u001b[0m\n\u001b[0;32m--> 163\u001b[0;31m             \u001b[0mtrial\u001b[0m \u001b[0;34m=\u001b[0m \u001b[0m_run_trial\u001b[0m\u001b[0;34m(\u001b[0m\u001b[0mstudy\u001b[0m\u001b[0;34m,\u001b[0m \u001b[0mfunc\u001b[0m\u001b[0;34m,\u001b[0m \u001b[0mcatch\u001b[0m\u001b[0;34m)\u001b[0m\u001b[0;34m\u001b[0m\u001b[0;34m\u001b[0m\u001b[0m\n\u001b[0m\u001b[1;32m    164\u001b[0m         \u001b[0;32mexcept\u001b[0m \u001b[0mException\u001b[0m\u001b[0;34m:\u001b[0m\u001b[0;34m\u001b[0m\u001b[0;34m\u001b[0m\u001b[0m\n\u001b[1;32m    165\u001b[0m             \u001b[0;32mraise\u001b[0m\u001b[0;34m\u001b[0m\u001b[0;34m\u001b[0m\u001b[0m\n",
            "\u001b[0;32m/usr/local/lib/python3.7/dist-packages/optuna/_optimize.py\u001b[0m in \u001b[0;36m_run_trial\u001b[0;34m(study, func, catch)\u001b[0m\n\u001b[1;32m    266\u001b[0m \u001b[0;34m\u001b[0m\u001b[0m\n\u001b[1;32m    267\u001b[0m     \u001b[0;32mif\u001b[0m \u001b[0mstate\u001b[0m \u001b[0;34m==\u001b[0m \u001b[0mTrialState\u001b[0m\u001b[0;34m.\u001b[0m\u001b[0mFAIL\u001b[0m \u001b[0;32mand\u001b[0m \u001b[0mfunc_err\u001b[0m \u001b[0;32mis\u001b[0m \u001b[0;32mnot\u001b[0m \u001b[0;32mNone\u001b[0m \u001b[0;32mand\u001b[0m \u001b[0;32mnot\u001b[0m \u001b[0misinstance\u001b[0m\u001b[0;34m(\u001b[0m\u001b[0mfunc_err\u001b[0m\u001b[0;34m,\u001b[0m \u001b[0mcatch\u001b[0m\u001b[0;34m)\u001b[0m\u001b[0;34m:\u001b[0m\u001b[0;34m\u001b[0m\u001b[0;34m\u001b[0m\u001b[0m\n\u001b[0;32m--> 268\u001b[0;31m         \u001b[0;32mraise\u001b[0m \u001b[0mfunc_err\u001b[0m\u001b[0;34m\u001b[0m\u001b[0;34m\u001b[0m\u001b[0m\n\u001b[0m\u001b[1;32m    269\u001b[0m     \u001b[0;32mreturn\u001b[0m \u001b[0mtrial\u001b[0m\u001b[0;34m\u001b[0m\u001b[0;34m\u001b[0m\u001b[0m\n\u001b[1;32m    270\u001b[0m \u001b[0;34m\u001b[0m\u001b[0m\n",
            "\u001b[0;32m/usr/local/lib/python3.7/dist-packages/optuna/_optimize.py\u001b[0m in \u001b[0;36m_run_trial\u001b[0;34m(study, func, catch)\u001b[0m\n\u001b[1;32m    215\u001b[0m \u001b[0;34m\u001b[0m\u001b[0m\n\u001b[1;32m    216\u001b[0m     \u001b[0;32mtry\u001b[0m\u001b[0;34m:\u001b[0m\u001b[0;34m\u001b[0m\u001b[0;34m\u001b[0m\u001b[0m\n\u001b[0;32m--> 217\u001b[0;31m         \u001b[0mvalue_or_values\u001b[0m \u001b[0;34m=\u001b[0m \u001b[0mfunc\u001b[0m\u001b[0;34m(\u001b[0m\u001b[0mtrial\u001b[0m\u001b[0;34m)\u001b[0m\u001b[0;34m\u001b[0m\u001b[0;34m\u001b[0m\u001b[0m\n\u001b[0m\u001b[1;32m    218\u001b[0m     \u001b[0;32mexcept\u001b[0m \u001b[0mexceptions\u001b[0m\u001b[0;34m.\u001b[0m\u001b[0mTrialPruned\u001b[0m \u001b[0;32mas\u001b[0m \u001b[0me\u001b[0m\u001b[0;34m:\u001b[0m\u001b[0;34m\u001b[0m\u001b[0;34m\u001b[0m\u001b[0m\n\u001b[1;32m    219\u001b[0m         \u001b[0;31m# TODO(mamu): Handle multi-objective cases.\u001b[0m\u001b[0;34m\u001b[0m\u001b[0;34m\u001b[0m\u001b[0;34m\u001b[0m\u001b[0m\n",
            "\u001b[0;32m<ipython-input-86-42627ada1fd5>\u001b[0m in \u001b[0;36mobjective\u001b[0;34m(trial)\u001b[0m\n\u001b[1;32m     27\u001b[0m \u001b[0;34m\u001b[0m\u001b[0m\n\u001b[1;32m     28\u001b[0m \u001b[0;34m\u001b[0m\u001b[0m\n\u001b[0;32m---> 29\u001b[0;31m     \u001b[0mgbm\u001b[0m \u001b[0;34m=\u001b[0m \u001b[0mlgb\u001b[0m\u001b[0;34m.\u001b[0m\u001b[0mtrain\u001b[0m\u001b[0;34m(\u001b[0m\u001b[0mparam\u001b[0m\u001b[0;34m,\u001b[0m \u001b[0mdtrain\u001b[0m\u001b[0;34m)\u001b[0m\u001b[0;34m\u001b[0m\u001b[0;34m\u001b[0m\u001b[0m\n\u001b[0m\u001b[1;32m     30\u001b[0m     \u001b[0mpreds\u001b[0m \u001b[0;34m=\u001b[0m \u001b[0mgbm\u001b[0m\u001b[0;34m.\u001b[0m\u001b[0mpredict\u001b[0m\u001b[0;34m(\u001b[0m\u001b[0mtest_x\u001b[0m\u001b[0;34m)\u001b[0m\u001b[0;34m\u001b[0m\u001b[0;34m\u001b[0m\u001b[0m\n\u001b[1;32m     31\u001b[0m     \u001b[0mpred_labels\u001b[0m \u001b[0;34m=\u001b[0m \u001b[0mnp\u001b[0m\u001b[0;34m.\u001b[0m\u001b[0mrint\u001b[0m\u001b[0;34m(\u001b[0m\u001b[0mpreds\u001b[0m\u001b[0;34m)\u001b[0m\u001b[0;34m\u001b[0m\u001b[0;34m\u001b[0m\u001b[0m\n",
            "\u001b[0;32m/usr/local/lib/python3.7/dist-packages/optuna/integration/_lightgbm_tuner/__init__.py\u001b[0m in \u001b[0;36mtrain\u001b[0;34m(*args, **kwargs)\u001b[0m\n\u001b[1;32m     32\u001b[0m     \u001b[0m_imports\u001b[0m\u001b[0;34m.\u001b[0m\u001b[0mcheck\u001b[0m\u001b[0;34m(\u001b[0m\u001b[0;34m)\u001b[0m\u001b[0;34m\u001b[0m\u001b[0;34m\u001b[0m\u001b[0m\n\u001b[1;32m     33\u001b[0m \u001b[0;34m\u001b[0m\u001b[0m\n\u001b[0;32m---> 34\u001b[0;31m     \u001b[0mauto_booster\u001b[0m \u001b[0;34m=\u001b[0m \u001b[0mLightGBMTuner\u001b[0m\u001b[0;34m(\u001b[0m\u001b[0;34m*\u001b[0m\u001b[0margs\u001b[0m\u001b[0;34m,\u001b[0m \u001b[0;34m**\u001b[0m\u001b[0mkwargs\u001b[0m\u001b[0;34m)\u001b[0m\u001b[0;34m\u001b[0m\u001b[0;34m\u001b[0m\u001b[0m\n\u001b[0m\u001b[1;32m     35\u001b[0m     \u001b[0mauto_booster\u001b[0m\u001b[0;34m.\u001b[0m\u001b[0mrun\u001b[0m\u001b[0;34m(\u001b[0m\u001b[0;34m)\u001b[0m\u001b[0;34m\u001b[0m\u001b[0;34m\u001b[0m\u001b[0m\n\u001b[1;32m     36\u001b[0m     \u001b[0;32mreturn\u001b[0m \u001b[0mauto_booster\u001b[0m\u001b[0;34m.\u001b[0m\u001b[0mget_best_booster\u001b[0m\u001b[0;34m(\u001b[0m\u001b[0;34m)\u001b[0m\u001b[0;34m\u001b[0m\u001b[0;34m\u001b[0m\u001b[0m\n",
            "\u001b[0;32m/usr/local/lib/python3.7/dist-packages/optuna/integration/_lightgbm_tuner/optimize.py\u001b[0m in \u001b[0;36m__init__\u001b[0;34m(self, params, train_set, num_boost_round, valid_sets, valid_names, fobj, feval, feature_name, categorical_feature, early_stopping_rounds, evals_result, verbose_eval, learning_rates, keep_training_booster, callbacks, time_budget, sample_size, study, optuna_callbacks, model_dir, verbosity, show_progress_bar)\u001b[0m\n\u001b[1;32m    836\u001b[0m \u001b[0;34m\u001b[0m\u001b[0m\n\u001b[1;32m    837\u001b[0m         \u001b[0;32mif\u001b[0m \u001b[0mvalid_sets\u001b[0m \u001b[0;32mis\u001b[0m \u001b[0;32mNone\u001b[0m\u001b[0;34m:\u001b[0m\u001b[0;34m\u001b[0m\u001b[0;34m\u001b[0m\u001b[0m\n\u001b[0;32m--> 838\u001b[0;31m             \u001b[0;32mraise\u001b[0m \u001b[0mValueError\u001b[0m\u001b[0;34m(\u001b[0m\u001b[0;34m\"`valid_sets` is required.\"\u001b[0m\u001b[0;34m)\u001b[0m\u001b[0;34m\u001b[0m\u001b[0;34m\u001b[0m\u001b[0m\n\u001b[0m\u001b[1;32m    839\u001b[0m \u001b[0;34m\u001b[0m\u001b[0m\n\u001b[1;32m    840\u001b[0m     \u001b[0;34m@\u001b[0m\u001b[0mproperty\u001b[0m  \u001b[0;31m# type: ignore\u001b[0m\u001b[0;34m\u001b[0m\u001b[0;34m\u001b[0m\u001b[0m\n",
            "\u001b[0;31mValueError\u001b[0m: `valid_sets` is required."
          ]
        }
      ]
    },
    {
      "cell_type": "code",
      "metadata": {
        "colab": {
          "base_uri": "https://localhost:8080/"
        },
        "id": "D2PuPju39zL7",
        "outputId": "837ca2d6-4be3-41c1-e46c-5bb0b18363ff"
      },
      "source": [
        "print('Number of finished trials:', len(study.trials))\n",
        "print('Best trial:', study.best_trial.params)"
      ],
      "execution_count": null,
      "outputs": [
        {
          "output_type": "stream",
          "text": [
            "Number of finished trials: 18\n",
            "Best trial: {'num_leaves': 344, 'min_data_in_leaf': 311, 'max_depth': 8, 'bagging_freq': 6, 'learning_rate': 0.018641015812596497, 'bagging_fraction': 0.6692803577617848, 'num_iterations': 2703, 'min_child_weight': 4, 'feature_fraction': 0.39334005988251974, 'lambda_l1': 4.3057420566487456e-05, 'lambda_l2': 6.811507053948167e-06}\n"
          ],
          "name": "stdout"
        }
      ]
    },
    {
      "cell_type": "code",
      "metadata": {
        "id": "5-iF-zb8909K"
      },
      "source": [
        "best_params = study.best_trial.params\n",
        "best_params['tree_method'] = 'gpu_hist'      #gpu_hist is really fast"
      ],
      "execution_count": null,
      "outputs": []
    },
    {
      "cell_type": "code",
      "metadata": {
        "colab": {
          "base_uri": "https://localhost:8080/"
        },
        "id": "HsT2b4x2OnBg",
        "outputId": "984643c2-79a4-4ab4-de9e-dde4ab7cfa07"
      },
      "source": [
        "best_params"
      ],
      "execution_count": null,
      "outputs": [
        {
          "output_type": "execute_result",
          "data": {
            "text/plain": [
              "{'bagging_fraction': 0.6692803577617848,\n",
              " 'bagging_freq': 6,\n",
              " 'feature_fraction': 0.39334005988251974,\n",
              " 'lambda_l1': 4.3057420566487456e-05,\n",
              " 'lambda_l2': 6.811507053948167e-06,\n",
              " 'learning_rate': 0.018641015812596497,\n",
              " 'max_depth': 8,\n",
              " 'min_child_weight': 4,\n",
              " 'min_data_in_leaf': 311,\n",
              " 'num_iterations': 2703,\n",
              " 'num_leaves': 344,\n",
              " 'tree_method': 'gpu_hist'}"
            ]
          },
          "metadata": {
            "tags": []
          },
          "execution_count": 67
        }
      ]
    },
    {
      "cell_type": "code",
      "metadata": {
        "id": "_-wf-3b5OYBk"
      },
      "source": [
        "lgbclf = LGBMClassifier(**best_params)"
      ],
      "execution_count": null,
      "outputs": []
    },
    {
      "cell_type": "code",
      "metadata": {
        "colab": {
          "base_uri": "https://localhost:8080/",
          "height": 767
        },
        "id": "WPfWUo8EObiJ",
        "outputId": "5226bb3e-80d2-4647-c15e-5c7687842401"
      },
      "source": [
        "%time lgbclf.fit(train_x, train_y) \n",
        "\n",
        "y_pred = lgbclf.predict(test_x)\n",
        "y_pred_prob = lgbclf.predict_proba(test_x)[:,1]\n",
        "\n",
        "        \n",
        "print(\"#\"*25,lgb,\"#\"*25)\n",
        "print(\"Training Accuracy = {:.3f}\".format(lgbclf.score(train_x, train_y)))\n",
        "print(\"Test Accuracy = {:.3f}\".format(lgbclf.score(test_x, test_y)))\n",
        "print(\"ROC_AUC_score : %.6f\" % (roc_auc_score(test_y, y_pred)))\n",
        "#Confusion Matrix\n",
        "print(confusion_matrix(test_y, y_pred))\n",
        "print(\"-\"*15,\"CLASSIFICATION REPORT\",\"-\"*15)\n",
        "print(classification_report(test_y, y_pred))\n",
        "\n",
        "\n",
        "fig, (ax1, ax2) = plt.subplots(1,2,figsize = (12,6))\n",
        "#precision-recall curve\n",
        "precision, recall, thresholds_pr = precision_recall_curve(test_y, y_pred_prob)\n",
        "avg_pre = average_precision_score(test_y, y_pred_prob)\n",
        "ax1.plot(precision, recall, label = \" average precision = {:0.2f}\".format(avg_pre), lw = 3, alpha = 0.7)\n",
        "        \n",
        "        \n",
        "ax1.set_xlabel('Precision', fontsize = 14)\n",
        "ax1.set_ylabel('Recall', fontsize = 14)\n",
        "ax1.set_title('Precision-Recall Curve', fontsize = 18)\n",
        "ax1.legend(loc = 'best')\n",
        "#find default threshold\n",
        "close_default = np.argmin(np.abs(thresholds_pr - 0.5))\n",
        "ax1.plot(precision[close_default], recall[close_default], 'o', markersize = 8)\n",
        "\n",
        "#roc-curve\n",
        "fpr, tpr, thresholds_roc = roc_curve(test_y, y_pred_prob)\n",
        "roc_auc = auc(fpr,tpr)\n",
        "ax2.plot(fpr,tpr, label = \" area = {:0.2f}\".format(roc_auc), lw = 3, alpha = 0.7)\n",
        "ax2.plot([0,1], [0,1], 'r', linestyle = \"--\", lw = 2)\n",
        "ax2.set_xlabel(\"False Positive Rate\", fontsize = 14)\n",
        "ax2.set_ylabel(\"True Positive Rate\", fontsize = 14)\n",
        "ax2.set_title(\"ROC Curve\", fontsize = 18)\n",
        "ax2.legend(loc = 'best')\n",
        "#find default threshold\n",
        "close_default = np.argmin(np.abs(thresholds_roc - 0.5))\n",
        "ax2.plot(fpr[close_default], tpr[close_default], 'o', markersize = 8)\n",
        "plt.tight_layout()"
      ],
      "execution_count": null,
      "outputs": [
        {
          "output_type": "stream",
          "text": [
            "CPU times: user 1min 57s, sys: 291 ms, total: 1min 57s\n",
            "Wall time: 59.6 s\n",
            "######################### <module 'optuna.integration.lightgbm' from '/usr/local/lib/python3.7/dist-packages/optuna/integration/lightgbm.py'> #########################\n",
            "Training Accuracy = 1.000\n",
            "Test Accuracy = 1.000\n",
            "ROC_AUC_score : 0.873839\n",
            "[[71086     5]\n",
            " [   28    83]]\n",
            "--------------- CLASSIFICATION REPORT ---------------\n",
            "              precision    recall  f1-score   support\n",
            "\n",
            "           0       1.00      1.00      1.00     71091\n",
            "           1       0.94      0.75      0.83       111\n",
            "\n",
            "    accuracy                           1.00     71202\n",
            "   macro avg       0.97      0.87      0.92     71202\n",
            "weighted avg       1.00      1.00      1.00     71202\n",
            "\n"
          ],
          "name": "stdout"
        },
        {
          "output_type": "display_data",
          "data": {
            "image/png": "[encoded data removed]",
            "text/plain": [
              "<Figure size 864x432 with 2 Axes>"
            ]
          },
          "metadata": {
            "tags": []
          }
        }
      ]
    },
    {
      "cell_type": "markdown",
      "metadata": {
        "id": "xx4f8QfGFT5N"
      },
      "source": [
        "## 4.3 Tuning Parameters DeepFroest - by Deshan Huang\n",
        "https://colab.research.google.com/drive/1SQGR46JuHkYiLOaub7U_UxnxXAb8ub3S?usp=sharing#scrollTo=33hh6ahjWE3s"
      ]
    },
    {
      "cell_type": "code",
      "metadata": {
        "colab": {
          "base_uri": "https://localhost:8080/"
        },
        "id": "585doJ-GFY9k",
        "outputId": "7de4af8b-668f-48b5-ffd2-b4c56b25022d"
      },
      "source": [
        "!pip install optuna"
      ],
      "execution_count": null,
      "outputs": [
        {
          "output_type": "stream",
          "text": [
            "Collecting optuna\n",
            "\u001b[?25l  Downloading https://files.pythonhosted.org/packages/2b/21/d13081805e1e1afc71f5bb743ece324c8bd576237c51b899ecb38a717502/optuna-2.7.0-py3-none-any.whl (293kB)\n",
            "\u001b[K     |████████████████████████████████| 296kB 6.9MB/s \n",
            "\u001b[?25hRequirement already satisfied: packaging>=20.0 in /usr/local/lib/python3.7/dist-packages (from optuna) (20.9)\n",
            "Requirement already satisfied: scipy!=1.4.0 in /usr/local/lib/python3.7/dist-packages (from optuna) (1.4.1)\n",
            "Collecting alembic\n",
            "\u001b[?25l  Downloading https://files.pythonhosted.org/packages/72/a4/97eb6273839655cac14947986fa7a5935350fcfd4fff872e9654264c82d8/alembic-1.5.8-py2.py3-none-any.whl (159kB)\n",
            "\u001b[K     |████████████████████████████████| 163kB 17.8MB/s \n",
            "\u001b[?25hCollecting cmaes>=0.8.2\n",
            "  Downloading https://files.pythonhosted.org/packages/01/1f/43b01223a0366171f474320c6e966c39a11587287f098a5f09809b45e05f/cmaes-0.8.2-py3-none-any.whl\n",
            "Requirement already satisfied: tqdm in /usr/local/lib/python3.7/dist-packages (from optuna) (4.41.1)\n",
            "Requirement already satisfied: sqlalchemy>=1.1.0 in /usr/local/lib/python3.7/dist-packages (from optuna) (1.4.3)\n",
            "Requirement already satisfied: numpy in /usr/local/lib/python3.7/dist-packages (from optuna) (1.19.5)\n",
            "Collecting cliff\n",
            "\u001b[?25l  Downloading https://files.pythonhosted.org/packages/a2/d6/7d9acb68a77acd140be7fececb7f2701b2a29d2da9c54184cb8f93509590/cliff-3.7.0-py3-none-any.whl (80kB)\n",
            "\u001b[K     |████████████████████████████████| 81kB 7.7MB/s \n",
            "\u001b[?25hCollecting colorlog\n",
            "  Downloading https://files.pythonhosted.org/packages/51/62/61449c6bb74c2a3953c415b2cdb488e4f0518ac67b35e2b03a6d543035ca/colorlog-4.8.0-py2.py3-none-any.whl\n",
            "Requirement already satisfied: pyparsing>=2.0.2 in /usr/local/lib/python3.7/dist-packages (from packaging>=20.0->optuna) (2.4.7)\n",
            "Requirement already satisfied: python-dateutil in /usr/local/lib/python3.7/dist-packages (from alembic->optuna) (2.8.1)\n",
            "Collecting Mako\n",
            "\u001b[?25l  Downloading https://files.pythonhosted.org/packages/f3/54/dbc07fbb20865d3b78fdb7cf7fa713e2cba4f87f71100074ef2dc9f9d1f7/Mako-1.1.4-py2.py3-none-any.whl (75kB)\n",
            "\u001b[K     |████████████████████████████████| 81kB 7.4MB/s \n",
            "\u001b[?25hCollecting python-editor>=0.3\n",
            "  Downloading https://files.pythonhosted.org/packages/c6/d3/201fc3abe391bbae6606e6f1d598c15d367033332bd54352b12f35513717/python_editor-1.0.4-py3-none-any.whl\n",
            "Requirement already satisfied: greenlet!=0.4.17; python_version >= \"3\" in /usr/local/lib/python3.7/dist-packages (from sqlalchemy>=1.1.0->optuna) (1.0.0)\n",
            "Requirement already satisfied: importlib-metadata; python_version < \"3.8\" in /usr/local/lib/python3.7/dist-packages (from sqlalchemy>=1.1.0->optuna) (3.8.1)\n",
            "Collecting pbr!=2.1.0,>=2.0.0\n",
            "\u001b[?25l  Downloading https://files.pythonhosted.org/packages/fb/48/69046506f6ac61c1eaa9a0d42d22d54673b69e176d30ca98e3f61513e980/pbr-5.5.1-py2.py3-none-any.whl (106kB)\n",
            "\u001b[K     |████████████████████████████████| 112kB 21.0MB/s \n",
            "\u001b[?25hRequirement already satisfied: PyYAML>=3.12 in /usr/local/lib/python3.7/dist-packages (from cliff->optuna) (3.13)\n",
            "Collecting cmd2>=1.0.0\n",
            "\u001b[?25l  Downloading https://files.pythonhosted.org/packages/15/8b/15061b32332bb35ea2a2f6263d0f616779d576e82739ec8e7fcf3c94abf5/cmd2-1.5.0-py3-none-any.whl (133kB)\n",
            "\u001b[K     |████████████████████████████████| 143kB 19.0MB/s \n",
            "\u001b[?25hRequirement already satisfied: PrettyTable>=0.7.2 in /usr/local/lib/python3.7/dist-packages (from cliff->optuna) (2.1.0)\n",
            "Collecting stevedore>=2.0.1\n",
            "\u001b[?25l  Downloading https://files.pythonhosted.org/packages/d4/49/b602307aeac3df3384ff1fcd05da9c0376c622a6c48bb5325f28ab165b57/stevedore-3.3.0-py3-none-any.whl (49kB)\n",
            "\u001b[K     |████████████████████████████████| 51kB 5.3MB/s \n",
            "\u001b[?25hRequirement already satisfied: six>=1.5 in /usr/local/lib/python3.7/dist-packages (from python-dateutil->alembic->optuna) (1.15.0)\n",
            "Requirement already satisfied: MarkupSafe>=0.9.2 in /usr/local/lib/python3.7/dist-packages (from Mako->alembic->optuna) (1.1.1)\n",
            "Requirement already satisfied: zipp>=0.5 in /usr/local/lib/python3.7/dist-packages (from importlib-metadata; python_version < \"3.8\"->sqlalchemy>=1.1.0->optuna) (3.4.1)\n",
            "Requirement already satisfied: typing-extensions>=3.6.4; python_version < \"3.8\" in /usr/local/lib/python3.7/dist-packages (from importlib-metadata; python_version < \"3.8\"->sqlalchemy>=1.1.0->optuna) (3.7.4.3)\n",
            "Requirement already satisfied: attrs>=16.3.0 in /usr/local/lib/python3.7/dist-packages (from cmd2>=1.0.0->cliff->optuna) (20.3.0)\n",
            "Collecting pyperclip>=1.6\n",
            "  Downloading https://files.pythonhosted.org/packages/a7/2c/4c64579f847bd5d539803c8b909e54ba087a79d01bb3aba433a95879a6c5/pyperclip-1.8.2.tar.gz\n",
            "Requirement already satisfied: wcwidth>=0.1.7 in /usr/local/lib/python3.7/dist-packages (from cmd2>=1.0.0->cliff->optuna) (0.2.5)\n",
            "Collecting colorama>=0.3.7\n",
            "  Downloading https://files.pythonhosted.org/packages/44/98/5b86278fbbf250d239ae0ecb724f8572af1c91f4a11edf4d36a206189440/colorama-0.4.4-py2.py3-none-any.whl\n",
            "Building wheels for collected packages: pyperclip\n",
            "  Building wheel for pyperclip (setup.py) ... \u001b[?25l\u001b[?25hdone\n",
            "  Created wheel for pyperclip: filename=pyperclip-1.8.2-cp37-none-any.whl size=11107 sha256=3dbab29aa00b3cf4bbfb7d5cc880cf542cbd1b7913ab2756b9773154c6f571db\n",
            "  Stored in directory: /root/.cache/pip/wheels/25/af/b8/3407109267803f4015e1ee2ff23be0c8c19ce4008665931ee1\n",
            "Successfully built pyperclip\n",
            "Installing collected packages: Mako, python-editor, alembic, cmaes, pbr, pyperclip, colorama, cmd2, stevedore, cliff, colorlog, optuna\n",
            "Successfully installed Mako-1.1.4 alembic-1.5.8 cliff-3.7.0 cmaes-0.8.2 cmd2-1.5.0 colorama-0.4.4 colorlog-4.8.0 optuna-2.7.0 pbr-5.5.1 pyperclip-1.8.2 python-editor-1.0.4 stevedore-3.3.0\n"
          ],
          "name": "stdout"
        }
      ]
    },
    {
      "cell_type": "code",
      "metadata": {
        "id": "sQK80PaYFY5P"
      },
      "source": [
        "import optuna \n",
        "import deepforest as deepf"
      ],
      "execution_count": null,
      "outputs": []
    },
    {
      "cell_type": "code",
      "metadata": {
        "id": "u3jgNfBHFY0v"
      },
      "source": [
        "sm = SMOTE(random_state = 1)\n",
        "X_train_sm, y_train_sm = sm.fit_sample(X_train, y_train)\n",
        "X_test_sm = np.array(X_test)\n",
        "y_test_sm = np.array(y_test)"
      ],
      "execution_count": null,
      "outputs": []
    },
    {
      "cell_type": "code",
      "metadata": {
        "id": "JF5atVMDFYwG"
      },
      "source": [
        "import optuna\n",
        "def objective(trial):\n",
        "    \n",
        "# params specifies the XGBoost hyperparameters to be tuned\n",
        "    params = {\n",
        "        'predictor':'forest', \n",
        "        'n_bins':trial.suggest_int('n_bins', 2, 255),\n",
        "        'n_estimators': trial.suggest_int('n_estimators', 2, 6),\n",
        "        'n_trees':100,\n",
        "        'min_samples_leaf':trial.suggest_int('min_samples_leaf', 1, 6),\n",
        "        'partial_mode':True,\n",
        "        \"delta\": trial.suggest_float(\"delta\", 1e-8, 10.0, log=True),\n",
        "        'verbose':1\n",
        "\n",
        "    }\n",
        "    \n",
        "    df_optuna = CascadeForestClassifier(**params)\n",
        "    df_optuna.fit(X_train_sm,y_train_sm)\n",
        "    preds = df_optuna.predict(X_test_sm)\n",
        "    pred_labels = np.rint(preds)\n",
        "# trials will be evaluated based on their accuracy on the test set\n",
        "    average_precision = average_precision_score(y_test_sm, pred_labels)\n",
        "    return average_precision"
      ],
      "execution_count": null,
      "outputs": []
    },
    {
      "cell_type": "code",
      "metadata": {
        "id": "jZ_uExcxFYsA"
      },
      "source": [
        "study = optuna.create_study(direction='maximize')\n",
        "study.optimize(objective,n_trials=5) \n",
        "#You can increase n_trials parameter\n",
        "print('Best trial: score {}, params {}'.format(study.best_trial.value, study.best_trial.params))"
      ],
      "execution_count": null,
      "outputs": []
    },
    {
      "cell_type": "code",
      "metadata": {
        "id": "LKJnPieOHIjt"
      },
      "source": [
        "best_params = study.best_trial.params   "
      ],
      "execution_count": null,
      "outputs": []
    },
    {
      "cell_type": "code",
      "metadata": {
        "id": "uq_q72yHHIW9"
      },
      "source": [
        "best_params"
      ],
      "execution_count": null,
      "outputs": []
    },
    {
      "cell_type": "code",
      "metadata": {
        "id": "Egt4Jp4BHHzw"
      },
      "source": [
        "deepfclf = CascadeForestClassifier(**best_params)"
      ],
      "execution_count": null,
      "outputs": []
    },
    {
      "cell_type": "code",
      "metadata": {
        "id": "aRh4yXVWHThh"
      },
      "source": [
        "%time deepfclf.fit(train_x, train_y) \n",
        "\n",
        "y_pred = deepfclf.predict(test_x)\n",
        "y_pred_prob = deepfclf.predict_proba(test_x)[:,1]\n",
        "\n",
        "        \n",
        "print(\"#\"*25,deepf,\"#\"*25)\n",
        "print(\"Training Accuracy = {:.3f}\".format(deepfclf.score(train_x, train_y)))\n",
        "print(\"Test Accuracy = {:.3f}\".format(deepfclf.score(test_x, test_y)))\n",
        "print(\"ROC_AUC_score : %.6f\" % (roc_auc_score(test_y, y_pred)))\n",
        "#Confusion Matrix\n",
        "print(confusion_matrix(test_y, y_pred))\n",
        "print(\"-\"*15,\"CLASSIFICATION REPORT\",\"-\"*15)\n",
        "print(classification_report(test_y, y_pred))\n",
        "\n",
        "\n",
        "fig, (ax1, ax2) = plt.subplots(1,2,figsize = (12,6))\n",
        "#precision-recall curve\n",
        "precision, recall, thresholds_pr = precision_recall_curve(test_y, y_pred_prob)\n",
        "avg_pre = average_precision_score(test_y, y_pred_prob)\n",
        "ax1.plot(precision, recall, label = \" average precision = {:0.2f}\".format(avg_pre), lw = 3, alpha = 0.7)\n",
        "        \n",
        "        \n",
        "ax1.set_xlabel('Precision', fontsize = 14)\n",
        "ax1.set_ylabel('Recall', fontsize = 14)\n",
        "ax1.set_title('Precision-Recall Curve', fontsize = 18)\n",
        "ax1.legend(loc = 'best')\n",
        "#find default threshold\n",
        "close_default = np.argmin(np.abs(thresholds_pr - 0.5))\n",
        "ax1.plot(precision[close_default], recall[close_default], 'o', markersize = 8)\n",
        "\n",
        "#roc-curve\n",
        "fpr, tpr, thresholds_roc = roc_curve(test_y, y_pred_prob)\n",
        "roc_auc = auc(fpr,tpr)\n",
        "ax2.plot(fpr,tpr, label = \" area = {:0.2f}\".format(roc_auc), lw = 3, alpha = 0.7)\n",
        "ax2.plot([0,1], [0,1], 'r', linestyle = \"--\", lw = 2)\n",
        "ax2.set_xlabel(\"False Positive Rate\", fontsize = 14)\n",
        "ax2.set_ylabel(\"True Positive Rate\", fontsize = 14)\n",
        "ax2.set_title(\"ROC Curve\", fontsize = 18)\n",
        "ax2.legend(loc = 'best')\n",
        "#find default threshold\n",
        "close_default = np.argmin(np.abs(thresholds_roc - 0.5))\n",
        "ax2.plot(fpr[close_default], tpr[close_default], 'o', markersize = 8)\n",
        "plt.tight_layout()"
      ],
      "execution_count": null,
      "outputs": []
    },
    {
      "cell_type": "markdown",
      "metadata": {
        "id": "cyWs4Sp3ok_X"
      },
      "source": [
        "## 4.4 Tuning Parameters CART - by Yu Lin"
      ]
    },
    {
      "cell_type": "code",
      "metadata": {
        "id": "dYxWgq45ofvO"
      },
      "source": [
        "import optuna \n",
        "def Optimization(trail):\n",
        "    criterion = trail.suggest_categorical(\"criterion\" , ['gini','entropy'])\n",
        "    max_depth = trail.suggest_int(\"max_depth\" , 3, 22, 1)\n",
        "    random_state = 3\n",
        "    splitter = \"random\"\n",
        "\n",
        "    scores = []\n",
        "    cart = DecisionTreeClassifier(\n",
        "        splitter = splitter,\n",
        "        max_depth = max_depth,\n",
        "        criterion= criterion,\n",
        "        random_state = random_state\n",
        "    )\n",
        "\n",
        "    sm = SMOTE(random_state = 1)\n",
        "    sss = StratifiedKFold(n_splits=10, random_state=3, shuffle=True)\n",
        "    # ## 交叉验证划分\n",
        "    for train_index, test_index in sss.split(X, y):\n",
        "      print(\"Train:\", train_index, \"Test:\", test_index)\n",
        "      X_train, X_test = X.iloc[train_index].values, X.iloc[test_index].values\n",
        "      y_train, y_test = y.iloc[train_index].values, y.iloc[test_index].values\n",
        "      X_train_sm, y_train_sm = sm.fit_sample(X_train, y_train)\n",
        "      X_test_sm = np.array(X_test)\n",
        "      y_test_sm = np.array(y_test)\n",
        "\n",
        "      cart.fit(X_train_sm, y_train_sm)\n",
        "      pred_cart=cart.predict(X_test_sm)\n",
        "      pred_labels = np.rint(pred_cart)\n",
        "      average_precision = average_precision_score(y_test_sm, pred_labels)\n",
        "      scores.append(average_precision)\n",
        "\n",
        "    return np.mean(average_precision)"
      ],
      "execution_count": null,
      "outputs": []
    },
    {
      "cell_type": "code",
      "metadata": {
        "id": "EMZyLHkWoxfL"
      },
      "source": [
        "\n",
        "study = optuna.create_study(direction='maximize')\n",
        "study.optimize(Optimization,n_trials=100) \n",
        "#You can increase n_trials parameter\n",
        "print('Best trial: score {}, params {}'.format(study.best_trial.value, study.best_trial.params))"
      ],
      "execution_count": null,
      "outputs": []
    },
    {
      "cell_type": "code",
      "metadata": {
        "id": "7ENCTf7woxph"
      },
      "source": [
        ""
      ],
      "execution_count": null,
      "outputs": []
    },
    {
      "cell_type": "markdown",
      "metadata": {
        "id": "IawiYR9Fc8mG"
      },
      "source": [
        "best_params {'n_bins': 173, 'n_estimators': 6, 'min_samples_leaf': 1, 'delta': 1.4142915557953846e-05}\n",
        "\n",
        "        'predictor':'forest', \n",
        "        'n_bins':173,\n",
        "        'n_estimators': 6,\n",
        "        'n_trees':100,\n",
        "        'min_samples_leaf':1,\n",
        "        'partial_mode':True,\n",
        "        \"delta\": 1.4142915557953846e-05),\n",
        "        'verbose':1"
      ]
    },
    {
      "cell_type": "markdown",
      "metadata": {
        "id": "PsaM1UQx1kw2"
      },
      "source": [
        "# 5 Selection"
      ]
    },
    {
      "cell_type": "code",
      "metadata": {
        "id": "rEZOmh7yOdfR"
      },
      "source": [
        "#跑每个模型独立的评估图\n",
        "def results_graph_individual():\n",
        "\n",
        "    model_name = [\"CART\",\"RF\", \"XGB\", \"LGB\",\"DF\"]\n",
        "    # Model definition\n",
        "    CARTC = DecisionTreeClassifier(criterion=\"entropy\"\n",
        "                                      ,random_state=3\n",
        "                                      ,splitter=\"random\"\n",
        "                                      ,max_depth=7)\n",
        "    RFC = RandomForestClassifier(random_state=3)\n",
        "    XGBC = XGBClassifier(\n",
        "            n_estimators=2977,\n",
        "            max_depth=13,\n",
        "            min_child_weight=1,\n",
        "            learning_rate=0.057,\n",
        "            subsample=0.82,\n",
        "            colsample_bytree=0.66,\n",
        "            gamma=1,\n",
        "            n_jobs=-1,\n",
        "            n_thread=-1,\n",
        "            tree_method='gpu_hist',  #gpu_hist is really fast\n",
        "            objective='binary:logistic')\n",
        "    LGBC = LGBMClassifier(boosting_type='gbdt',\n",
        "                              class_weight=None,\n",
        "                              colsample_bytree=0.5112837457460335,\n",
        "                              importance_type='split',\n",
        "                              learning_rate=0.02,\n",
        "                              max_depth=7,\n",
        "                              metric='None',\n",
        "                              min_child_samples=195,\n",
        "                              min_child_weight=0.01,\n",
        "                              min_split_gain=0.0,\n",
        "                              n_estimators=3000,\n",
        "                              n_jobs=4,\n",
        "                              num_leaves=44,\n",
        "                              objective=None,\n",
        "                              random_state=42,\n",
        "                              reg_alpha=2,\n",
        "                              reg_lambda=10,\n",
        "                              silent=True,\n",
        "                              subsample=0.8137506311449016,\n",
        "                              subsample_for_bin=200000,\n",
        "                              subsample_freq=0)\n",
        "    DEEPF = CascadeForestClassifier(use_predictor='True',\n",
        "                                        predictor=\"forest\",\n",
        "                                        n_bins=173,n_estimators=6,\n",
        "                                        n_trees=1000,\n",
        "                                        min_samples_leaf=1,\n",
        "                                        partial_mode='True',\n",
        "                                        delta=1.4142915557953846e-05,\n",
        "                                        verbose=1,\n",
        "                                        random_state=33)    \n",
        "     \n",
        "\n",
        "    for clf, m_name in zip([CARTC,RFC,XGBC,LGBC,DEEPF], model_name):\n",
        "      f, (ax1, ax2) = plt.subplots(1, 2, figsize=(20, 7))\n",
        "      accuracy_lst = []\n",
        "      precision_lst = []\n",
        "      recall_lst = []\n",
        "      f1_lst = []\n",
        "      y_real = []\n",
        "      y_proba = []\n",
        "\n",
        "      accuracy_lst_sm = []\n",
        "      precision_lst_sm = []\n",
        "      recall_lst_sm = []\n",
        "      f1_lst_sm = []\n",
        "      y_real_sm = []\n",
        "      y_proba_sm = []\n",
        "\n",
        "      i = 0\n",
        "      sss = StratifiedKFold(n_splits=10, random_state=3, shuffle=True)\n",
        "      sm = SMOTE(random_state = 1)\n",
        "\n",
        "      # 交叉验证划分\n",
        "      for train_index, test_index in sss.split(X, y):\n",
        "        print(\"Train:\", train_index, \"Test:\", test_index)\n",
        "        X_train, X_test = X.iloc[train_index].values, X.iloc[test_index].values\n",
        "        y_train, y_test = y.iloc[train_index].values, y.iloc[test_index].values\n",
        "        X_train_sm, y_train_sm = sm.fit_sample(X_train, y_train)\n",
        "        X_test_sm = np.array(X_test)\n",
        "        y_test_sm = np.array(y_test)\n",
        "\n",
        "        if m_name != \"DF\" :\n",
        "          model=clf.fit(X_train, y_train)\n",
        "        else  :\n",
        "          model=clf\n",
        "          clf.fit(X_train, y_train)\n",
        "\n",
        "        probas_ = model.predict_proba(X_test)\n",
        "        precision, recall, _ = precision_recall_curve(y_test, probas_[:, 1])\n",
        "\n",
        "        # 画每条kfold下独立的PR Curve  -- Original\n",
        "        ax1.plot(recall, precision, lw=1, alpha=0.3,\n",
        "                 label='PR fold %d (AUC = %0.2f)' % (i, average_precision_score(y_test, probas_[:, 1])))\n",
        "\n",
        "        y_real.append(y_test)\n",
        "        y_proba.append(probas_[:, 1])\n",
        "        accuracy_lst.append(accuracy_score(y_test, probas_[:, 1].round()))\n",
        "        precision_lst.append(precision_score(y_test, probas_[:, 1].round()))\n",
        "        recall_lst.append(recall_score(y_test, probas_[:, 1].round()))\n",
        "        f1_lst.append(f1_score(y_test, probas_[:, 1].round()))\n",
        "\n",
        "        \n",
        "        if m_name != \"DF\" :\n",
        "          model=clf.fit(X_train_sm, y_train_sm)\n",
        "        else  :\n",
        "          model=clf\n",
        "          clf.fit(X_train_sm, y_train_sm)\n",
        "\n",
        "        probas_ = model.predict_proba(X_test_sm)\n",
        "        precision, recall, _ = precision_recall_curve(y_test_sm, probas_[:, 1])\n",
        "\n",
        "        # 画每条kfold下独立的PR Curve  -- SMOTE\n",
        "        ax2.plot(recall, precision, lw=1, alpha=0.3,\n",
        "                 label='PR fold %d (AUC = %0.2f)' % (i, average_precision_score(y_test_sm, probas_[:, 1])))\n",
        "\n",
        "        y_real_sm.append(y_test_sm)\n",
        "        y_proba_sm.append(probas_[:, 1])\n",
        "        accuracy_lst_sm.append(accuracy_score(y_test_sm, probas_[:, 1].round()))\n",
        "        precision_lst_sm.append(precision_score(y_test_sm, probas_[:, 1].round()))\n",
        "        recall_lst_sm.append(recall_score(y_test_sm, probas_[:, 1].round()))\n",
        "        f1_lst_sm.append(f1_score(y_test_sm, probas_[:, 1].round()))\n",
        "        \n",
        "\n",
        "        i += 1\n",
        " \n",
        "\n",
        "      y_real = np.concatenate(y_real)\n",
        "      y_proba = np.concatenate(y_proba)\n",
        "\n",
        "      y_real_sm = np.concatenate(y_real_sm)\n",
        "      y_proba_sm = np.concatenate(y_proba_sm)\n",
        "\n",
        "      ## 文字报告\n",
        "      print(\"#\"*25,m_name,\"#\"*25)\n",
        "      print(\"Scores Before SMOTE:\")\n",
        "      print(\"average accuracy: {:.5f}\".format(np.mean(accuracy_lst)))\n",
        "      print(\"average precision: {:.5f}\".format(np.mean(precision_lst)))\n",
        "      print(\"average recall: {:.5f}\".format(np.mean(recall_lst)))\n",
        "      print(\"average f1: {:.5f}\".format(np.mean(f1_lst)))\n",
        "\n",
        "      print(\"-\"*50)\n",
        "      print(\"Scores After SMOTE:\")\n",
        "      print(\"average accuracy: {:.5f}\".format(np.mean(accuracy_lst_sm)))\n",
        "      print(\"average precision: {:.5f}\".format(np.mean(precision_lst_sm)))\n",
        "      print(\"average recall: {:.5f}\".format(np.mean(recall_lst_sm)))\n",
        "      print(\"average f1: {:.5f}\".format(np.mean(f1_lst_sm)))\n",
        "\n",
        "\n",
        "\n",
        "\n",
        "      ##画average PRC  -- Original\n",
        "      precision, recall, thresholds_pr = precision_recall_curve(y_real, y_proba)\n",
        "      avg_pre = average_precision_score(y_real, y_proba)\n",
        "      ax1.plot(precision, recall, label = m_name+ \" average precision = {:0.3f}\".format(avg_pre), lw = 3, alpha = 0.8)\n",
        "      ax1.set_xlabel('Precision', fontsize = 14)\n",
        "      ax1.set_ylabel('Recall', fontsize = 14)\n",
        "      ax1.set_title('Cross Validated PR Curve - Original', fontsize = 18)\n",
        "      ax1.legend(loc=\"lower left\")\n",
        "\n",
        "      ##画average PRC  -- SMOTE\n",
        "      precision, recall, thresholds_pr = precision_recall_curve(y_real_sm, y_proba_sm)\n",
        "      avg_pre = average_precision_score(y_real_sm, y_proba_sm)\n",
        "      ax2.plot(precision, recall, label = m_name+ \" average precision = {:0.3f}\".format(avg_pre), lw = 3, alpha = 0.8)\n",
        "      ax2.set_xlabel('Precision', fontsize = 14)\n",
        "      ax2.set_ylabel('Recall', fontsize = 14)\n",
        "      ax2.set_title('Cross Validated PR Curve - SMOTE', fontsize = 18)\n",
        "      ax2.legend(loc=\"lower left\")\n",
        "\n",
        "      plt.show()\n"
      ],
      "execution_count": null,
      "outputs": []
    },
    {
      "cell_type": "code",
      "metadata": {
        "id": "XCKBYzul1tQw",
        "colab": {
          "base_uri": "https://localhost:8080/",
          "height": 735
        },
        "outputId": "abd1fd71-0b5a-4df1-b26f-014abd7e3d19"
      },
      "source": [
        "results_graph_individual()"
      ],
      "execution_count": null,
      "outputs": [
        {
          "output_type": "stream",
          "text": [
            "Train: [     0      1      4 ... 284804 284805 284806] Test: [     2      3     11 ... 284771 284795 284802]\n"
          ],
          "name": "stdout"
        },
        {
          "output_type": "error",
          "ename": "NameError",
          "evalue": "ignored",
          "traceback": [
            "\u001b[0;31m---------------------------------------------------------------------------\u001b[0m",
            "\u001b[0;31mNameError\u001b[0m                                 Traceback (most recent call last)",
            "\u001b[0;32m<ipython-input-36-c32f9a2f379f>\u001b[0m in \u001b[0;36m<module>\u001b[0;34m()\u001b[0m\n\u001b[0;32m----> 1\u001b[0;31m \u001b[0mresults_graph_individual\u001b[0m\u001b[0;34m(\u001b[0m\u001b[0;34m)\u001b[0m\u001b[0;34m\u001b[0m\u001b[0;34m\u001b[0m\u001b[0m\n\u001b[0m",
            "\u001b[0;32m<ipython-input-35-688678ae19e0>\u001b[0m in \u001b[0;36mresults_graph_individual\u001b[0;34m()\u001b[0m\n\u001b[1;32m     97\u001b[0m         \u001b[0my_real\u001b[0m\u001b[0;34m.\u001b[0m\u001b[0mappend\u001b[0m\u001b[0;34m(\u001b[0m\u001b[0my_test\u001b[0m\u001b[0;34m)\u001b[0m\u001b[0;34m\u001b[0m\u001b[0;34m\u001b[0m\u001b[0m\n\u001b[1;32m     98\u001b[0m         \u001b[0my_proba\u001b[0m\u001b[0;34m.\u001b[0m\u001b[0mappend\u001b[0m\u001b[0;34m(\u001b[0m\u001b[0mprobas_\u001b[0m\u001b[0;34m[\u001b[0m\u001b[0;34m:\u001b[0m\u001b[0;34m,\u001b[0m \u001b[0;36m1\u001b[0m\u001b[0;34m]\u001b[0m\u001b[0;34m)\u001b[0m\u001b[0;34m\u001b[0m\u001b[0;34m\u001b[0m\u001b[0m\n\u001b[0;32m---> 99\u001b[0;31m         \u001b[0maccuracy_lst\u001b[0m\u001b[0;34m.\u001b[0m\u001b[0mappend\u001b[0m\u001b[0;34m(\u001b[0m\u001b[0maccuracy_score\u001b[0m\u001b[0;34m(\u001b[0m\u001b[0my_test\u001b[0m\u001b[0;34m,\u001b[0m \u001b[0mprobas_\u001b[0m\u001b[0;34m[\u001b[0m\u001b[0;34m:\u001b[0m\u001b[0;34m,\u001b[0m \u001b[0;36m1\u001b[0m\u001b[0;34m]\u001b[0m\u001b[0;34m.\u001b[0m\u001b[0mround\u001b[0m\u001b[0;34m(\u001b[0m\u001b[0;34m)\u001b[0m\u001b[0;34m)\u001b[0m\u001b[0;34m)\u001b[0m\u001b[0;34m\u001b[0m\u001b[0;34m\u001b[0m\u001b[0m\n\u001b[0m\u001b[1;32m    100\u001b[0m         \u001b[0mprecision_lst\u001b[0m\u001b[0;34m.\u001b[0m\u001b[0mappend\u001b[0m\u001b[0;34m(\u001b[0m\u001b[0mprecision_score\u001b[0m\u001b[0;34m(\u001b[0m\u001b[0my_test\u001b[0m\u001b[0;34m,\u001b[0m \u001b[0mprobas_\u001b[0m\u001b[0;34m[\u001b[0m\u001b[0;34m:\u001b[0m\u001b[0;34m,\u001b[0m \u001b[0;36m1\u001b[0m\u001b[0;34m]\u001b[0m\u001b[0;34m.\u001b[0m\u001b[0mround\u001b[0m\u001b[0;34m(\u001b[0m\u001b[0;34m)\u001b[0m\u001b[0;34m)\u001b[0m\u001b[0;34m)\u001b[0m\u001b[0;34m\u001b[0m\u001b[0;34m\u001b[0m\u001b[0m\n\u001b[1;32m    101\u001b[0m         \u001b[0mrecall_lst\u001b[0m\u001b[0;34m.\u001b[0m\u001b[0mappend\u001b[0m\u001b[0;34m(\u001b[0m\u001b[0mrecall_score\u001b[0m\u001b[0;34m(\u001b[0m\u001b[0my_test\u001b[0m\u001b[0;34m,\u001b[0m \u001b[0mprobas_\u001b[0m\u001b[0;34m[\u001b[0m\u001b[0;34m:\u001b[0m\u001b[0;34m,\u001b[0m \u001b[0;36m1\u001b[0m\u001b[0;34m]\u001b[0m\u001b[0;34m.\u001b[0m\u001b[0mround\u001b[0m\u001b[0;34m(\u001b[0m\u001b[0;34m)\u001b[0m\u001b[0;34m)\u001b[0m\u001b[0;34m)\u001b[0m\u001b[0;34m\u001b[0m\u001b[0;34m\u001b[0m\u001b[0m\n",
            "\u001b[0;31mNameError\u001b[0m: name 'accuracy_score' is not defined"
          ]
        },
        {
          "output_type": "display_data",
          "data": {
            "image/png": "[encoded data removed]",
            "text/plain": [
              "<Figure size 1440x504 with 2 Axes>"
            ]
          },
          "metadata": {
            "tags": [],
            "needs_background": "light"
          }
        }
      ]
    },
    {
      "cell_type": "code",
      "metadata": {
        "id": "Mlajepp61tkX"
      },
      "source": [
        ""
      ],
      "execution_count": null,
      "outputs": []
    },
    {
      "cell_type": "code",
      "metadata": {
        "id": "J4n71G1r1yWb"
      },
      "source": [
        "#跑每个模型整合的评估图\n",
        "def results_graph_all_in_one():\n",
        "    f, (ax1, ax2) = plt.subplots(1, 2, figsize=(20, 7))\n",
        "    model_name = [\"CART\",\"RF\", \"XGB\", \"LGB\",\"DF\"]\n",
        "    \n",
        "    # Model definition\n",
        "    CARTC = DecisionTreeClassifier(criterion=\"entropy\"\n",
        "                                      ,random_state=3\n",
        "                                      ,splitter=\"random\"\n",
        "                                      ,max_depth=7)\n",
        "    RFC = RandomForestClassifier(random_state=3)\n",
        "    XGBC = XGBClassifier(\n",
        "            n_estimators=2977,\n",
        "            max_depth=13,\n",
        "            min_child_weight=1,\n",
        "            learning_rate=0.057,\n",
        "            subsample=0.82,\n",
        "            colsample_bytree=0.66,\n",
        "            gamma=1,\n",
        "            n_jobs=-1,\n",
        "            n_thread=-1,\n",
        "            tree_method='gpu_hist',  #gpu_hist is really fast\n",
        "            objective='binary:logistic')\n",
        "    LGBC = LGBMClassifier(boosting_type='gbdt',\n",
        "                              class_weight=None,\n",
        "                              colsample_bytree=0.5112837457460335,\n",
        "                              importance_type='split',\n",
        "                              learning_rate=0.02,\n",
        "                              max_depth=7,\n",
        "                              metric='None',\n",
        "                              min_child_samples=195,\n",
        "                              min_child_weight=0.01,\n",
        "                              min_split_gain=0.0,\n",
        "                              n_estimators=3000,\n",
        "                              n_jobs=4,\n",
        "                              num_leaves=44,\n",
        "                              objective=None,\n",
        "                              random_state=42,\n",
        "                              reg_alpha=2,\n",
        "                              reg_lambda=10,\n",
        "                              silent=True,\n",
        "                              subsample=0.8137506311449016,\n",
        "                              subsample_for_bin=200000,\n",
        "                              subsample_freq=0)\n",
        "    DEEPF = CascadeForestClassifier(use_predictor='True',\n",
        "                                        predictor=\"forest\",\n",
        "                                        n_bins=173,n_estimators=6,\n",
        "                                        n_trees=1000,\n",
        "                                        min_samples_leaf=1,\n",
        "                                        partial_mode='True',\n",
        "                                        delta=1.4142915557953846e-05,\n",
        "                                        verbose=1,\n",
        "                                        random_state=33)\n",
        "\n",
        "\n",
        "\n",
        "    for clf, m_name in zip([CARTC,RFC,XGBC,LGBC,DEEPF], model_name):\n",
        "      accuracy_lst = []\n",
        "      precision_lst = []\n",
        "      recall_lst = []\n",
        "      f1_lst = []\n",
        "      y_real = []\n",
        "      y_proba = []\n",
        "\n",
        "      accuracy_lst_sm = []\n",
        "      precision_lst_sm = []\n",
        "      recall_lst_sm = []\n",
        "      f1_lst_sm = []\n",
        "      y_real_sm = []\n",
        "      y_proba_sm = []\n",
        "\n",
        "      i = 0\n",
        "      sss = StratifiedKFold(n_splits=10, random_state=3, shuffle=True)\n",
        "      sm = SMOTE(random_state = 1)\n",
        "\n",
        "      # 交叉验证划分\n",
        "      for train_index, test_index in sss.split(X, y):\n",
        "        print(\"Train:\", train_index, \"Test:\", test_index)\n",
        "        X_train, X_test = X.iloc[train_index].values, X.iloc[test_index].values\n",
        "        y_train, y_test = y.iloc[train_index].values, y.iloc[test_index].values\n",
        "        X_train_sm, y_train_sm = sm.fit_sample(X_train, y_train)\n",
        "        X_test_sm = np.array(X_test)\n",
        "        y_test_sm = np.array(y_test)\n",
        "\n",
        "        if m_name != \"DF\" :\n",
        "          model=clf.fit(X_train, y_train)\n",
        "        else  :\n",
        "          model=clf\n",
        "          clf.fit(X_train, y_train)\n",
        "\n",
        "        probas_ = model.predict_proba(X_test)\n",
        "\n",
        "        y_real.append(y_test)\n",
        "        y_proba.append(probas_[:, 1])\n",
        "        accuracy_lst.append(accuracy_score(y_test, probas_[:, 1].round()))\n",
        "        precision_lst.append(precision_score(y_test, probas_[:, 1].round()))\n",
        "        recall_lst.append(recall_score(y_test, probas_[:, 1].round()))\n",
        "        f1_lst.append(f1_score(y_test, probas_[:, 1].round()))\n",
        "\n",
        "        \n",
        "        if m_name != \"DF\" :\n",
        "          model=clf.fit(X_train_sm, y_train_sm)\n",
        "        else  :\n",
        "          model=clf\n",
        "          clf.fit(X_train_sm, y_train_sm)\n",
        "\n",
        "        probas_ = model.predict_proba(X_test_sm)\n",
        "        \n",
        "\n",
        "        y_real_sm.append(y_test_sm)\n",
        "        y_proba_sm.append(probas_[:, 1])\n",
        "        accuracy_lst_sm.append(accuracy_score(y_test_sm, probas_[:, 1].round()))\n",
        "        precision_lst_sm.append(precision_score(y_test_sm, probas_[:, 1].round()))\n",
        "        recall_lst_sm.append(recall_score(y_test_sm, probas_[:, 1].round()))\n",
        "        f1_lst_sm.append(f1_score(y_test_sm, probas_[:, 1].round()))\n",
        "        \n",
        "\n",
        "        i += 1\n",
        "\n",
        "\n",
        "      y_real = np.concatenate(y_real)\n",
        "      y_proba = np.concatenate(y_proba)\n",
        "      \n",
        "\n",
        "      y_real_sm = np.concatenate(y_real_sm)\n",
        "      y_proba_sm = np.concatenate(y_proba_sm)\n",
        "\n",
        "      ## 文字报告\n",
        "      print(\"#\"*25,m_name,\"#\"*25)\n",
        "      print(\"Scores Before SMOTE:\")\n",
        "      print(\"average accuracy: {:.5f}\".format(np.mean(accuracy_lst)))\n",
        "      print(\"average precision: {:.5f}\".format(np.mean(precision_lst)))\n",
        "      print(\"average recall: {:.5f}\".format(np.mean(recall_lst)))\n",
        "      print(\"average f1: {:.5f}\".format(np.mean(f1_lst)))\n",
        "\n",
        "      print(\"-\"*50)\n",
        "      print(\"Scores After SMOTE:\")\n",
        "      print(\"average accuracy: {:.5f}\".format(np.mean(accuracy_lst_sm)))\n",
        "      print(\"average precision: {:.5f}\".format(np.mean(precision_lst_sm)))\n",
        "      print(\"average recall: {:.5f}\".format(np.mean(recall_lst_sm)))\n",
        "      print(\"average f1: {:.5f}\".format(np.mean(f1_lst_sm)))\n",
        "\n",
        "\n",
        "\n",
        "\n",
        "      ##画average PRC  -- Original\n",
        "      precision, recall, thresholds_pr = precision_recall_curve(y_real, y_proba)\n",
        "      avg_pre = average_precision_score(y_real, y_proba)\n",
        "      ax1.plot(precision, recall, label = m_name+ \" average precision = {:0.2f}\".format(avg_pre), lw = 3, alpha = 0.8)\n",
        "      ax1.set_xlabel('Precision', fontsize = 14)\n",
        "      ax1.set_ylabel('Recall', fontsize = 14)\n",
        "      ax1.set_title('Cross Validated PR Curve - Original', fontsize = 18)\n",
        "      ax1.legend(loc=\"lower left\")\n",
        "\n",
        "      ##画average PRC  -- SMOTE      \n",
        "      precision, recall, thresholds_pr = precision_recall_curve(y_real_sm, y_proba_sm)\n",
        "      avg_pre = average_precision_score(y_real_sm, y_proba_sm)\n",
        "      ax2.plot(precision, recall, label = m_name+ \" average precision = {:0.2f}\".format(avg_pre), lw = 3, alpha = 0.8)\n",
        "      ax2.set_xlabel('Precision', fontsize = 14)\n",
        "      ax2.set_ylabel('Recall', fontsize = 14)\n",
        "      ax2.set_title('Cross Validated PR Curve - SMOTE', fontsize = 18)\n",
        "      ax2.legend(loc=\"lower left\")\n",
        "      plt.tight_layout()\n",
        "    # plt.show()\n"
      ],
      "execution_count": null,
      "outputs": []
    },
    {
      "cell_type": "code",
      "metadata": {
        "id": "HU0UQPWQ1yfA",
        "colab": {
          "base_uri": "https://localhost:8080/"
        },
        "outputId": "97ce639d-e866-493c-c306-10086bd02a16"
      },
      "source": [
        "results_graph_all_in_one()"
      ],
      "execution_count": null,
      "outputs": [
        {
          "output_type": "stream",
          "text": [
            "Train: [     0      1      4 ... 284804 284805 284806] Test: [     2      3     11 ... 284771 284795 284802]\n",
            "Train: [     0      1      2 ... 284804 284805 284806] Test: [    14     15     26 ... 284750 284782 284803]\n",
            "Train: [     0      1      2 ... 284802 284803 284805] Test: [     5      7      8 ... 284798 284804 284806]\n",
            "Train: [     0      1      2 ... 284804 284805 284806] Test: [     4      6     19 ... 284784 284785 284793]\n",
            "Train: [     0      1      2 ... 284804 284805 284806] Test: [    31     85     91 ... 284753 284764 284776]\n",
            "Train: [     1      2      3 ... 284804 284805 284806] Test: [     0     10     16 ... 284775 284777 284786]\n",
            "Train: [     0      2      3 ... 284803 284804 284806] Test: [     1     20     36 ... 284797 284799 284805]\n",
            "Train: [     0      1      2 ... 284804 284805 284806] Test: [     9     17     24 ... 284796 284800 284801]\n",
            "Train: [     0      1      2 ... 284804 284805 284806] Test: [    18     35     38 ... 284745 284766 284791]\n",
            "Train: [     0      1      2 ... 284804 284805 284806] Test: [    12     13     32 ... 284769 284779 284787]\n",
            "######################### CART #########################\n",
            "Scores Before SMOTE:\n",
            "average accuracy: 0.99938\n",
            "average precision: 0.89680\n",
            "average recall: 0.72563\n",
            "average f1: 0.79904\n",
            "--------------------------------------------------\n",
            "Scores After SMOTE:\n",
            "average accuracy: 0.95563\n",
            "average precision: 0.05877\n",
            "average recall: 0.86188\n",
            "average f1: 0.10760\n",
            "Train: [     0      1      4 ... 284804 284805 284806] Test: [     2      3     11 ... 284771 284795 284802]\n",
            "Train: [     0      1      2 ... 284804 284805 284806] Test: [    14     15     26 ... 284750 284782 284803]\n",
            "Train: [     0      1      2 ... 284802 284803 284805] Test: [     5      7      8 ... 284798 284804 284806]\n",
            "Train: [     0      1      2 ... 284804 284805 284806] Test: [     4      6     19 ... 284784 284785 284793]\n",
            "Train: [     0      1      2 ... 284804 284805 284806] Test: [    31     85     91 ... 284753 284764 284776]\n",
            "Train: [     1      2      3 ... 284804 284805 284806] Test: [     0     10     16 ... 284775 284777 284786]\n",
            "Train: [     0      2      3 ... 284803 284804 284806] Test: [     1     20     36 ... 284797 284799 284805]\n",
            "Train: [     0      1      2 ... 284804 284805 284806] Test: [     9     17     24 ... 284796 284800 284801]\n",
            "Train: [     0      1      2 ... 284804 284805 284806] Test: [    18     35     38 ... 284745 284766 284791]\n",
            "Train: [     0      1      2 ... 284804 284805 284806] Test: [    12     13     32 ... 284769 284779 284787]\n",
            "######################### RF #########################\n",
            "Scores Before SMOTE:\n",
            "average accuracy: 0.99955\n",
            "average precision: 0.94924\n",
            "average recall: 0.78257\n",
            "average f1: 0.85678\n",
            "--------------------------------------------------\n",
            "Scores After SMOTE:\n",
            "average accuracy: 0.99952\n",
            "average precision: 0.88585\n",
            "average recall: 0.82927\n",
            "average f1: 0.85598\n",
            "Train: [     0      1      4 ... 284804 284805 284806] Test: [     2      3     11 ... 284771 284795 284802]\n",
            "Train: [     0      1      2 ... 284804 284805 284806] Test: [    14     15     26 ... 284750 284782 284803]\n",
            "Train: [     0      1      2 ... 284802 284803 284805] Test: [     5      7      8 ... 284798 284804 284806]\n",
            "Train: [     0      1      2 ... 284804 284805 284806] Test: [     4      6     19 ... 284784 284785 284793]\n",
            "Train: [     0      1      2 ... 284804 284805 284806] Test: [    31     85     91 ... 284753 284764 284776]\n",
            "Train: [     1      2      3 ... 284804 284805 284806] Test: [     0     10     16 ... 284775 284777 284786]\n",
            "Train: [     0      2      3 ... 284803 284804 284806] Test: [     1     20     36 ... 284797 284799 284805]\n",
            "Train: [     0      1      2 ... 284804 284805 284806] Test: [     9     17     24 ... 284796 284800 284801]\n",
            "Train: [     0      1      2 ... 284804 284805 284806] Test: [    18     35     38 ... 284745 284766 284791]\n",
            "Train: [     0      1      2 ... 284804 284805 284806] Test: [    12     13     32 ... 284769 284779 284787]\n",
            "######################### XGB #########################\n",
            "Scores Before SMOTE:\n",
            "average accuracy: 0.99960\n",
            "average precision: 0.96183\n",
            "average recall: 0.80073\n",
            "average f1: 0.87312\n",
            "--------------------------------------------------\n",
            "Scores After SMOTE:\n",
            "average accuracy: 0.99955\n",
            "average precision: 0.89519\n",
            "average recall: 0.83943\n",
            "average f1: 0.86559\n",
            "Train: [     0      1      4 ... 284804 284805 284806] Test: [     2      3     11 ... 284771 284795 284802]\n",
            "Train: [     0      1      2 ... 284804 284805 284806] Test: [    14     15     26 ... 284750 284782 284803]\n",
            "Train: [     0      1      2 ... 284802 284803 284805] Test: [     5      7      8 ... 284798 284804 284806]\n",
            "Train: [     0      1      2 ... 284804 284805 284806] Test: [     4      6     19 ... 284784 284785 284793]\n",
            "Train: [     0      1      2 ... 284804 284805 284806] Test: [    31     85     91 ... 284753 284764 284776]\n",
            "Train: [     1      2      3 ... 284804 284805 284806] Test: [     0     10     16 ... 284775 284777 284786]\n",
            "Train: [     0      2      3 ... 284803 284804 284806] Test: [     1     20     36 ... 284797 284799 284805]\n",
            "Train: [     0      1      2 ... 284804 284805 284806] Test: [     9     17     24 ... 284796 284800 284801]\n",
            "Train: [     0      1      2 ... 284804 284805 284806] Test: [    18     35     38 ... 284745 284766 284791]\n",
            "Train: [     0      1      2 ... 284804 284805 284806] Test: [    12     13     32 ... 284769 284779 284787]\n",
            "######################### LGB #########################\n",
            "Scores Before SMOTE:\n",
            "average accuracy: 0.99959\n",
            "average precision: 0.96298\n",
            "average recall: 0.79261\n",
            "average f1: 0.86765\n",
            "--------------------------------------------------\n",
            "Scores After SMOTE:\n",
            "average accuracy: 0.99948\n",
            "average precision: 0.85698\n",
            "average recall: 0.84559\n",
            "average f1: 0.84996\n",
            "Train: [     0      1      4 ... 284804 284805 284806] Test: [     2      3     11 ... 284771 284795 284802]\n",
            "[2021-04-10 10:13:14.892] Start to fit the model:\n",
            "[2021-04-10 10:13:14.892] Fitting cascade layer = 0 \n",
            "[2021-04-10 11:10:13.200] layer = 0  | Val Acc = 99.959 % | Elapsed = 3418.308 s\n",
            "[2021-04-10 11:10:13.703] Fitting cascade layer = 1 \n",
            "[2021-04-10 11:58:39.394] layer = 1  | Val Acc = 99.960 % | Elapsed = 2905.690 s\n",
            "[2021-04-10 11:58:39.394] Early stopping counter: 1 out of 2\n",
            "[2021-04-10 11:58:39.879] Fitting cascade layer = 2 \n",
            "[2021-04-10 12:43:22.927] layer = 2  | Val Acc = 99.959 % | Elapsed = 2683.047 s\n",
            "[2021-04-10 12:43:22.927] Early stopping counter: 2 out of 2\n",
            "[2021-04-10 12:43:22.928] Handling early stopping\n",
            "[2021-04-10 12:43:22.955] The optimal number of layers: 1\n",
            "[2021-04-10 12:43:23.451] Fitting the concatenated predictor: forest\n",
            "[2021-04-10 12:49:32.224] Finish building the predictor | Elapsed = 368.772 s\n",
            "[2021-04-10 12:49:32.526] Start to evalute the model:\n",
            "[2021-04-10 12:49:32.575] Evaluating cascade layer = 0 \n",
            "[2021-04-10 12:49:57.544] Evaluating the predictor\n",
            "[2021-04-10 12:50:01.736] Start to fit the model:\n",
            "[2021-04-10 12:50:01.736] Fitting cascade layer = 0 \n"
          ],
          "name": "stdout"
        }
      ]
    },
    {
      "cell_type": "markdown",
      "metadata": {
        "id": "-2I6tPtPJAb3"
      },
      "source": [
        "# characters selection"
      ]
    },
    {
      "cell_type": "code",
      "metadata": {
        "id": "vpDIGNnkJJ8w"
      },
      "source": [
        "xgb.plot_importance(xgb_model_0,max_num_features=30,importance_type='gain')"
      ],
      "execution_count": null,
      "outputs": []
    },
    {
      "cell_type": "code",
      "metadata": {
        "id": "BcpF6AyAJM_a"
      },
      "source": [
        "X_train_dropsm = np.delete(X_train_sm, [22,23,26,24,25,13,5,29], axis=1) \n",
        "X_train_drop = np.delete(X_train, [22,23,26,24,25,13,5,29], axis=1) "
      ],
      "execution_count": null,
      "outputs": []
    },
    {
      "cell_type": "code",
      "metadata": {
        "id": "9UdupFMoJc1g"
      },
      "source": [
        ""
      ],
      "execution_count": null,
      "outputs": []
    }
  ]
}